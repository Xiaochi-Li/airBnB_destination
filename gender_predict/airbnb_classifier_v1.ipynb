{
 "cells": [
  {
   "cell_type": "code",
   "execution_count": 77,
   "metadata": {
    "collapsed": true
   },
   "outputs": [],
   "source": [
    "import pandas as pd\n",
    "import stringEncoder\n",
    "import seaborn as sn\n",
    "import numpy as np\n",
    "\n",
    "from sklearn.preprocessing import Imputer\n",
    "from sklearn.utils import shuffle\n",
    "from sklearn import tree\n",
    "from sklearn import linear_model\n",
    "from sklearn.metrics import accuracy_score\n",
    "from sklearn.metrics import precision_score\n",
    "from sklearn.metrics import precision_recall_fscore_support as score\n",
    "from sklearn.metrics import confusion_matrix\n",
    "from sklearn.model_selection import train_test_split"
   ]
  },
  {
   "cell_type": "markdown",
   "metadata": {},
   "source": [
    "Import training data"
   ]
  },
  {
   "cell_type": "code",
   "execution_count": 78,
   "metadata": {
    "collapsed": false
   },
   "outputs": [],
   "source": [
    "#an training mtrix contain all newly registered airbnb users.\n",
    "df = pd.read_csv('../data/train_users_2.csv')"
   ]
  },
  {
   "cell_type": "markdown",
   "metadata": {},
   "source": [
    "import testing(predict) data"
   ]
  },
  {
   "cell_type": "code",
   "execution_count": 79,
   "metadata": {
    "collapsed": false
   },
   "outputs": [],
   "source": [
    "test_df = pd.read_csv('../data/test_users.csv')\n",
    "test_id = test_df.id\n",
    "\n",
    "test_df.drop([\"id\",\"date_first_booking\"], 1, inplace=True)\n",
    "df.drop([\"id\",\"date_first_booking\"], 1, inplace=True)\n",
    "df = shuffle(df)"
   ]
  },
  {
   "cell_type": "markdown",
   "metadata": {},
   "source": [
    "extract lable types"
   ]
  },
  {
   "cell_type": "code",
   "execution_count": 80,
   "metadata": {
    "collapsed": false
   },
   "outputs": [
    {
     "name": "stdout",
     "output_type": "stream",
     "text": [
      "['NDF', 'other', 'US', 'AU', 'DE', 'FR', 'IT', 'CA', 'GB', 'ES', 'NL', 'PT']\n"
     ]
    }
   ],
   "source": [
    "y_train = df.country_destination\n",
    "\n",
    "result_lable =[]\n",
    "for data in y_train:\n",
    "    if data not in result_lable:\n",
    "        result_lable.append(data)\n",
    "print result_lable"
   ]
  },
  {
   "cell_type": "markdown",
   "metadata": {},
   "source": [
    "Replace unknow with NaN, then fill na with most frequent data"
   ]
  },
  {
   "cell_type": "code",
   "execution_count": 85,
   "metadata": {
    "collapsed": false
   },
   "outputs": [
    {
     "data": {
      "text/plain": [
       "(213451, 14)"
      ]
     },
     "execution_count": 85,
     "metadata": {},
     "output_type": "execute_result"
    }
   ],
   "source": [
    "df.replace('-unknown-', np.nan, inplace=True)\n",
    "df = df.apply(lambda x:x.fillna(x.value_counts().index[0]))\n",
    "df.shape"
   ]
  },
  {
   "cell_type": "code",
   "execution_count": 82,
   "metadata": {
    "collapsed": false
   },
   "outputs": [
    {
     "data": {
      "text/plain": [
       "(62096, 13)"
      ]
     },
     "execution_count": 82,
     "metadata": {},
     "output_type": "execute_result"
    }
   ],
   "source": [
    "test_df.replace('-unknown-', np.nan, inplace=True)\n",
    "test_df = test_df.apply(lambda x:x.fillna(x.value_counts().index[0]))\n",
    "test_df.shape"
   ]
  },
  {
   "cell_type": "markdown",
   "metadata": {},
   "source": [
    "one hot encoding non numerical features on training set"
   ]
  },
  {
   "cell_type": "code",
   "execution_count": 66,
   "metadata": {
    "collapsed": false
   },
   "outputs": [],
   "source": [
    "# one-hot-encode all the categorical data:\n",
    "# gender signup_method language affiliate_channel \n",
    "# affiliate_provider first_affiliate_tracked signup_app\t\n",
    "# first_device_type first_browser\tcountry_destination\n",
    "oh_gender = pd.get_dummies(df.gender, prefix=\"gender\")\n",
    "oh_language = pd.get_dummies(df.language, prefix=\"language\")\n",
    "oh_signup_method = pd.get_dummies(df.signup_method, prefix=\"signup_method\")\n",
    "oh_affiliate_channel = pd.get_dummies(df.affiliate_channel, prefix=\"affiliate_channel\")\n",
    "oh_affiliate_provider = pd.get_dummies(df.affiliate_provider, prefix=\"affiliate_provider\")\n",
    "oh_first_affiliate_tracked = pd.get_dummies(df.first_affiliate_tracked, prefix=\"first_affiliate_tracked\")\n",
    "oh_signup_app = pd.get_dummies(df.signup_app, prefix=\"signup_app\")\n",
    "oh_first_device_type = pd.get_dummies(df.first_device_type, prefix=\"first_device_type\")\n",
    "oh_first_browser = pd.get_dummies(df.first_browser, prefix=\"first_browser\")\n",
    "\n",
    "#dropped date_account_created date_first_booking add back later\n",
    "df.drop(['date_account_created','gender', 'signup_method',\n",
    "         'language', 'affiliate_channel', \n",
    "         'affiliate_provider', 'first_affiliate_tracked', \n",
    "         'signup_app', 'first_device_type', 'first_browser','country_destination'],1,inplace=True)\n",
    "# from the traning set\n",
    "x_train = pd.concat([df,oh_gender, oh_language, \n",
    "                oh_signup_method, oh_affiliate_channel, \n",
    "                oh_affiliate_provider,\n",
    "                oh_first_affiliate_tracked, oh_signup_app,\n",
    "                oh_first_device_type, oh_first_browser],axis=1)"
   ]
  },
  {
   "cell_type": "code",
   "execution_count": 71,
   "metadata": {
    "collapsed": false
   },
   "outputs": [
    {
     "data": {
      "text/html": [
       "<div>\n",
       "<table border=\"1\" class=\"dataframe\">\n",
       "  <thead>\n",
       "    <tr style=\"text-align: right;\">\n",
       "      <th></th>\n",
       "      <th>timestamp_first_active</th>\n",
       "      <th>age</th>\n",
       "      <th>signup_flow</th>\n",
       "      <th>gender_FEMALE</th>\n",
       "      <th>gender_MALE</th>\n",
       "      <th>gender_OTHER</th>\n",
       "      <th>language_ca</th>\n",
       "      <th>language_cs</th>\n",
       "      <th>language_da</th>\n",
       "      <th>language_de</th>\n",
       "      <th>...</th>\n",
       "      <th>first_browser_SeaMonkey</th>\n",
       "      <th>first_browser_Silk</th>\n",
       "      <th>first_browser_SiteKiosk</th>\n",
       "      <th>first_browser_SlimBrowser</th>\n",
       "      <th>first_browser_Sogou Explorer</th>\n",
       "      <th>first_browser_Stainless</th>\n",
       "      <th>first_browser_TenFourFox</th>\n",
       "      <th>first_browser_TheWorld Browser</th>\n",
       "      <th>first_browser_Yandex.Browser</th>\n",
       "      <th>first_browser_wOSBrowser</th>\n",
       "    </tr>\n",
       "  </thead>\n",
       "  <tbody>\n",
       "    <tr>\n",
       "      <th>47238</th>\n",
       "      <td>2.010000e+13</td>\n",
       "      <td>40.0</td>\n",
       "      <td>0</td>\n",
       "      <td>1</td>\n",
       "      <td>0</td>\n",
       "      <td>0</td>\n",
       "      <td>0</td>\n",
       "      <td>0</td>\n",
       "      <td>0</td>\n",
       "      <td>0</td>\n",
       "      <td>...</td>\n",
       "      <td>0</td>\n",
       "      <td>0</td>\n",
       "      <td>0</td>\n",
       "      <td>0</td>\n",
       "      <td>0</td>\n",
       "      <td>0</td>\n",
       "      <td>0</td>\n",
       "      <td>0</td>\n",
       "      <td>0</td>\n",
       "      <td>0</td>\n",
       "    </tr>\n",
       "    <tr>\n",
       "      <th>163299</th>\n",
       "      <td>2.010000e+13</td>\n",
       "      <td>27.0</td>\n",
       "      <td>0</td>\n",
       "      <td>1</td>\n",
       "      <td>0</td>\n",
       "      <td>0</td>\n",
       "      <td>0</td>\n",
       "      <td>0</td>\n",
       "      <td>0</td>\n",
       "      <td>0</td>\n",
       "      <td>...</td>\n",
       "      <td>0</td>\n",
       "      <td>0</td>\n",
       "      <td>0</td>\n",
       "      <td>0</td>\n",
       "      <td>0</td>\n",
       "      <td>0</td>\n",
       "      <td>0</td>\n",
       "      <td>0</td>\n",
       "      <td>0</td>\n",
       "      <td>0</td>\n",
       "    </tr>\n",
       "    <tr>\n",
       "      <th>47431</th>\n",
       "      <td>2.010000e+13</td>\n",
       "      <td>29.0</td>\n",
       "      <td>0</td>\n",
       "      <td>1</td>\n",
       "      <td>0</td>\n",
       "      <td>0</td>\n",
       "      <td>0</td>\n",
       "      <td>0</td>\n",
       "      <td>0</td>\n",
       "      <td>0</td>\n",
       "      <td>...</td>\n",
       "      <td>0</td>\n",
       "      <td>0</td>\n",
       "      <td>0</td>\n",
       "      <td>0</td>\n",
       "      <td>0</td>\n",
       "      <td>0</td>\n",
       "      <td>0</td>\n",
       "      <td>0</td>\n",
       "      <td>0</td>\n",
       "      <td>0</td>\n",
       "    </tr>\n",
       "    <tr>\n",
       "      <th>64181</th>\n",
       "      <td>2.010000e+13</td>\n",
       "      <td>24.0</td>\n",
       "      <td>0</td>\n",
       "      <td>1</td>\n",
       "      <td>0</td>\n",
       "      <td>0</td>\n",
       "      <td>0</td>\n",
       "      <td>0</td>\n",
       "      <td>0</td>\n",
       "      <td>0</td>\n",
       "      <td>...</td>\n",
       "      <td>0</td>\n",
       "      <td>0</td>\n",
       "      <td>0</td>\n",
       "      <td>0</td>\n",
       "      <td>0</td>\n",
       "      <td>0</td>\n",
       "      <td>0</td>\n",
       "      <td>0</td>\n",
       "      <td>0</td>\n",
       "      <td>0</td>\n",
       "    </tr>\n",
       "    <tr>\n",
       "      <th>176839</th>\n",
       "      <td>2.010000e+13</td>\n",
       "      <td>30.0</td>\n",
       "      <td>25</td>\n",
       "      <td>1</td>\n",
       "      <td>0</td>\n",
       "      <td>0</td>\n",
       "      <td>0</td>\n",
       "      <td>0</td>\n",
       "      <td>0</td>\n",
       "      <td>0</td>\n",
       "      <td>...</td>\n",
       "      <td>0</td>\n",
       "      <td>0</td>\n",
       "      <td>0</td>\n",
       "      <td>0</td>\n",
       "      <td>0</td>\n",
       "      <td>0</td>\n",
       "      <td>0</td>\n",
       "      <td>0</td>\n",
       "      <td>0</td>\n",
       "      <td>0</td>\n",
       "    </tr>\n",
       "  </tbody>\n",
       "</table>\n",
       "<p>5 rows × 131 columns</p>\n",
       "</div>"
      ],
      "text/plain": [
       "        timestamp_first_active   age  signup_flow  gender_FEMALE  gender_MALE  \\\n",
       "47238             2.010000e+13  40.0            0              1            0   \n",
       "163299            2.010000e+13  27.0            0              1            0   \n",
       "47431             2.010000e+13  29.0            0              1            0   \n",
       "64181             2.010000e+13  24.0            0              1            0   \n",
       "176839            2.010000e+13  30.0           25              1            0   \n",
       "\n",
       "        gender_OTHER  language_ca  language_cs  language_da  language_de  \\\n",
       "47238              0            0            0            0            0   \n",
       "163299             0            0            0            0            0   \n",
       "47431              0            0            0            0            0   \n",
       "64181              0            0            0            0            0   \n",
       "176839             0            0            0            0            0   \n",
       "\n",
       "                  ...             first_browser_SeaMonkey  first_browser_Silk  \\\n",
       "47238             ...                                   0                   0   \n",
       "163299            ...                                   0                   0   \n",
       "47431             ...                                   0                   0   \n",
       "64181             ...                                   0                   0   \n",
       "176839            ...                                   0                   0   \n",
       "\n",
       "        first_browser_SiteKiosk  first_browser_SlimBrowser  \\\n",
       "47238                         0                          0   \n",
       "163299                        0                          0   \n",
       "47431                         0                          0   \n",
       "64181                         0                          0   \n",
       "176839                        0                          0   \n",
       "\n",
       "        first_browser_Sogou Explorer  first_browser_Stainless  \\\n",
       "47238                              0                        0   \n",
       "163299                             0                        0   \n",
       "47431                              0                        0   \n",
       "64181                              0                        0   \n",
       "176839                             0                        0   \n",
       "\n",
       "        first_browser_TenFourFox  first_browser_TheWorld Browser  \\\n",
       "47238                          0                               0   \n",
       "163299                         0                               0   \n",
       "47431                          0                               0   \n",
       "64181                          0                               0   \n",
       "176839                         0                               0   \n",
       "\n",
       "        first_browser_Yandex.Browser  first_browser_wOSBrowser  \n",
       "47238                              0                         0  \n",
       "163299                             0                         0  \n",
       "47431                              0                         0  \n",
       "64181                              0                         0  \n",
       "176839                             0                         0  \n",
       "\n",
       "[5 rows x 131 columns]"
      ]
     },
     "execution_count": 71,
     "metadata": {},
     "output_type": "execute_result"
    }
   ],
   "source": [
    "x_train.head(5)\n"
   ]
  },
  {
   "cell_type": "markdown",
   "metadata": {
    "collapsed": true
   },
   "source": [
    "one hot encoding on testing data"
   ]
  },
  {
   "cell_type": "code",
   "execution_count": 68,
   "metadata": {
    "collapsed": false
   },
   "outputs": [],
   "source": [
    "# one-hot-encode all the categorical data:\n",
    "# gender signup_method language affiliate_channel \n",
    "# affiliate_provider first_affiliate_tracked signup_app\t\n",
    "# first_device_type first_browser\tcountry_destination\n",
    "oh_gender = pd.get_dummies(test_df.gender, prefix=\"gender\")\n",
    "oh_language = pd.get_dummies(test_df.language, prefix=\"language\")\n",
    "oh_signup_method = pd.get_dummies(test_df.signup_method, prefix=\"signup_method\")\n",
    "oh_affiliate_channel = pd.get_dummies(test_df.affiliate_channel, prefix=\"affiliate_channel\")\n",
    "oh_affiliate_provider = pd.get_dummies(test_df.affiliate_provider, prefix=\"affiliate_provider\")\n",
    "oh_first_affiliate_tracked = pd.get_dummies(test_df.first_affiliate_tracked, prefix=\"first_affiliate_tracked\")\n",
    "oh_signup_app = pd.get_dummies(test_df.signup_app, prefix=\"signup_app\")\n",
    "oh_first_device_type = pd.get_dummies(test_df.first_device_type, prefix=\"first_device_type\")\n",
    "oh_first_browser = pd.get_dummies(test_df.first_browser, prefix=\"first_browser\")\n",
    "\n",
    "#dropped date_account_created date_first_booking add back later\n",
    "test_df.drop(['date_account_created','gender', 'signup_method',\n",
    "         'language', 'affiliate_channel', \n",
    "         'affiliate_provider', 'first_affiliate_tracked', \n",
    "         'signup_app', 'first_device_type', 'first_browser'],1,inplace=True)\n",
    "# from the traning set\n",
    "x_test = pd.concat([test_df,oh_gender, oh_language, \n",
    "                oh_signup_method, oh_affiliate_channel, \n",
    "                oh_affiliate_provider,\n",
    "                oh_first_affiliate_tracked, oh_signup_app,\n",
    "                oh_first_device_type, oh_first_browser],axis=1)"
   ]
  },
  {
   "cell_type": "code",
   "execution_count": 75,
   "metadata": {
    "collapsed": false
   },
   "outputs": [
    {
     "data": {
      "text/plain": [
       "(62096, 107)"
      ]
     },
     "execution_count": 75,
     "metadata": {},
     "output_type": "execute_result"
    }
   ],
   "source": [
    "x_test.shape"
   ]
  },
  {
   "cell_type": "markdown",
   "metadata": {},
   "source": [
    "## Radial Basis Function (RBF) kernel SVM\n",
    "\n"
   ]
  },
  {
   "cell_type": "code",
   "execution_count": null,
   "metadata": {
    "collapsed": true
   },
   "outputs": [],
   "source": [
    "from sklearn.svm import SVC\n",
    "svc = SVC(gamma=2, C=1)\n",
    "svc.fit(x_train,y_train)"
   ]
  }
 ],
 "metadata": {
  "kernelspec": {
   "display_name": "Python 2",
   "language": "python",
   "name": "python2"
  },
  "language_info": {
   "codemirror_mode": {
    "name": "ipython",
    "version": 2
   },
   "file_extension": ".py",
   "mimetype": "text/x-python",
   "name": "python",
   "nbconvert_exporter": "python",
   "pygments_lexer": "ipython2",
   "version": "2.7.13"
  }
 },
 "nbformat": 4,
 "nbformat_minor": 2
}
