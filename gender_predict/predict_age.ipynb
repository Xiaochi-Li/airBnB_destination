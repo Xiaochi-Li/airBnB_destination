{
 "cells": [
  {
   "cell_type": "markdown",
   "metadata": {},
   "source": [
    "## Age data"
   ]
  },
  {
   "cell_type": "code",
   "execution_count": 83,
   "metadata": {
    "collapsed": false
   },
   "outputs": [
    {
     "name": "stdout",
     "output_type": "stream",
     "text": [
      "(213451, 16)\n"
     ]
    }
   ],
   "source": [
    "%matplotlib inline\n",
    "import matplotlib.pyplot as plt\n",
    "import numpy as np\n",
    "import pandas as pd\n",
    "df = pd.read_csv('../data/train_users_2.csv')\n",
    "print df.shape"
   ]
  },
  {
   "cell_type": "markdown",
   "metadata": {},
   "source": [
    "### Show how many age data are missing in pie chart"
   ]
  },
  {
   "cell_type": "code",
   "execution_count": 84,
   "metadata": {
    "collapsed": false
   },
   "outputs": [
    {
     "data": {
      "text/plain": [
       "<matplotlib.text.Text at 0x1172b1890>"
      ]
     },
     "execution_count": 84,
     "metadata": {},
     "output_type": "execute_result"
    },
    {
     "data": {
      "image/png": "[encoded data removed]",
      "text/plain": [
       "<matplotlib.figure.Figure at 0x11a6e3150>"
      ]
     },
     "metadata": {},
     "output_type": "display_data"
    }
   ],
   "source": [
    "missing_age_count = df.age.isnull().sum()\n",
    "record_age_count = df.age.shape[0] - missing_age_count\n",
    "var = [missing_age_count, record_age_count]\n",
    "lable = ['missing age', 'record age']\n",
    "fig1, ax1 = plt.subplots()\n",
    "ax1.pie(var,labels = lable,autopct='%1.1f%%')\n",
    "ax1.axis('equal')\n",
    "plt.title('Age missing')"
   ]
  },
  {
   "cell_type": "markdown",
   "metadata": {},
   "source": [
    "### Analyze age Distribution"
   ]
  },
  {
   "cell_type": "code",
   "execution_count": 85,
   "metadata": {
    "collapsed": false
   },
   "outputs": [
    {
     "data": {
      "image/png": "[encoded data removed]",
      "text/plain": [
       "<matplotlib.figure.Figure at 0x117172e10>"
      ]
     },
     "metadata": {},
     "output_type": "display_data"
    }
   ],
   "source": [
    "plt.hist(df.age.dropna()) \n",
    "plt.title('Age distribution')\n",
    "plt.xlabel('Age')\n",
    "plt.ylabel(\"count\")\n",
    "plt.show()"
   ]
  },
  {
   "cell_type": "markdown",
   "metadata": {},
   "source": [
    "There are some outliers in age distribution. Need to delete ange > 123, then plot again"
   ]
  },
  {
   "cell_type": "code",
   "execution_count": 86,
   "metadata": {
    "collapsed": false
   },
   "outputs": [
    {
     "data": {
      "text/plain": [
       "count     781.000000\n",
       "mean     2006.308579\n",
       "std        95.711349\n",
       "min       132.000000\n",
       "25%      2014.000000\n",
       "50%      2014.000000\n",
       "75%      2014.000000\n",
       "max      2014.000000\n",
       "Name: age, dtype: float64"
      ]
     },
     "execution_count": 86,
     "metadata": {},
     "output_type": "execute_result"
    }
   ],
   "source": [
    "df[df.age > 122]['age'].describe()"
   ]
  },
  {
   "cell_type": "markdown",
   "metadata": {},
   "source": [
    "The world largest age is 122 in record. But there are 781 are greater than it. And some of ages are 2014. The needs to be set to nan"
   ]
  },
  {
   "cell_type": "code",
   "execution_count": 87,
   "metadata": {
    "collapsed": false
   },
   "outputs": [
    {
     "data": {
      "image/png": "[encoded data removed]",
      "text/plain": [
       "<matplotlib.figure.Figure at 0x11716b8d0>"
      ]
     },
     "metadata": {},
     "output_type": "display_data"
    }
   ],
   "source": [
    "df.loc[df.age > 122, 'age'] = np.nan\n",
    "plt.hist(df.age.dropna(),bins =30) \n",
    "plt.title('Age distribution')\n",
    "plt.xlabel('Age')\n",
    "plt.ylabel(\"count\")\n",
    "plt.show()"
   ]
  },
  {
   "cell_type": "code",
   "execution_count": 88,
   "metadata": {
    "collapsed": false
   },
   "outputs": [
    {
     "name": "stdout",
     "output_type": "stream",
     "text": [
      "            id date_account_created  timestamp_first_active  \\\n",
      "0   gxn3p5htnn              28/6/10            2.010000e+13   \n",
      "1   820tgsjxq7              25/5/11            2.010000e+13   \n",
      "2   4ft3gnwmtx              28/9/10            2.010000e+13   \n",
      "3   bjjt8pjhuk              5/12/11            2.010000e+13   \n",
      "4   87mebub9p4              14/9/10            2.010000e+13   \n",
      "5   osr2jwljor               1/1/10            2.010000e+13   \n",
      "6   lsw9q7uk0j               2/1/10            2.010000e+13   \n",
      "7   0d01nltbrs               3/1/10            2.010000e+13   \n",
      "8   a1vcnhxeij               4/1/10            2.010000e+13   \n",
      "9   6uh8zyj2gn               4/1/10            2.010000e+13   \n",
      "10  yuuqmid2rp               4/1/10            2.010000e+13   \n",
      "11  om1ss59ys8               5/1/10            2.010000e+13   \n",
      "12  k6np330cm1               5/1/10            2.010000e+13   \n",
      "13  dy3rgx56cu               5/1/10            2.010000e+13   \n",
      "14  ju3h98ch3w               7/1/10            2.010000e+13   \n",
      "15  v4d5rl22px               7/1/10            2.010000e+13   \n",
      "16  2dwbwkx056               7/1/10            2.010000e+13   \n",
      "17  frhre329au               7/1/10            2.010000e+13   \n",
      "18  cxlg85pg1r               8/1/10            2.010000e+13   \n",
      "19  gdka1q5ktd              10/1/10            2.010000e+13   \n",
      "\n",
      "   date_first_booking     gender   age signup_method  signup_flow language  \\\n",
      "0                 NaN  -unknown-   NaN      facebook            0       en   \n",
      "1                 NaN       MALE  38.0      facebook            0       en   \n",
      "2              2/8/10     FEMALE  56.0         basic            3       en   \n",
      "3              8/9/12     FEMALE  42.0      facebook            0       en   \n",
      "4             18/2/10  -unknown-  41.0         basic            0       en   \n",
      "5              2/1/10  -unknown-   NaN         basic            0       en   \n",
      "6              5/1/10     FEMALE  46.0         basic            0       en   \n",
      "7             13/1/10     FEMALE  47.0         basic            0       en   \n",
      "8             29/7/10     FEMALE  50.0         basic            0       en   \n",
      "9              4/1/10  -unknown-  46.0         basic            0       en   \n",
      "10             6/1/10     FEMALE  36.0         basic            0       en   \n",
      "11                NaN     FEMALE  47.0         basic            0       en   \n",
      "12            18/1/10  -unknown-   NaN         basic            0       en   \n",
      "13                NaN     FEMALE  37.0         basic            0       en   \n",
      "14                NaN     FEMALE  36.0         basic            0       en   \n",
      "15             8/1/10     FEMALE  33.0         basic            0       en   \n",
      "16                NaN  -unknown-   NaN         basic            0       en   \n",
      "17             9/1/10  -unknown-  31.0         basic            0       en   \n",
      "18                NaN  -unknown-   NaN         basic            0       en   \n",
      "19            10/1/10     FEMALE  29.0         basic            0       en   \n",
      "\n",
      "   affiliate_channel affiliate_provider first_affiliate_tracked signup_app  \\\n",
      "0             direct             direct               untracked        Web   \n",
      "1                seo             google               untracked        Web   \n",
      "2             direct             direct               untracked        Web   \n",
      "3             direct             direct               untracked        Web   \n",
      "4             direct             direct               untracked        Web   \n",
      "5              other              other                     omg        Web   \n",
      "6              other         craigslist               untracked        Web   \n",
      "7             direct             direct                     omg        Web   \n",
      "8              other         craigslist               untracked        Web   \n",
      "9              other         craigslist                     omg        Web   \n",
      "10             other         craigslist               untracked        Web   \n",
      "11             other         craigslist               untracked        Web   \n",
      "12            direct             direct                     NaN        Web   \n",
      "13             other         craigslist                  linked        Web   \n",
      "14             other         craigslist               untracked        Web   \n",
      "15            direct             direct               untracked        Web   \n",
      "16             other         craigslist                     NaN        Web   \n",
      "17             other         craigslist                     NaN        Web   \n",
      "18               seo           facebook                     NaN        Web   \n",
      "19            direct             direct               untracked        Web   \n",
      "\n",
      "   first_device_type  first_browser country_destination  \n",
      "0        Mac Desktop         Chrome                 NDF  \n",
      "1        Mac Desktop         Chrome                 NDF  \n",
      "2    Windows Desktop             IE                  US  \n",
      "3        Mac Desktop        Firefox               other  \n",
      "4        Mac Desktop         Chrome                  US  \n",
      "5        Mac Desktop         Chrome                  US  \n",
      "6        Mac Desktop         Safari                  US  \n",
      "7        Mac Desktop         Safari                  US  \n",
      "8        Mac Desktop         Safari                  US  \n",
      "9        Mac Desktop        Firefox                  US  \n",
      "10       Mac Desktop        Firefox                  US  \n",
      "11            iPhone      -unknown-                 NDF  \n",
      "12     Other/Unknown      -unknown-                  FR  \n",
      "13       Mac Desktop        Firefox                 NDF  \n",
      "14            iPhone  Mobile Safari                 NDF  \n",
      "15   Windows Desktop         Chrome                  CA  \n",
      "16     Other/Unknown      -unknown-                 NDF  \n",
      "17     Other/Unknown      -unknown-                  US  \n",
      "18     Other/Unknown      -unknown-                 NDF  \n",
      "19       Mac Desktop         Chrome                  FR  \n"
     ]
    }
   ],
   "source": [
    "print df.head(20)"
   ]
  },
  {
   "cell_type": "markdown",
   "metadata": {},
   "source": [
    "### Train a modle to get the the missing age\n",
    "relavent feature can be: date_account_created signup_method signup_flow language affiliate_channel affiliate_provider first_affiliate_tracked signup_app first_device_type first_browser"
   ]
  },
  {
   "cell_type": "code",
   "execution_count": 89,
   "metadata": {
    "collapsed": false
   },
   "outputs": [],
   "source": [
    "df.drop(['id','country_destination','date_first_booking'],1,inplace=True)\n"
   ]
  },
  {
   "cell_type": "markdown",
   "metadata": {},
   "source": [
    "Delete the row has NaN data, split feature and lable"
   ]
  },
  {
   "cell_type": "code",
   "execution_count": 90,
   "metadata": {
    "collapsed": false
   },
   "outputs": [
    {
     "name": "stderr",
     "output_type": "stream",
     "text": [
      "/Users/lixiaochi/anaconda/lib/python2.7/site-packages/ipykernel/__main__.py:4: SettingWithCopyWarning: \n",
      "A value is trying to be set on a copy of a slice from a DataFrame\n",
      "\n",
      "See the caveats in the documentation: http://pandas.pydata.org/pandas-docs/stable/indexing.html#indexing-view-versus-copy\n"
     ]
    }
   ],
   "source": [
    "df.replace('-unknown-', np.nan, inplace=True)\n",
    "age_relat_data = df.dropna()\n",
    "Y = age_relat_data.age\n",
    "age_relat_data.drop(['age'],1,inplace=True)\n"
   ]
  },
  {
   "cell_type": "code",
   "execution_count": 91,
   "metadata": {
    "collapsed": false
   },
   "outputs": [
    {
     "data": {
      "text/plain": [
       "(112564,)"
      ]
     },
     "execution_count": 91,
     "metadata": {},
     "output_type": "execute_result"
    }
   ],
   "source": [
    "Y.shape"
   ]
  },
  {
   "cell_type": "code",
   "execution_count": 92,
   "metadata": {
    "collapsed": false
   },
   "outputs": [
    {
     "data": {
      "image/png": "[encoded data removed]",
      "text/plain": [
       "<matplotlib.figure.Figure at 0x115446450>"
      ]
     },
     "metadata": {},
     "output_type": "display_data"
    }
   ],
   "source": [
    "plt.hist(Y,bins =100) \n",
    "plt.title('Age distribution')\n",
    "plt.xlabel('Age')\n",
    "plt.ylabel(\"count\")\n",
    "plt.show()"
   ]
  },
  {
   "cell_type": "markdown",
   "metadata": {},
   "source": [
    "One hot encoding all age related data"
   ]
  },
  {
   "cell_type": "code",
   "execution_count": 93,
   "metadata": {
    "collapsed": false
   },
   "outputs": [],
   "source": [
    "oh_language = pd.get_dummies(age_relat_data.language, prefix=\"language\")\n",
    "oh_signup_method = pd.get_dummies(age_relat_data.signup_method, prefix=\"signup_method\")\n",
    "oh_affiliate_channel = pd.get_dummies(age_relat_data.affiliate_channel, prefix=\"affiliate_channel\")\n",
    "oh_affiliate_provider = pd.get_dummies(age_relat_data.affiliate_provider, prefix=\"affiliate_provider\")\n",
    "oh_first_affiliate_tracked = pd.get_dummies(age_relat_data.first_affiliate_tracked, prefix=\"first_affiliate_tracked\")\n",
    "oh_signup_app = pd.get_dummies(age_relat_data.signup_app, prefix=\"signup_app\")\n",
    "oh_first_device_type = pd.get_dummies(age_relat_data.first_device_type, prefix=\"first_device_type\")\n",
    "oh_first_browser = pd.get_dummies(age_relat_data.first_browser, prefix=\"first_browser\")\n",
    "# age_relat_data.drop(['date_account_created', 'signup_method', 'signup_flow',\n",
    "#          'language', 'affiliate_channel', \n",
    "#          'affiliate_provider', 'first_affiliate_tracked', \n",
    "#          'signup_app', 'first_device_type', 'first_browser'],1,inplace=True)\n",
    "age_relat_data = pd.concat([oh_language,oh_signup_method,\n",
    "                      oh_affiliate_channel,oh_affiliate_provider,\n",
    "                     oh_first_affiliate_tracked,oh_signup_app,\n",
    "                     oh_first_device_type,oh_first_browser],axis=1)"
   ]
  },
  {
   "cell_type": "markdown",
   "metadata": {},
   "source": [
    "Train a model to predict age using SGDRegresion"
   ]
  },
  {
   "cell_type": "code",
   "execution_count": 94,
   "metadata": {
    "collapsed": false
   },
   "outputs": [
    {
     "data": {
      "text/plain": [
       "(112564, 113)"
      ]
     },
     "execution_count": 94,
     "metadata": {},
     "output_type": "execute_result"
    }
   ],
   "source": [
    "age_relat_data.shape"
   ]
  },
  {
   "cell_type": "markdown",
   "metadata": {},
   "source": [
    "## SGDRegression to predict age"
   ]
  },
  {
   "cell_type": "code",
   "execution_count": 95,
   "metadata": {
    "collapsed": false
   },
   "outputs": [
    {
     "data": {
      "text/plain": [
       "SGDRegressor(alpha=0.0001, average=False, epsilon=0.1, eta0=0.01,\n",
       "       fit_intercept=True, l1_ratio=0.15, learning_rate='invscaling',\n",
       "       loss='squared_loss', n_iter=5, penalty='l2', power_t=0.25,\n",
       "       random_state=None, shuffle=True, verbose=0, warm_start=False)"
      ]
     },
     "execution_count": 95,
     "metadata": {},
     "output_type": "execute_result"
    }
   ],
   "source": [
    "import numpy as np\n",
    "from sklearn import linear_model\n",
    "from sklearn.model_selection import train_test_split\n",
    "\n",
    "sgdr = linear_model.SGDRegressor()\n",
    "x_train, x_test, y_train, y_test = train_test_split(age_relat_data, Y, test_size=0.3)\n",
    "sgdr.fit(x_train, y_train)"
   ]
  },
  {
   "cell_type": "code",
   "execution_count": 96,
   "metadata": {
    "collapsed": false
   },
   "outputs": [
    {
     "name": "stdout",
     "output_type": "stream",
     "text": [
      "[ 36.39432148  37.00325817  36.18388671 ...,  39.10138624  31.60767747\n",
      "  42.36117806]\n"
     ]
    }
   ],
   "source": [
    "from sklearn.metrics import r2_score\n",
    "y_pred= sgdr.predict(x_test)\n",
    "print y_pred\n",
    "r2_score"
   ]
  },
  {
   "cell_type": "code",
   "execution_count": 97,
   "metadata": {
    "collapsed": false
   },
   "outputs": [
    {
     "name": "stdout",
     "output_type": "stream",
     "text": [
      "21236    29.0\n",
      "40120    29.0\n",
      "57310    51.0\n",
      "Name: age, dtype: float64\n"
     ]
    }
   ],
   "source": [
    "print y_test.head(3)"
   ]
  },
  {
   "cell_type": "markdown",
   "metadata": {},
   "source": [
    "##  classification to predict age"
   ]
  },
  {
   "cell_type": "code",
   "execution_count": 98,
   "metadata": {
    "collapsed": false
   },
   "outputs": [
    {
     "data": {
      "text/plain": [
       "SGDClassifier(alpha=0.0001, average=False, class_weight=None, epsilon=0.1,\n",
       "       eta0=0.0, fit_intercept=True, l1_ratio=0.15,\n",
       "       learning_rate='optimal', loss='log', n_iter=5, n_jobs=1,\n",
       "       penalty='l2', power_t=0.5, random_state=None, shuffle=True,\n",
       "       verbose=0, warm_start=False)"
      ]
     },
     "execution_count": 98,
     "metadata": {},
     "output_type": "execute_result"
    }
   ],
   "source": [
    "sgdc = linear_model.SGDClassifier(loss=\"log\", penalty=\"l2\")\n",
    "sgdc.fit(x_train, y_train)"
   ]
  },
  {
   "cell_type": "code",
   "execution_count": 102,
   "metadata": {
    "collapsed": false
   },
   "outputs": [
    {
     "name": "stdout",
     "output_type": "stream",
     "text": [
      "precision: [ 0.          0.          0.          0.          0.          0.          0.\n",
      "  0.          0.          0.          0.          0.          0.03921569\n",
      "  0.05182927  0.06766917  0.04953502  0.07446809  0.07142857  0.03833333\n",
      "  0.03645833  0.05180748  0.06338028  0.034375    0.03210464  0.05714286\n",
      "  0.0265544   0.03139428  0.          0.          0.00609756  0.          0.\n",
      "  0.          0.          0.          0.07692308  0.          0.          0.\n",
      "  0.          0.02276708  0.          0.          0.          0.          0.\n",
      "  0.0155642   0.          0.          0.          0.          0.          0.\n",
      "  0.          0.          0.          0.          0.          0.          0.\n",
      "  0.          0.          0.          0.          0.          0.          0.\n",
      "  0.          0.          0.          0.          0.          0.          0.\n",
      "  0.          0.          0.          0.          0.          0.          0.\n",
      "  0.          0.          0.          0.          0.          0.          0.\n",
      "  0.          0.          0.          0.          0.          0.          0.\n",
      "  0.          0.          0.          0.          0.          0.          0.        ]\n",
      "0.0307248244544\n",
      "0.0457802783536\n"
     ]
    }
   ],
   "source": [
    "#calulate overall Scoring .\n",
    "from sklearn.metrics import precision_recall_fscore_support as score\n",
    "from sklearn.metrics import accuracy_score\n",
    "from sklearn.metrics import precision_score\n",
    "y_predict = sgdc.predict(x_test)\n",
    "precision, recall, fscore, support = score(y_test, y_predict)\n",
    "print('precision: {}'.format(precision))\n",
    "print precision_score(y_test, y_predict, average='weighted') \n",
    "print accuracy_score(y_test, y_predict)"
   ]
  },
  {
   "cell_type": "code",
   "execution_count": 100,
   "metadata": {
    "collapsed": false
   },
   "outputs": [
    {
     "data": {
      "image/png": "[encoded data removed]",
      "text/plain": [
       "<matplotlib.figure.Figure at 0x120a05350>"
      ]
     },
     "metadata": {},
     "output_type": "display_data"
    }
   ],
   "source": [
    "plt.hist(y_predict,bins =100) \n",
    "plt.title('Age distribution')\n",
    "plt.xlabel('Age')\n",
    "plt.ylabel(\"count\")\n",
    "plt.show()"
   ]
  },
  {
   "cell_type": "code",
   "execution_count": 101,
   "metadata": {
    "collapsed": false
   },
   "outputs": [
    {
     "data": {
      "image/png": "[encoded data removed]",
      "text/plain": [
       "<matplotlib.figure.Figure at 0x120a051d0>"
      ]
     },
     "metadata": {},
     "output_type": "display_data"
    }
   ],
   "source": [
    "plt.hist(y_test,bins =100) \n",
    "plt.title('Age distribution')\n",
    "plt.xlabel('Age')\n",
    "plt.ylabel(\"count\")\n",
    "plt.show()"
   ]
  },
  {
   "cell_type": "code",
   "execution_count": null,
   "metadata": {
    "collapsed": true
   },
   "outputs": [],
   "source": []
  }
 ],
 "metadata": {
  "kernelspec": {
   "display_name": "Python 2",
   "language": "python",
   "name": "python2"
  },
  "language_info": {
   "codemirror_mode": {
    "name": "ipython",
    "version": 2
   },
   "file_extension": ".py",
   "mimetype": "text/x-python",
   "name": "python",
   "nbconvert_exporter": "python",
   "pygments_lexer": "ipython2",
   "version": "2.7.13"
  }
 },
 "nbformat": 4,
 "nbformat_minor": 2
}
