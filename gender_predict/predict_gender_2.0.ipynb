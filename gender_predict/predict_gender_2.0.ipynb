{
 "cells": [
  {
   "cell_type": "markdown",
   "metadata": {},
   "source": [
    "## Genderdata"
   ]
  },
  {
   "cell_type": "code",
   "execution_count": 1,
   "metadata": {
    "collapsed": false
   },
   "outputs": [
    {
     "name": "stdout",
     "output_type": "stream",
     "text": [
      "(8981, 378)\n"
     ]
    }
   ],
   "source": [
    "%matplotlib inline\n",
    "import matplotlib.pyplot as plt\n",
    "import numpy as np\n",
    "import pandas as pd\n",
    "from imblearn.under_sampling import NearMiss\n",
    "df = pd.read_csv('../data/session_train_data.csv')\n",
    "print df.shape"
   ]
  },
  {
   "cell_type": "code",
   "execution_count": 2,
   "metadata": {
    "collapsed": false
   },
   "outputs": [
    {
     "data": {
      "text/html": [
       "<div>\n",
       "<table border=\"1\" class=\"dataframe\">\n",
       "  <thead>\n",
       "    <tr style=\"text-align: right;\">\n",
       "      <th></th>\n",
       "      <th>id</th>\n",
       "      <th>date_account_created</th>\n",
       "      <th>timestamp_first_active</th>\n",
       "      <th>age</th>\n",
       "      <th>signup_method</th>\n",
       "      <th>signup_flow</th>\n",
       "      <th>language</th>\n",
       "      <th>affiliate_channel</th>\n",
       "      <th>affiliate_provider</th>\n",
       "      <th>first_affiliate_tracked</th>\n",
       "      <th>...</th>\n",
       "      <th>device_type_Windows Desktop</th>\n",
       "      <th>device_type_Windows Phone</th>\n",
       "      <th>device_type_iPad Tablet</th>\n",
       "      <th>device_type_iPhone</th>\n",
       "      <th>device_type_iPodtouch</th>\n",
       "      <th>secs_elapsed_max</th>\n",
       "      <th>secs_elapsed_mean</th>\n",
       "      <th>secs_elapsed_min</th>\n",
       "      <th>secs_elapsed_std</th>\n",
       "      <th>secs_elapsed_sum</th>\n",
       "    </tr>\n",
       "    <tr>\n",
       "      <th>gender</th>\n",
       "      <th></th>\n",
       "      <th></th>\n",
       "      <th></th>\n",
       "      <th></th>\n",
       "      <th></th>\n",
       "      <th></th>\n",
       "      <th></th>\n",
       "      <th></th>\n",
       "      <th></th>\n",
       "      <th></th>\n",
       "      <th></th>\n",
       "      <th></th>\n",
       "      <th></th>\n",
       "      <th></th>\n",
       "      <th></th>\n",
       "      <th></th>\n",
       "      <th></th>\n",
       "      <th></th>\n",
       "      <th></th>\n",
       "      <th></th>\n",
       "      <th></th>\n",
       "    </tr>\n",
       "  </thead>\n",
       "  <tbody>\n",
       "    <tr>\n",
       "      <th>-unknown-</th>\n",
       "      <td>4460</td>\n",
       "      <td>4460</td>\n",
       "      <td>4460</td>\n",
       "      <td>778</td>\n",
       "      <td>4460</td>\n",
       "      <td>4460</td>\n",
       "      <td>4460</td>\n",
       "      <td>4460</td>\n",
       "      <td>4460</td>\n",
       "      <td>4436</td>\n",
       "      <td>...</td>\n",
       "      <td>4460</td>\n",
       "      <td>4460</td>\n",
       "      <td>4460</td>\n",
       "      <td>4460</td>\n",
       "      <td>4460</td>\n",
       "      <td>4460</td>\n",
       "      <td>4460</td>\n",
       "      <td>4460</td>\n",
       "      <td>4460</td>\n",
       "      <td>4460</td>\n",
       "    </tr>\n",
       "    <tr>\n",
       "      <th>FEMALE</th>\n",
       "      <td>2371</td>\n",
       "      <td>2371</td>\n",
       "      <td>2371</td>\n",
       "      <td>2256</td>\n",
       "      <td>2371</td>\n",
       "      <td>2371</td>\n",
       "      <td>2371</td>\n",
       "      <td>2371</td>\n",
       "      <td>2371</td>\n",
       "      <td>2357</td>\n",
       "      <td>...</td>\n",
       "      <td>2371</td>\n",
       "      <td>2371</td>\n",
       "      <td>2371</td>\n",
       "      <td>2371</td>\n",
       "      <td>2371</td>\n",
       "      <td>2371</td>\n",
       "      <td>2371</td>\n",
       "      <td>2371</td>\n",
       "      <td>2371</td>\n",
       "      <td>2371</td>\n",
       "    </tr>\n",
       "    <tr>\n",
       "      <th>MALE</th>\n",
       "      <td>2140</td>\n",
       "      <td>2140</td>\n",
       "      <td>2140</td>\n",
       "      <td>2036</td>\n",
       "      <td>2140</td>\n",
       "      <td>2140</td>\n",
       "      <td>2140</td>\n",
       "      <td>2140</td>\n",
       "      <td>2140</td>\n",
       "      <td>2116</td>\n",
       "      <td>...</td>\n",
       "      <td>2140</td>\n",
       "      <td>2140</td>\n",
       "      <td>2140</td>\n",
       "      <td>2140</td>\n",
       "      <td>2140</td>\n",
       "      <td>2140</td>\n",
       "      <td>2140</td>\n",
       "      <td>2140</td>\n",
       "      <td>2140</td>\n",
       "      <td>2140</td>\n",
       "    </tr>\n",
       "    <tr>\n",
       "      <th>OTHER</th>\n",
       "      <td>10</td>\n",
       "      <td>10</td>\n",
       "      <td>10</td>\n",
       "      <td>9</td>\n",
       "      <td>10</td>\n",
       "      <td>10</td>\n",
       "      <td>10</td>\n",
       "      <td>10</td>\n",
       "      <td>10</td>\n",
       "      <td>10</td>\n",
       "      <td>...</td>\n",
       "      <td>10</td>\n",
       "      <td>10</td>\n",
       "      <td>10</td>\n",
       "      <td>10</td>\n",
       "      <td>10</td>\n",
       "      <td>10</td>\n",
       "      <td>10</td>\n",
       "      <td>10</td>\n",
       "      <td>10</td>\n",
       "      <td>10</td>\n",
       "    </tr>\n",
       "  </tbody>\n",
       "</table>\n",
       "<p>4 rows × 377 columns</p>\n",
       "</div>"
      ],
      "text/plain": [
       "             id  date_account_created  timestamp_first_active   age  \\\n",
       "gender                                                                \n",
       "-unknown-  4460                  4460                    4460   778   \n",
       "FEMALE     2371                  2371                    2371  2256   \n",
       "MALE       2140                  2140                    2140  2036   \n",
       "OTHER        10                    10                      10     9   \n",
       "\n",
       "           signup_method  signup_flow  language  affiliate_channel  \\\n",
       "gender                                                               \n",
       "-unknown-           4460         4460      4460               4460   \n",
       "FEMALE              2371         2371      2371               2371   \n",
       "MALE                2140         2140      2140               2140   \n",
       "OTHER                 10           10        10                 10   \n",
       "\n",
       "           affiliate_provider  first_affiliate_tracked        ...         \\\n",
       "gender                                                        ...          \n",
       "-unknown-                4460                     4436        ...          \n",
       "FEMALE                   2371                     2357        ...          \n",
       "MALE                     2140                     2116        ...          \n",
       "OTHER                      10                       10        ...          \n",
       "\n",
       "           device_type_Windows Desktop  device_type_Windows Phone  \\\n",
       "gender                                                              \n",
       "-unknown-                         4460                       4460   \n",
       "FEMALE                            2371                       2371   \n",
       "MALE                              2140                       2140   \n",
       "OTHER                               10                         10   \n",
       "\n",
       "           device_type_iPad Tablet  device_type_iPhone  device_type_iPodtouch  \\\n",
       "gender                                                                          \n",
       "-unknown-                     4460                4460                   4460   \n",
       "FEMALE                        2371                2371                   2371   \n",
       "MALE                          2140                2140                   2140   \n",
       "OTHER                           10                  10                     10   \n",
       "\n",
       "           secs_elapsed_max  secs_elapsed_mean  secs_elapsed_min  \\\n",
       "gender                                                             \n",
       "-unknown-              4460               4460              4460   \n",
       "FEMALE                 2371               2371              2371   \n",
       "MALE                   2140               2140              2140   \n",
       "OTHER                    10                 10                10   \n",
       "\n",
       "           secs_elapsed_std  secs_elapsed_sum  \n",
       "gender                                         \n",
       "-unknown-              4460              4460  \n",
       "FEMALE                 2371              2371  \n",
       "MALE                   2140              2140  \n",
       "OTHER                    10                10  \n",
       "\n",
       "[4 rows x 377 columns]"
      ]
     },
     "execution_count": 2,
     "metadata": {},
     "output_type": "execute_result"
    }
   ],
   "source": [
    "genders_count = df.groupby(['gender']).count()\n",
    "genders_count"
   ]
  },
  {
   "cell_type": "code",
   "execution_count": 3,
   "metadata": {
    "collapsed": false
   },
   "outputs": [
    {
     "data": {
      "text/plain": [
       "(3876, 378)"
      ]
     },
     "execution_count": 3,
     "metadata": {},
     "output_type": "execute_result"
    }
   ],
   "source": [
    "# replace all unknown data with non\n",
    "df.replace('-unknown-', np.nan, inplace=True)\n",
    "\n",
    "df = df.dropna()\n",
    "#drop all nan data\n",
    "\n",
    "df.shape"
   ]
  },
  {
   "cell_type": "code",
   "execution_count": 4,
   "metadata": {
    "collapsed": false
   },
   "outputs": [
    {
     "data": {
      "text/plain": [
       "count    3876.000000\n",
       "mean       42.558308\n",
       "std       110.717827\n",
       "min        15.000000\n",
       "25%        27.000000\n",
       "50%        32.000000\n",
       "75%        42.000000\n",
       "max      2014.000000\n",
       "Name: age, dtype: float64"
      ]
     },
     "execution_count": 4,
     "metadata": {},
     "output_type": "execute_result"
    }
   ],
   "source": [
    "df.age.describe()"
   ]
  },
  {
   "cell_type": "markdown",
   "metadata": {},
   "source": [
    "std 155, min 1, max 2014. must be some wrong data\n",
    "#found some ages are unusualnlikely to traveal.\n",
    "1. age >= 1924, there are some typos. people put date of birth to age\n",
    "2. some ages > 100 or < 17 can't to u"
   ]
  },
  {
   "cell_type": "code",
   "execution_count": 5,
   "metadata": {
    "collapsed": false
   },
   "outputs": [
    {
     "data": {
      "image/png": "[encoded data removed]",
      "text/plain": [
       "<matplotlib.figure.Figure at 0x10b171890>"
      ]
     },
     "metadata": {},
     "output_type": "display_data"
    },
    {
     "data": {
      "text/plain": [
       "(3864, 378)"
      ]
     },
     "execution_count": 5,
     "metadata": {},
     "output_type": "execute_result"
    }
   ],
   "source": [
    "#fill all unsual ages to nan\n",
    "df = df.loc[df['age']<120]\n",
    "df = df.loc[df['age']>12]\n",
    "plt.hist(df.age.dropna(),bins =30) \n",
    "plt.title('Age distribution')\n",
    "plt.xlabel('Age')\n",
    "plt.ylabel(\"count\")\n",
    "plt.show()\n",
    "df.shape"
   ]
  },
  {
   "cell_type": "markdown",
   "metadata": {},
   "source": [
    "Found population around age 30 is signifgent higher than others"
   ]
  },
  {
   "cell_type": "markdown",
   "metadata": {},
   "source": [
    "# Plot gender features with other feature to get insight for feature selection"
   ]
  },
  {
   "cell_type": "code",
   "execution_count": 6,
   "metadata": {
    "collapsed": false
   },
   "outputs": [
    {
     "data": {
      "text/html": [
       "<div>\n",
       "<table border=\"1\" class=\"dataframe\">\n",
       "  <thead>\n",
       "    <tr style=\"text-align: right;\">\n",
       "      <th></th>\n",
       "      <th>id</th>\n",
       "      <th>date_account_created</th>\n",
       "      <th>timestamp_first_active</th>\n",
       "      <th>gender</th>\n",
       "      <th>age</th>\n",
       "      <th>signup_method</th>\n",
       "      <th>signup_flow</th>\n",
       "      <th>language</th>\n",
       "      <th>affiliate_channel</th>\n",
       "      <th>affiliate_provider</th>\n",
       "      <th>...</th>\n",
       "      <th>device_type_Windows Desktop</th>\n",
       "      <th>device_type_Windows Phone</th>\n",
       "      <th>device_type_iPad Tablet</th>\n",
       "      <th>device_type_iPhone</th>\n",
       "      <th>device_type_iPodtouch</th>\n",
       "      <th>secs_elapsed_max</th>\n",
       "      <th>secs_elapsed_mean</th>\n",
       "      <th>secs_elapsed_min</th>\n",
       "      <th>secs_elapsed_std</th>\n",
       "      <th>secs_elapsed_sum</th>\n",
       "    </tr>\n",
       "  </thead>\n",
       "  <tbody>\n",
       "    <tr>\n",
       "      <th>1</th>\n",
       "      <td>009a40t3dk</td>\n",
       "      <td>7/2/14</td>\n",
       "      <td>2.010000e+13</td>\n",
       "      <td>MALE</td>\n",
       "      <td>33.0</td>\n",
       "      <td>basic</td>\n",
       "      <td>0</td>\n",
       "      <td>en</td>\n",
       "      <td>direct</td>\n",
       "      <td>direct</td>\n",
       "      <td>...</td>\n",
       "      <td>21</td>\n",
       "      <td>3</td>\n",
       "      <td>391</td>\n",
       "      <td>3</td>\n",
       "      <td>224</td>\n",
       "      <td>1028988</td>\n",
       "      <td>83171.96000</td>\n",
       "      <td>0</td>\n",
       "      <td>220909.84420</td>\n",
       "      <td>2079299</td>\n",
       "    </tr>\n",
       "    <tr>\n",
       "      <th>2</th>\n",
       "      <td>00fn6wu77e</td>\n",
       "      <td>29/1/14</td>\n",
       "      <td>2.010000e+13</td>\n",
       "      <td>FEMALE</td>\n",
       "      <td>27.0</td>\n",
       "      <td>facebook</td>\n",
       "      <td>0</td>\n",
       "      <td>de</td>\n",
       "      <td>direct</td>\n",
       "      <td>direct</td>\n",
       "      <td>...</td>\n",
       "      <td>17</td>\n",
       "      <td>0</td>\n",
       "      <td>69</td>\n",
       "      <td>6</td>\n",
       "      <td>224</td>\n",
       "      <td>1170083</td>\n",
       "      <td>75063.91429</td>\n",
       "      <td>4</td>\n",
       "      <td>254497.48610</td>\n",
       "      <td>2627237</td>\n",
       "    </tr>\n",
       "    <tr>\n",
       "      <th>4</th>\n",
       "      <td>00v0o06skl</td>\n",
       "      <td>31/1/14</td>\n",
       "      <td>2.010000e+13</td>\n",
       "      <td>FEMALE</td>\n",
       "      <td>52.0</td>\n",
       "      <td>basic</td>\n",
       "      <td>0</td>\n",
       "      <td>en</td>\n",
       "      <td>direct</td>\n",
       "      <td>direct</td>\n",
       "      <td>...</td>\n",
       "      <td>14</td>\n",
       "      <td>0</td>\n",
       "      <td>96</td>\n",
       "      <td>5</td>\n",
       "      <td>224</td>\n",
       "      <td>332395</td>\n",
       "      <td>15132.40367</td>\n",
       "      <td>0</td>\n",
       "      <td>39153.45133</td>\n",
       "      <td>3298864</td>\n",
       "    </tr>\n",
       "  </tbody>\n",
       "</table>\n",
       "<p>3 rows × 378 columns</p>\n",
       "</div>"
      ],
      "text/plain": [
       "           id date_account_created  timestamp_first_active  gender   age  \\\n",
       "1  009a40t3dk               7/2/14            2.010000e+13    MALE  33.0   \n",
       "2  00fn6wu77e              29/1/14            2.010000e+13  FEMALE  27.0   \n",
       "4  00v0o06skl              31/1/14            2.010000e+13  FEMALE  52.0   \n",
       "\n",
       "  signup_method  signup_flow language affiliate_channel affiliate_provider  \\\n",
       "1         basic            0       en            direct             direct   \n",
       "2      facebook            0       de            direct             direct   \n",
       "4         basic            0       en            direct             direct   \n",
       "\n",
       "         ...        device_type_Windows Desktop device_type_Windows Phone  \\\n",
       "1        ...                                 21                         3   \n",
       "2        ...                                 17                         0   \n",
       "4        ...                                 14                         0   \n",
       "\n",
       "  device_type_iPad Tablet device_type_iPhone device_type_iPodtouch  \\\n",
       "1                     391                  3                   224   \n",
       "2                      69                  6                   224   \n",
       "4                      96                  5                   224   \n",
       "\n",
       "   secs_elapsed_max  secs_elapsed_mean  secs_elapsed_min  secs_elapsed_std  \\\n",
       "1           1028988        83171.96000                 0      220909.84420   \n",
       "2           1170083        75063.91429                 4      254497.48610   \n",
       "4            332395        15132.40367                 0       39153.45133   \n",
       "\n",
       "   secs_elapsed_sum  \n",
       "1           2079299  \n",
       "2           2627237  \n",
       "4           3298864  \n",
       "\n",
       "[3 rows x 378 columns]"
      ]
     },
     "execution_count": 6,
     "metadata": {},
     "output_type": "execute_result"
    }
   ],
   "source": [
    "df.head(3)"
   ]
  },
  {
   "cell_type": "markdown",
   "metadata": {},
   "source": [
    "## Plot gender\n"
   ]
  },
  {
   "cell_type": "code",
   "execution_count": 7,
   "metadata": {
    "collapsed": false
   },
   "outputs": [
    {
     "data": {
      "text/html": [
       "<div>\n",
       "<table border=\"1\" class=\"dataframe\">\n",
       "  <thead>\n",
       "    <tr style=\"text-align: right;\">\n",
       "      <th></th>\n",
       "      <th>id</th>\n",
       "      <th>date_account_created</th>\n",
       "      <th>timestamp_first_active</th>\n",
       "      <th>age</th>\n",
       "      <th>signup_method</th>\n",
       "      <th>signup_flow</th>\n",
       "      <th>language</th>\n",
       "      <th>affiliate_channel</th>\n",
       "      <th>affiliate_provider</th>\n",
       "      <th>first_affiliate_tracked</th>\n",
       "      <th>...</th>\n",
       "      <th>device_type_Windows Desktop</th>\n",
       "      <th>device_type_Windows Phone</th>\n",
       "      <th>device_type_iPad Tablet</th>\n",
       "      <th>device_type_iPhone</th>\n",
       "      <th>device_type_iPodtouch</th>\n",
       "      <th>secs_elapsed_max</th>\n",
       "      <th>secs_elapsed_mean</th>\n",
       "      <th>secs_elapsed_min</th>\n",
       "      <th>secs_elapsed_std</th>\n",
       "      <th>secs_elapsed_sum</th>\n",
       "    </tr>\n",
       "    <tr>\n",
       "      <th>gender</th>\n",
       "      <th></th>\n",
       "      <th></th>\n",
       "      <th></th>\n",
       "      <th></th>\n",
       "      <th></th>\n",
       "      <th></th>\n",
       "      <th></th>\n",
       "      <th></th>\n",
       "      <th></th>\n",
       "      <th></th>\n",
       "      <th></th>\n",
       "      <th></th>\n",
       "      <th></th>\n",
       "      <th></th>\n",
       "      <th></th>\n",
       "      <th></th>\n",
       "      <th></th>\n",
       "      <th></th>\n",
       "      <th></th>\n",
       "      <th></th>\n",
       "      <th></th>\n",
       "    </tr>\n",
       "  </thead>\n",
       "  <tbody>\n",
       "    <tr>\n",
       "      <th>FEMALE</th>\n",
       "      <td>2060</td>\n",
       "      <td>2060</td>\n",
       "      <td>2060</td>\n",
       "      <td>2060</td>\n",
       "      <td>2060</td>\n",
       "      <td>2060</td>\n",
       "      <td>2060</td>\n",
       "      <td>2060</td>\n",
       "      <td>2060</td>\n",
       "      <td>2060</td>\n",
       "      <td>...</td>\n",
       "      <td>2060</td>\n",
       "      <td>2060</td>\n",
       "      <td>2060</td>\n",
       "      <td>2060</td>\n",
       "      <td>2060</td>\n",
       "      <td>2060</td>\n",
       "      <td>2060</td>\n",
       "      <td>2060</td>\n",
       "      <td>2060</td>\n",
       "      <td>2060</td>\n",
       "    </tr>\n",
       "    <tr>\n",
       "      <th>MALE</th>\n",
       "      <td>1795</td>\n",
       "      <td>1795</td>\n",
       "      <td>1795</td>\n",
       "      <td>1795</td>\n",
       "      <td>1795</td>\n",
       "      <td>1795</td>\n",
       "      <td>1795</td>\n",
       "      <td>1795</td>\n",
       "      <td>1795</td>\n",
       "      <td>1795</td>\n",
       "      <td>...</td>\n",
       "      <td>1795</td>\n",
       "      <td>1795</td>\n",
       "      <td>1795</td>\n",
       "      <td>1795</td>\n",
       "      <td>1795</td>\n",
       "      <td>1795</td>\n",
       "      <td>1795</td>\n",
       "      <td>1795</td>\n",
       "      <td>1795</td>\n",
       "      <td>1795</td>\n",
       "    </tr>\n",
       "    <tr>\n",
       "      <th>OTHER</th>\n",
       "      <td>9</td>\n",
       "      <td>9</td>\n",
       "      <td>9</td>\n",
       "      <td>9</td>\n",
       "      <td>9</td>\n",
       "      <td>9</td>\n",
       "      <td>9</td>\n",
       "      <td>9</td>\n",
       "      <td>9</td>\n",
       "      <td>9</td>\n",
       "      <td>...</td>\n",
       "      <td>9</td>\n",
       "      <td>9</td>\n",
       "      <td>9</td>\n",
       "      <td>9</td>\n",
       "      <td>9</td>\n",
       "      <td>9</td>\n",
       "      <td>9</td>\n",
       "      <td>9</td>\n",
       "      <td>9</td>\n",
       "      <td>9</td>\n",
       "    </tr>\n",
       "  </tbody>\n",
       "</table>\n",
       "<p>3 rows × 377 columns</p>\n",
       "</div>"
      ],
      "text/plain": [
       "          id  date_account_created  timestamp_first_active   age  \\\n",
       "gender                                                             \n",
       "FEMALE  2060                  2060                    2060  2060   \n",
       "MALE    1795                  1795                    1795  1795   \n",
       "OTHER      9                     9                       9     9   \n",
       "\n",
       "        signup_method  signup_flow  language  affiliate_channel  \\\n",
       "gender                                                            \n",
       "FEMALE           2060         2060      2060               2060   \n",
       "MALE             1795         1795      1795               1795   \n",
       "OTHER               9            9         9                  9   \n",
       "\n",
       "        affiliate_provider  first_affiliate_tracked        ...         \\\n",
       "gender                                                     ...          \n",
       "FEMALE                2060                     2060        ...          \n",
       "MALE                  1795                     1795        ...          \n",
       "OTHER                    9                        9        ...          \n",
       "\n",
       "        device_type_Windows Desktop  device_type_Windows Phone  \\\n",
       "gender                                                           \n",
       "FEMALE                         2060                       2060   \n",
       "MALE                           1795                       1795   \n",
       "OTHER                             9                          9   \n",
       "\n",
       "        device_type_iPad Tablet  device_type_iPhone  device_type_iPodtouch  \\\n",
       "gender                                                                       \n",
       "FEMALE                     2060                2060                   2060   \n",
       "MALE                       1795                1795                   1795   \n",
       "OTHER                         9                   9                      9   \n",
       "\n",
       "        secs_elapsed_max  secs_elapsed_mean  secs_elapsed_min  \\\n",
       "gender                                                          \n",
       "FEMALE              2060               2060              2060   \n",
       "MALE                1795               1795              1795   \n",
       "OTHER                  9                  9                 9   \n",
       "\n",
       "        secs_elapsed_std  secs_elapsed_sum  \n",
       "gender                                      \n",
       "FEMALE              2060              2060  \n",
       "MALE                1795              1795  \n",
       "OTHER                  9                 9  \n",
       "\n",
       "[3 rows x 377 columns]"
      ]
     },
     "execution_count": 7,
     "metadata": {},
     "output_type": "execute_result"
    }
   ],
   "source": [
    "genders_count = df.groupby(['gender']).count()\n",
    "genders_count\n"
   ]
  },
  {
   "cell_type": "markdown",
   "metadata": {},
   "source": [
    "## plot gender with age\n"
   ]
  },
  {
   "cell_type": "code",
   "execution_count": 255,
   "metadata": {
    "collapsed": false
   },
   "outputs": [],
   "source": [
    "import matplotlib.pyplot as plt\n",
    "#df_gs = pd.concat([df.gender, df.age],axis=1)\n",
    "df_gs = pd.concat([df.gender, df.age, df.id],axis=1)"
   ]
  },
  {
   "cell_type": "markdown",
   "metadata": {},
   "source": [
    "Generated a grouped dataframe with the counts of each M and F per age"
   ]
  },
  {
   "cell_type": "code",
   "execution_count": 256,
   "metadata": {
    "collapsed": false
   },
   "outputs": [],
   "source": [
    "age_counts = df_gs.groupby(['age','gender']).count()"
   ]
  },
  {
   "cell_type": "code",
   "execution_count": 257,
   "metadata": {
    "collapsed": false
   },
   "outputs": [
    {
     "data": {
      "text/html": [
       "<div>\n",
       "<table border=\"1\" class=\"dataframe\">\n",
       "  <thead>\n",
       "    <tr style=\"text-align: right;\">\n",
       "      <th></th>\n",
       "      <th></th>\n",
       "      <th>id</th>\n",
       "    </tr>\n",
       "    <tr>\n",
       "      <th>age</th>\n",
       "      <th>gender</th>\n",
       "      <th></th>\n",
       "    </tr>\n",
       "  </thead>\n",
       "  <tbody>\n",
       "    <tr>\n",
       "      <th rowspan=\"2\" valign=\"top\">15.0</th>\n",
       "      <th>FEMALE</th>\n",
       "      <td>1</td>\n",
       "    </tr>\n",
       "    <tr>\n",
       "      <th>MALE</th>\n",
       "      <td>4</td>\n",
       "    </tr>\n",
       "    <tr>\n",
       "      <th rowspan=\"2\" valign=\"top\">16.0</th>\n",
       "      <th>FEMALE</th>\n",
       "      <td>14</td>\n",
       "    </tr>\n",
       "    <tr>\n",
       "      <th>MALE</th>\n",
       "      <td>6</td>\n",
       "    </tr>\n",
       "    <tr>\n",
       "      <th rowspan=\"3\" valign=\"top\">17.0</th>\n",
       "      <th>FEMALE</th>\n",
       "      <td>36</td>\n",
       "    </tr>\n",
       "    <tr>\n",
       "      <th>MALE</th>\n",
       "      <td>15</td>\n",
       "    </tr>\n",
       "    <tr>\n",
       "      <th>OTHER</th>\n",
       "      <td>1</td>\n",
       "    </tr>\n",
       "    <tr>\n",
       "      <th rowspan=\"3\" valign=\"top\">18.0</th>\n",
       "      <th>FEMALE</th>\n",
       "      <td>201</td>\n",
       "    </tr>\n",
       "    <tr>\n",
       "      <th>MALE</th>\n",
       "      <td>126</td>\n",
       "    </tr>\n",
       "    <tr>\n",
       "      <th>OTHER</th>\n",
       "      <td>2</td>\n",
       "    </tr>\n",
       "    <tr>\n",
       "      <th rowspan=\"3\" valign=\"top\">19.0</th>\n",
       "      <th>FEMALE</th>\n",
       "      <td>368</td>\n",
       "    </tr>\n",
       "    <tr>\n",
       "      <th>MALE</th>\n",
       "      <td>198</td>\n",
       "    </tr>\n",
       "    <tr>\n",
       "      <th>OTHER</th>\n",
       "      <td>7</td>\n",
       "    </tr>\n",
       "    <tr>\n",
       "      <th rowspan=\"3\" valign=\"top\">20.0</th>\n",
       "      <th>FEMALE</th>\n",
       "      <td>238</td>\n",
       "    </tr>\n",
       "    <tr>\n",
       "      <th>MALE</th>\n",
       "      <td>177</td>\n",
       "    </tr>\n",
       "    <tr>\n",
       "      <th>OTHER</th>\n",
       "      <td>1</td>\n",
       "    </tr>\n",
       "    <tr>\n",
       "      <th rowspan=\"3\" valign=\"top\">21.0</th>\n",
       "      <th>FEMALE</th>\n",
       "      <td>490</td>\n",
       "    </tr>\n",
       "    <tr>\n",
       "      <th>MALE</th>\n",
       "      <td>283</td>\n",
       "    </tr>\n",
       "    <tr>\n",
       "      <th>OTHER</th>\n",
       "      <td>2</td>\n",
       "    </tr>\n",
       "    <tr>\n",
       "      <th rowspan=\"3\" valign=\"top\">22.0</th>\n",
       "      <th>FEMALE</th>\n",
       "      <td>819</td>\n",
       "    </tr>\n",
       "    <tr>\n",
       "      <th>MALE</th>\n",
       "      <td>537</td>\n",
       "    </tr>\n",
       "    <tr>\n",
       "      <th>OTHER</th>\n",
       "      <td>4</td>\n",
       "    </tr>\n",
       "    <tr>\n",
       "      <th rowspan=\"3\" valign=\"top\">23.0</th>\n",
       "      <th>FEMALE</th>\n",
       "      <td>1217</td>\n",
       "    </tr>\n",
       "    <tr>\n",
       "      <th>MALE</th>\n",
       "      <td>741</td>\n",
       "    </tr>\n",
       "    <tr>\n",
       "      <th>OTHER</th>\n",
       "      <td>1</td>\n",
       "    </tr>\n",
       "    <tr>\n",
       "      <th rowspan=\"3\" valign=\"top\">24.0</th>\n",
       "      <th>FEMALE</th>\n",
       "      <td>1555</td>\n",
       "    </tr>\n",
       "    <tr>\n",
       "      <th>MALE</th>\n",
       "      <td>952</td>\n",
       "    </tr>\n",
       "    <tr>\n",
       "      <th>OTHER</th>\n",
       "      <td>1</td>\n",
       "    </tr>\n",
       "    <tr>\n",
       "      <th rowspan=\"2\" valign=\"top\">25.0</th>\n",
       "      <th>FEMALE</th>\n",
       "      <td>2103</td>\n",
       "    </tr>\n",
       "    <tr>\n",
       "      <th>MALE</th>\n",
       "      <td>1416</td>\n",
       "    </tr>\n",
       "    <tr>\n",
       "      <th>...</th>\n",
       "      <th>...</th>\n",
       "      <td>...</td>\n",
       "    </tr>\n",
       "    <tr>\n",
       "      <th rowspan=\"2\" valign=\"top\">95.0</th>\n",
       "      <th>FEMALE</th>\n",
       "      <td>23</td>\n",
       "    </tr>\n",
       "    <tr>\n",
       "      <th>MALE</th>\n",
       "      <td>21</td>\n",
       "    </tr>\n",
       "    <tr>\n",
       "      <th rowspan=\"2\" valign=\"top\">96.0</th>\n",
       "      <th>FEMALE</th>\n",
       "      <td>5</td>\n",
       "    </tr>\n",
       "    <tr>\n",
       "      <th>MALE</th>\n",
       "      <td>16</td>\n",
       "    </tr>\n",
       "    <tr>\n",
       "      <th rowspan=\"2\" valign=\"top\">97.0</th>\n",
       "      <th>FEMALE</th>\n",
       "      <td>7</td>\n",
       "    </tr>\n",
       "    <tr>\n",
       "      <th>MALE</th>\n",
       "      <td>2</td>\n",
       "    </tr>\n",
       "    <tr>\n",
       "      <th rowspan=\"2\" valign=\"top\">98.0</th>\n",
       "      <th>FEMALE</th>\n",
       "      <td>8</td>\n",
       "    </tr>\n",
       "    <tr>\n",
       "      <th>MALE</th>\n",
       "      <td>6</td>\n",
       "    </tr>\n",
       "    <tr>\n",
       "      <th rowspan=\"2\" valign=\"top\">99.0</th>\n",
       "      <th>FEMALE</th>\n",
       "      <td>8</td>\n",
       "    </tr>\n",
       "    <tr>\n",
       "      <th>MALE</th>\n",
       "      <td>6</td>\n",
       "    </tr>\n",
       "    <tr>\n",
       "      <th rowspan=\"2\" valign=\"top\">100.0</th>\n",
       "      <th>FEMALE</th>\n",
       "      <td>14</td>\n",
       "    </tr>\n",
       "    <tr>\n",
       "      <th>MALE</th>\n",
       "      <td>8</td>\n",
       "    </tr>\n",
       "    <tr>\n",
       "      <th rowspan=\"2\" valign=\"top\">101.0</th>\n",
       "      <th>FEMALE</th>\n",
       "      <td>13</td>\n",
       "    </tr>\n",
       "    <tr>\n",
       "      <th>MALE</th>\n",
       "      <td>6</td>\n",
       "    </tr>\n",
       "    <tr>\n",
       "      <th rowspan=\"2\" valign=\"top\">102.0</th>\n",
       "      <th>FEMALE</th>\n",
       "      <td>17</td>\n",
       "    </tr>\n",
       "    <tr>\n",
       "      <th>MALE</th>\n",
       "      <td>13</td>\n",
       "    </tr>\n",
       "    <tr>\n",
       "      <th rowspan=\"2\" valign=\"top\">103.0</th>\n",
       "      <th>FEMALE</th>\n",
       "      <td>12</td>\n",
       "    </tr>\n",
       "    <tr>\n",
       "      <th>MALE</th>\n",
       "      <td>11</td>\n",
       "    </tr>\n",
       "    <tr>\n",
       "      <th rowspan=\"2\" valign=\"top\">104.0</th>\n",
       "      <th>FEMALE</th>\n",
       "      <td>23</td>\n",
       "    </tr>\n",
       "    <tr>\n",
       "      <th>MALE</th>\n",
       "      <td>14</td>\n",
       "    </tr>\n",
       "    <tr>\n",
       "      <th rowspan=\"2\" valign=\"top\">105.0</th>\n",
       "      <th>FEMALE</th>\n",
       "      <td>253</td>\n",
       "    </tr>\n",
       "    <tr>\n",
       "      <th>MALE</th>\n",
       "      <td>237</td>\n",
       "    </tr>\n",
       "    <tr>\n",
       "      <th rowspan=\"2\" valign=\"top\">106.0</th>\n",
       "      <th>FEMALE</th>\n",
       "      <td>6</td>\n",
       "    </tr>\n",
       "    <tr>\n",
       "      <th>MALE</th>\n",
       "      <td>9</td>\n",
       "    </tr>\n",
       "    <tr>\n",
       "      <th rowspan=\"2\" valign=\"top\">107.0</th>\n",
       "      <th>FEMALE</th>\n",
       "      <td>13</td>\n",
       "    </tr>\n",
       "    <tr>\n",
       "      <th>MALE</th>\n",
       "      <td>10</td>\n",
       "    </tr>\n",
       "    <tr>\n",
       "      <th rowspan=\"2\" valign=\"top\">108.0</th>\n",
       "      <th>FEMALE</th>\n",
       "      <td>6</td>\n",
       "    </tr>\n",
       "    <tr>\n",
       "      <th>MALE</th>\n",
       "      <td>8</td>\n",
       "    </tr>\n",
       "    <tr>\n",
       "      <th rowspan=\"2\" valign=\"top\">109.0</th>\n",
       "      <th>FEMALE</th>\n",
       "      <td>12</td>\n",
       "    </tr>\n",
       "    <tr>\n",
       "      <th>MALE</th>\n",
       "      <td>14</td>\n",
       "    </tr>\n",
       "  </tbody>\n",
       "</table>\n",
       "<p>237 rows × 1 columns</p>\n",
       "</div>"
      ],
      "text/plain": [
       "                id\n",
       "age   gender      \n",
       "15.0  FEMALE     1\n",
       "      MALE       4\n",
       "16.0  FEMALE    14\n",
       "      MALE       6\n",
       "17.0  FEMALE    36\n",
       "      MALE      15\n",
       "      OTHER      1\n",
       "18.0  FEMALE   201\n",
       "      MALE     126\n",
       "      OTHER      2\n",
       "19.0  FEMALE   368\n",
       "      MALE     198\n",
       "      OTHER      7\n",
       "20.0  FEMALE   238\n",
       "      MALE     177\n",
       "      OTHER      1\n",
       "21.0  FEMALE   490\n",
       "      MALE     283\n",
       "      OTHER      2\n",
       "22.0  FEMALE   819\n",
       "      MALE     537\n",
       "      OTHER      4\n",
       "23.0  FEMALE  1217\n",
       "      MALE     741\n",
       "      OTHER      1\n",
       "24.0  FEMALE  1555\n",
       "      MALE     952\n",
       "      OTHER      1\n",
       "25.0  FEMALE  2103\n",
       "      MALE    1416\n",
       "...            ...\n",
       "95.0  FEMALE    23\n",
       "      MALE      21\n",
       "96.0  FEMALE     5\n",
       "      MALE      16\n",
       "97.0  FEMALE     7\n",
       "      MALE       2\n",
       "98.0  FEMALE     8\n",
       "      MALE       6\n",
       "99.0  FEMALE     8\n",
       "      MALE       6\n",
       "100.0 FEMALE    14\n",
       "      MALE       8\n",
       "101.0 FEMALE    13\n",
       "      MALE       6\n",
       "102.0 FEMALE    17\n",
       "      MALE      13\n",
       "103.0 FEMALE    12\n",
       "      MALE      11\n",
       "104.0 FEMALE    23\n",
       "      MALE      14\n",
       "105.0 FEMALE   253\n",
       "      MALE     237\n",
       "106.0 FEMALE     6\n",
       "      MALE       9\n",
       "107.0 FEMALE    13\n",
       "      MALE      10\n",
       "108.0 FEMALE     6\n",
       "      MALE       8\n",
       "109.0 FEMALE    12\n",
       "      MALE      14\n",
       "\n",
       "[237 rows x 1 columns]"
      ]
     },
     "execution_count": 257,
     "metadata": {},
     "output_type": "execute_result"
    }
   ],
   "source": [
    "age_counts"
   ]
  },
  {
   "cell_type": "markdown",
   "metadata": {},
   "source": [
    "calculate the total number of individual per age group:"
   ]
  },
  {
   "cell_type": "markdown",
   "metadata": {},
   "source": [
    "gender count"
   ]
  },
  {
   "cell_type": "code",
   "execution_count": 258,
   "metadata": {
    "collapsed": false
   },
   "outputs": [],
   "source": [
    "# df = df.drop(df.query(\"age == 30 and gender == \\'FEMALE\\'\").sample(frac=.9).index)"
   ]
  },
  {
   "cell_type": "code",
   "execution_count": 259,
   "metadata": {
    "collapsed": false,
    "scrolled": true
   },
   "outputs": [
    {
     "name": "stdout",
     "output_type": "stream",
     "text": [
      "                id  date_account_created  timestamp_first_active  \\\n",
      "age   gender                                                       \n",
      "15.0  FEMALE     1                     1                       1   \n",
      "      MALE       4                     4                       4   \n",
      "16.0  FEMALE    14                    14                      14   \n",
      "      MALE       6                     6                       6   \n",
      "17.0  FEMALE    36                    36                      36   \n",
      "      MALE      15                    15                      15   \n",
      "      OTHER      1                     1                       1   \n",
      "18.0  FEMALE   201                   201                     201   \n",
      "      MALE     126                   126                     126   \n",
      "      OTHER      2                     2                       2   \n",
      "19.0  FEMALE   368                   368                     368   \n",
      "      MALE     198                   198                     198   \n",
      "      OTHER      7                     7                       7   \n",
      "20.0  FEMALE   238                   238                     238   \n",
      "      MALE     177                   177                     177   \n",
      "      OTHER      1                     1                       1   \n",
      "21.0  FEMALE   490                   490                     490   \n",
      "      MALE     283                   283                     283   \n",
      "      OTHER      2                     2                       2   \n",
      "22.0  FEMALE   819                   819                     819   \n",
      "      MALE     537                   537                     537   \n",
      "      OTHER      4                     4                       4   \n",
      "23.0  FEMALE  1217                  1217                    1217   \n",
      "      MALE     741                   741                     741   \n",
      "      OTHER      1                     1                       1   \n",
      "24.0  FEMALE  1555                  1555                    1555   \n",
      "      MALE     952                   952                     952   \n",
      "      OTHER      1                     1                       1   \n",
      "25.0  FEMALE  2103                  2103                    2103   \n",
      "      MALE    1416                  1416                    1416   \n",
      "...            ...                   ...                     ...   \n",
      "95.0  FEMALE    23                    23                      23   \n",
      "      MALE      21                    21                      21   \n",
      "96.0  FEMALE     5                     5                       5   \n",
      "      MALE      16                    16                      16   \n",
      "97.0  FEMALE     7                     7                       7   \n",
      "      MALE       2                     2                       2   \n",
      "98.0  FEMALE     8                     8                       8   \n",
      "      MALE       6                     6                       6   \n",
      "99.0  FEMALE     8                     8                       8   \n",
      "      MALE       6                     6                       6   \n",
      "100.0 FEMALE    14                    14                      14   \n",
      "      MALE       8                     8                       8   \n",
      "101.0 FEMALE    13                    13                      13   \n",
      "      MALE       6                     6                       6   \n",
      "102.0 FEMALE    17                    17                      17   \n",
      "      MALE      13                    13                      13   \n",
      "103.0 FEMALE    12                    12                      12   \n",
      "      MALE      11                    11                      11   \n",
      "104.0 FEMALE    23                    23                      23   \n",
      "      MALE      14                    14                      14   \n",
      "105.0 FEMALE   253                   253                     253   \n",
      "      MALE     237                   237                     237   \n",
      "106.0 FEMALE     6                     6                       6   \n",
      "      MALE       9                     9                       9   \n",
      "107.0 FEMALE    13                    13                      13   \n",
      "      MALE      10                    10                      10   \n",
      "108.0 FEMALE     6                     6                       6   \n",
      "      MALE       8                     8                       8   \n",
      "109.0 FEMALE    12                    12                      12   \n",
      "      MALE      14                    14                      14   \n",
      "\n",
      "              signup_method  signup_flow  language  affiliate_channel  \\\n",
      "age   gender                                                            \n",
      "15.0  FEMALE              1            1         1                  1   \n",
      "      MALE                4            4         4                  4   \n",
      "16.0  FEMALE             14           14        14                 14   \n",
      "      MALE                6            6         6                  6   \n",
      "17.0  FEMALE             36           36        36                 36   \n",
      "      MALE               15           15        15                 15   \n",
      "      OTHER               1            1         1                  1   \n",
      "18.0  FEMALE            201          201       201                201   \n",
      "      MALE              126          126       126                126   \n",
      "      OTHER               2            2         2                  2   \n",
      "19.0  FEMALE            368          368       368                368   \n",
      "      MALE              198          198       198                198   \n",
      "      OTHER               7            7         7                  7   \n",
      "20.0  FEMALE            238          238       238                238   \n",
      "      MALE              177          177       177                177   \n",
      "      OTHER               1            1         1                  1   \n",
      "21.0  FEMALE            490          490       490                490   \n",
      "      MALE              283          283       283                283   \n",
      "      OTHER               2            2         2                  2   \n",
      "22.0  FEMALE            819          819       819                819   \n",
      "      MALE              537          537       537                537   \n",
      "      OTHER               4            4         4                  4   \n",
      "23.0  FEMALE           1217         1217      1217               1217   \n",
      "      MALE              741          741       741                741   \n",
      "      OTHER               1            1         1                  1   \n",
      "24.0  FEMALE           1555         1555      1555               1555   \n",
      "      MALE              952          952       952                952   \n",
      "      OTHER               1            1         1                  1   \n",
      "25.0  FEMALE           2103         2103      2103               2103   \n",
      "      MALE             1416         1416      1416               1416   \n",
      "...                     ...          ...       ...                ...   \n",
      "95.0  FEMALE             23           23        23                 23   \n",
      "      MALE               21           21        21                 21   \n",
      "96.0  FEMALE              5            5         5                  5   \n",
      "      MALE               16           16        16                 16   \n",
      "97.0  FEMALE              7            7         7                  7   \n",
      "      MALE                2            2         2                  2   \n",
      "98.0  FEMALE              8            8         8                  8   \n",
      "      MALE                6            6         6                  6   \n",
      "99.0  FEMALE              8            8         8                  8   \n",
      "      MALE                6            6         6                  6   \n",
      "100.0 FEMALE             14           14        14                 14   \n",
      "      MALE                8            8         8                  8   \n",
      "101.0 FEMALE             13           13        13                 13   \n",
      "      MALE                6            6         6                  6   \n",
      "102.0 FEMALE             17           17        17                 17   \n",
      "      MALE               13           13        13                 13   \n",
      "103.0 FEMALE             12           12        12                 12   \n",
      "      MALE               11           11        11                 11   \n",
      "104.0 FEMALE             23           23        23                 23   \n",
      "      MALE               14           14        14                 14   \n",
      "105.0 FEMALE            253          253       253                253   \n",
      "      MALE              237          237       237                237   \n",
      "106.0 FEMALE              6            6         6                  6   \n",
      "      MALE                9            9         9                  9   \n",
      "107.0 FEMALE             13           13        13                 13   \n",
      "      MALE               10           10        10                 10   \n",
      "108.0 FEMALE              6            6         6                  6   \n",
      "      MALE                8            8         8                  8   \n",
      "109.0 FEMALE             12           12        12                 12   \n",
      "      MALE               14           14        14                 14   \n",
      "\n",
      "              affiliate_provider  first_affiliate_tracked  signup_app  \\\n",
      "age   gender                                                            \n",
      "15.0  FEMALE                   1                        1           1   \n",
      "      MALE                     4                        4           4   \n",
      "16.0  FEMALE                  14                       14          14   \n",
      "      MALE                     6                        6           6   \n",
      "17.0  FEMALE                  36                       36          36   \n",
      "      MALE                    15                       15          15   \n",
      "      OTHER                    1                        1           1   \n",
      "18.0  FEMALE                 201                      201         201   \n",
      "      MALE                   126                      126         126   \n",
      "      OTHER                    2                        2           2   \n",
      "19.0  FEMALE                 368                      368         368   \n",
      "      MALE                   198                      198         198   \n",
      "      OTHER                    7                        7           7   \n",
      "20.0  FEMALE                 238                      238         238   \n",
      "      MALE                   177                      177         177   \n",
      "      OTHER                    1                        1           1   \n",
      "21.0  FEMALE                 490                      490         490   \n",
      "      MALE                   283                      283         283   \n",
      "      OTHER                    2                        2           2   \n",
      "22.0  FEMALE                 819                      819         819   \n",
      "      MALE                   537                      537         537   \n",
      "      OTHER                    4                        4           4   \n",
      "23.0  FEMALE                1217                     1217        1217   \n",
      "      MALE                   741                      741         741   \n",
      "      OTHER                    1                        1           1   \n",
      "24.0  FEMALE                1555                     1555        1555   \n",
      "      MALE                   952                      952         952   \n",
      "      OTHER                    1                        1           1   \n",
      "25.0  FEMALE                2103                     2103        2103   \n",
      "      MALE                  1416                     1416        1416   \n",
      "...                          ...                      ...         ...   \n",
      "95.0  FEMALE                  23                       23          23   \n",
      "      MALE                    21                       21          21   \n",
      "96.0  FEMALE                   5                        5           5   \n",
      "      MALE                    16                       16          16   \n",
      "97.0  FEMALE                   7                        7           7   \n",
      "      MALE                     2                        2           2   \n",
      "98.0  FEMALE                   8                        8           8   \n",
      "      MALE                     6                        6           6   \n",
      "99.0  FEMALE                   8                        8           8   \n",
      "      MALE                     6                        6           6   \n",
      "100.0 FEMALE                  14                       14          14   \n",
      "      MALE                     8                        8           8   \n",
      "101.0 FEMALE                  13                       13          13   \n",
      "      MALE                     6                        6           6   \n",
      "102.0 FEMALE                  17                       17          17   \n",
      "      MALE                    13                       13          13   \n",
      "103.0 FEMALE                  12                       12          12   \n",
      "      MALE                    11                       11          11   \n",
      "104.0 FEMALE                  23                       23          23   \n",
      "      MALE                    14                       14          14   \n",
      "105.0 FEMALE                 253                      253         253   \n",
      "      MALE                   237                      237         237   \n",
      "106.0 FEMALE                   6                        6           6   \n",
      "      MALE                     9                        9           9   \n",
      "107.0 FEMALE                  13                       13          13   \n",
      "      MALE                    10                       10          10   \n",
      "108.0 FEMALE                   6                        6           6   \n",
      "      MALE                     8                        8           8   \n",
      "109.0 FEMALE                  12                       12          12   \n",
      "      MALE                    14                       14          14   \n",
      "\n",
      "              first_device_type  first_browser  country_destination  \n",
      "age   gender                                                         \n",
      "15.0  FEMALE                  1              1                    1  \n",
      "      MALE                    4              4                    4  \n",
      "16.0  FEMALE                 14             14                   14  \n",
      "      MALE                    6              6                    6  \n",
      "17.0  FEMALE                 36             36                   36  \n",
      "      MALE                   15             15                   15  \n",
      "      OTHER                   1              1                    1  \n",
      "18.0  FEMALE                201            201                  201  \n",
      "      MALE                  126            126                  126  \n",
      "      OTHER                   2              2                    2  \n",
      "19.0  FEMALE                368            368                  368  \n",
      "      MALE                  198            198                  198  \n",
      "      OTHER                   7              7                    7  \n",
      "20.0  FEMALE                238            238                  238  \n",
      "      MALE                  177            177                  177  \n",
      "      OTHER                   1              1                    1  \n",
      "21.0  FEMALE                490            490                  490  \n",
      "      MALE                  283            283                  283  \n",
      "      OTHER                   2              2                    2  \n",
      "22.0  FEMALE                819            819                  819  \n",
      "      MALE                  537            537                  537  \n",
      "      OTHER                   4              4                    4  \n",
      "23.0  FEMALE               1217           1217                 1217  \n",
      "      MALE                  741            741                  741  \n",
      "      OTHER                   1              1                    1  \n",
      "24.0  FEMALE               1555           1555                 1555  \n",
      "      MALE                  952            952                  952  \n",
      "      OTHER                   1              1                    1  \n",
      "25.0  FEMALE               2103           2103                 2103  \n",
      "      MALE                 1416           1416                 1416  \n",
      "...                         ...            ...                  ...  \n",
      "95.0  FEMALE                 23             23                   23  \n",
      "      MALE                   21             21                   21  \n",
      "96.0  FEMALE                  5              5                    5  \n",
      "      MALE                   16             16                   16  \n",
      "97.0  FEMALE                  7              7                    7  \n",
      "      MALE                    2              2                    2  \n",
      "98.0  FEMALE                  8              8                    8  \n",
      "      MALE                    6              6                    6  \n",
      "99.0  FEMALE                  8              8                    8  \n",
      "      MALE                    6              6                    6  \n",
      "100.0 FEMALE                 14             14                   14  \n",
      "      MALE                    8              8                    8  \n",
      "101.0 FEMALE                 13             13                   13  \n",
      "      MALE                    6              6                    6  \n",
      "102.0 FEMALE                 17             17                   17  \n",
      "      MALE                   13             13                   13  \n",
      "103.0 FEMALE                 12             12                   12  \n",
      "      MALE                   11             11                   11  \n",
      "104.0 FEMALE                 23             23                   23  \n",
      "      MALE                   14             14                   14  \n",
      "105.0 FEMALE                253            253                  253  \n",
      "      MALE                  237            237                  237  \n",
      "106.0 FEMALE                  6              6                    6  \n",
      "      MALE                    9              9                    9  \n",
      "107.0 FEMALE                 13             13                   13  \n",
      "      MALE                   10             10                   10  \n",
      "108.0 FEMALE                  6              6                    6  \n",
      "      MALE                    8              8                    8  \n",
      "109.0 FEMALE                 12             12                   12  \n",
      "      MALE                   14             14                   14  \n",
      "\n",
      "[237 rows x 13 columns]\n"
     ]
    }
   ],
   "source": [
    "age_counts = df.groupby(['age','gender']).count()\n",
    "print age_counts"
   ]
  },
  {
   "cell_type": "code",
   "execution_count": 260,
   "metadata": {
    "collapsed": false
   },
   "outputs": [
    {
     "name": "stdout",
     "output_type": "stream",
     "text": [
      "           id  date_account_created  timestamp_first_active    age  \\\n",
      "gender                                                               \n",
      "FEMALE  52286                 52286                   52286  52286   \n",
      "MALE    44623                 44623                   44623  44623   \n",
      "OTHER     206                   206                     206    206   \n",
      "\n",
      "        signup_method  signup_flow  language  affiliate_channel  \\\n",
      "gender                                                            \n",
      "FEMALE          52286        52286     52286              52286   \n",
      "MALE            44623        44623     44623              44623   \n",
      "OTHER             206          206       206                206   \n",
      "\n",
      "        affiliate_provider  first_affiliate_tracked  signup_app  \\\n",
      "gender                                                            \n",
      "FEMALE               52286                    52286       52286   \n",
      "MALE                 44623                    44623       44623   \n",
      "OTHER                  206                      206         206   \n",
      "\n",
      "        first_device_type  first_browser  country_destination  \n",
      "gender                                                         \n",
      "FEMALE              52286          52286                52286  \n",
      "MALE                44623          44623                44623  \n",
      "OTHER                 206            206                  206  \n"
     ]
    }
   ],
   "source": [
    "gender_counts = df.groupby(['gender']).count()\n",
    "print gender_counts"
   ]
  },
  {
   "cell_type": "markdown",
   "metadata": {},
   "source": [
    "Under-sampling all womens"
   ]
  },
  {
   "cell_type": "markdown",
   "metadata": {},
   "source": [
    "## plot gender with sign-up method"
   ]
  },
  {
   "cell_type": "code",
   "execution_count": 261,
   "metadata": {
    "collapsed": false
   },
   "outputs": [],
   "source": [
    "df_sm = pd.concat([df.gender, df.signup_method, df.id],axis=1)\n",
    "sm_counts = df_sm.groupby(['signup_method','gender']).count()"
   ]
  },
  {
   "cell_type": "markdown",
   "metadata": {},
   "source": [
    "calculate the total number of individual per age group:"
   ]
  },
  {
   "cell_type": "code",
   "execution_count": 262,
   "metadata": {
    "collapsed": false
   },
   "outputs": [
    {
     "name": "stdout",
     "output_type": "stream",
     "text": [
      "                  id\n",
      "signup_method       \n",
      "basic          46894\n",
      "facebook       50215\n",
      "google             6\n"
     ]
    }
   ],
   "source": [
    "sm_totals = sm_counts.sum(level=0)\n",
    "print sm_totals"
   ]
  },
  {
   "cell_type": "markdown",
   "metadata": {},
   "source": [
    "To prepare for plotting, I'll transform my counts dataframe to separate each sex by columns, instead of by index."
   ]
  },
  {
   "cell_type": "code",
   "execution_count": 263,
   "metadata": {
    "collapsed": false
   },
   "outputs": [
    {
     "name": "stdout",
     "output_type": "stream",
     "text": [
      "gender          FEMALE     MALE  OTHER\n",
      "signup_method                         \n",
      "basic          26009.0  20724.0  161.0\n",
      "facebook       26276.0  23894.0   45.0\n",
      "google             1.0      5.0    NaN\n"
     ]
    }
   ],
   "source": [
    "sm_counts = sm_counts.unstack(level=1)\n",
    "sm_counts.columns = sm_counts.columns.droplevel(level=0)\n",
    "print sm_counts"
   ]
  },
  {
   "cell_type": "markdown",
   "metadata": {},
   "source": [
    "replace the NaN by 0."
   ]
  },
  {
   "cell_type": "code",
   "execution_count": 264,
   "metadata": {
    "collapsed": false
   },
   "outputs": [],
   "source": [
    "sm_counts = sm_counts.fillna(0)\n"
   ]
  },
  {
   "cell_type": "code",
   "execution_count": 265,
   "metadata": {
    "collapsed": false
   },
   "outputs": [
    {
     "name": "stdout",
     "output_type": "stream",
     "text": [
      "['basic' 'facebook' 'google']\n"
     ]
    },
    {
     "data": {
      "image/png": "[encoded data removed]",
      "text/plain": [
       "<matplotlib.figure.Figure at 0x11ac0ecd0>"
      ]
     },
     "metadata": {},
     "output_type": "display_data"
    }
   ],
   "source": [
    "\n",
    "sm = sm_counts.index.tolist()\n",
    "# turn it to np array so \n",
    "sm = np.asarray(sm)\n",
    "\n",
    "print sm\n",
    "\n",
    "x_index = np.asarray([1,2,3])\n",
    "width = 0.3\n",
    "fig = plt.figure(num=None, figsize=(15, 12), dpi=80, facecolor='w', edgecolor='k')\n",
    "ax = fig.add_subplot(111)\n",
    "rects1 = ax.bar(x_index, sm_counts['MALE'],width, color='blue', label='M')\n",
    "rects2 = ax.bar(x_index-width, sm_counts['FEMALE'],width,color='pink', label='F')\n",
    "rects3 = ax.bar(x_index+width, sm_counts['OTHER'], color='green', label='O')\n",
    "\n",
    "plt.xticks(x_index, sm)\n",
    "ax.legend()\n",
    "plt.show()"
   ]
  },
  {
   "cell_type": "markdown",
   "metadata": {},
   "source": [
    "basic sighn-up 女生更多， facebook signup 几乎对半\n",
    "signup method can be use as a feature."
   ]
  },
  {
   "cell_type": "markdown",
   "metadata": {},
   "source": [
    "## plot gender with signup_flow"
   ]
  },
  {
   "cell_type": "code",
   "execution_count": 169,
   "metadata": {
    "collapsed": false
   },
   "outputs": [],
   "source": [
    "df_sf = pd.concat([df.gender, df.signup_flow, df.id],axis=1)\n",
    "sf_counts = df_sf.groupby(['signup_flow','gender']).count()"
   ]
  },
  {
   "cell_type": "markdown",
   "metadata": {},
   "source": [
    "calculate the total number of individual per age group:"
   ]
  },
  {
   "cell_type": "code",
   "execution_count": 170,
   "metadata": {
    "collapsed": false
   },
   "outputs": [
    {
     "name": "stdout",
     "output_type": "stream",
     "text": [
      "                id\n",
      "signup_flow       \n",
      "0            84146\n",
      "1              466\n",
      "2             3019\n",
      "3             4325\n",
      "4                1\n",
      "5               26\n",
      "6               88\n",
      "8              120\n",
      "10               1\n",
      "12            2451\n",
      "15               3\n",
      "16               9\n",
      "20               5\n",
      "21             189\n",
      "23              84\n",
      "24            1004\n",
      "25            1178\n"
     ]
    }
   ],
   "source": [
    "sf_totals = sf_counts.sum(level=0)\n",
    "print sf_totals"
   ]
  },
  {
   "cell_type": "markdown",
   "metadata": {},
   "source": [
    "To prepare for plotting, I'll transform my counts dataframe to separate each sex by columns, instead of by index."
   ]
  },
  {
   "cell_type": "code",
   "execution_count": 171,
   "metadata": {
    "collapsed": false
   },
   "outputs": [
    {
     "name": "stdout",
     "output_type": "stream",
     "text": [
      "gender        FEMALE     MALE  OTHER\n",
      "signup_flow                         \n",
      "0            45418.0  38555.0  173.0\n",
      "1              256.0    206.0    4.0\n",
      "2             1666.0   1342.0   11.0\n",
      "3             2302.0   2013.0   10.0\n",
      "4                NaN      1.0    NaN\n",
      "5               17.0      9.0    NaN\n",
      "6               42.0     46.0    NaN\n",
      "8               59.0     61.0    NaN\n",
      "10               1.0      NaN    NaN\n",
      "12            1144.0   1305.0    2.0\n",
      "15               2.0      1.0    NaN\n",
      "16               4.0      5.0    NaN\n",
      "20               3.0      2.0    NaN\n",
      "21             121.0     68.0    NaN\n",
      "23              32.0     52.0    NaN\n",
      "24             632.0    369.0    3.0\n",
      "25             587.0    588.0    3.0\n"
     ]
    }
   ],
   "source": [
    "sf_counts = sf_counts.unstack(level=1)\n",
    "sf_counts.columns = sf_counts.columns.droplevel(level=0)\n",
    "print sf_counts"
   ]
  },
  {
   "cell_type": "markdown",
   "metadata": {},
   "source": [
    "replace the NaN by 0."
   ]
  },
  {
   "cell_type": "code",
   "execution_count": 172,
   "metadata": {
    "collapsed": false
   },
   "outputs": [],
   "source": [
    "sm_counts = sm_counts.fillna(0)\n"
   ]
  },
  {
   "cell_type": "markdown",
   "metadata": {},
   "source": [
    "insight: at age 30, weman are much more than man. age 30 can be a out liner?????"
   ]
  },
  {
   "cell_type": "code",
   "execution_count": 173,
   "metadata": {
    "collapsed": false
   },
   "outputs": [
    {
     "name": "stdout",
     "output_type": "stream",
     "text": [
      "[ 0  1  2  3  4  5  6  8 10 12 15 16 20 21 23 24 25]\n"
     ]
    },
    {
     "data": {
      "image/png": "[encoded data removed]",
      "text/plain": [
       "<matplotlib.figure.Figure at 0x117707210>"
      ]
     },
     "metadata": {},
     "output_type": "display_data"
    }
   ],
   "source": [
    "# age_counts.drop(30, inplace=True)\n",
    "sf = sf_counts.index.tolist()\n",
    "# turn it to np array so \n",
    "sf = np.asarray(sf)\n",
    "\n",
    "print sf\n",
    "\n",
    "width = 0.3\n",
    "fig = plt.figure(num=None, figsize=(15, 12), dpi=80, facecolor='w', edgecolor='k')\n",
    "ax = fig.add_subplot(111)\n",
    "rects1 = ax.bar(sf, sf_counts['MALE'],width, color='blue', label='M')\n",
    "rects2 = ax.bar(sf-width, sf_counts['FEMALE'],width,color='pink', label='F')\n",
    "rects3 = ax.bar(sf+width, sf_counts['OTHER'],width, color='green', label='O')\n",
    "\n",
    "ax.legend()\n",
    "plt.show()"
   ]
  },
  {
   "cell_type": "markdown",
   "metadata": {},
   "source": [
    "signup-flow can be use as a feature."
   ]
  },
  {
   "cell_type": "markdown",
   "metadata": {},
   "source": [
    "## plot gender with affiliate_channel"
   ]
  },
  {
   "cell_type": "code",
   "execution_count": 174,
   "metadata": {
    "collapsed": false
   },
   "outputs": [],
   "source": [
    "df_ac = pd.concat([df.gender, df.affiliate_channel, df.id],axis=1)\n",
    "ac_counts = df_ac.groupby(['affiliate_channel','gender']).count()"
   ]
  },
  {
   "cell_type": "markdown",
   "metadata": {},
   "source": [
    "calculate the total number of individual per age group:"
   ]
  },
  {
   "cell_type": "code",
   "execution_count": 175,
   "metadata": {
    "collapsed": false
   },
   "outputs": [
    {
     "name": "stdout",
     "output_type": "stream",
     "text": [
      "                      id\n",
      "affiliate_channel       \n",
      "api                 2386\n",
      "content             1864\n",
      "direct             61845\n",
      "other               4636\n",
      "remarketing          528\n",
      "sem-brand          12930\n",
      "sem-non-brand       8386\n",
      "seo                 4540\n"
     ]
    }
   ],
   "source": [
    "ac_totals = ac_counts.sum(level=0)\n",
    "print ac_totals"
   ]
  },
  {
   "cell_type": "markdown",
   "metadata": {},
   "source": [
    "To prepare for plotting, I'll transform my counts dataframe to separate each sex by columns, instead of by index."
   ]
  },
  {
   "cell_type": "code",
   "execution_count": 176,
   "metadata": {
    "collapsed": false
   },
   "outputs": [
    {
     "name": "stdout",
     "output_type": "stream",
     "text": [
      "gender              FEMALE     MALE  OTHER\n",
      "affiliate_channel                         \n",
      "api                 1116.0   1268.0    2.0\n",
      "content             1170.0    692.0    2.0\n",
      "direct             32325.0  29388.0  132.0\n",
      "other               2492.0   2132.0   12.0\n",
      "remarketing          337.0    191.0    NaN\n",
      "sem-brand           7365.0   5534.0   31.0\n",
      "sem-non-brand       5054.0   3312.0   20.0\n",
      "seo                 2427.0   2106.0    7.0\n"
     ]
    }
   ],
   "source": [
    "ac_counts = ac_counts.unstack(level=1)\n",
    "ac_counts.columns = ac_counts.columns.droplevel(level=0)\n",
    "print ac_counts"
   ]
  },
  {
   "cell_type": "markdown",
   "metadata": {},
   "source": [
    "replace the NaN by 0."
   ]
  },
  {
   "cell_type": "code",
   "execution_count": 177,
   "metadata": {
    "collapsed": false
   },
   "outputs": [],
   "source": [
    "ac_counts = ac_counts.fillna(0)\n"
   ]
  },
  {
   "cell_type": "markdown",
   "metadata": {},
   "source": [
    "insight: at age 30, weman are much more than man. age 30 can be a out liner?????"
   ]
  },
  {
   "cell_type": "code",
   "execution_count": 178,
   "metadata": {
    "collapsed": false
   },
   "outputs": [
    {
     "name": "stdout",
     "output_type": "stream",
     "text": [
      "['api' 'content' 'direct' 'other' 'remarketing' 'sem-brand' 'sem-non-brand'\n",
      " 'seo']\n"
     ]
    },
    {
     "data": {
      "image/png": "[encoded data removed]",
      "text/plain": [
       "<matplotlib.figure.Figure at 0x117707bd0>"
      ]
     },
     "metadata": {},
     "output_type": "display_data"
    }
   ],
   "source": [
    "# age_counts.drop(30, inplace=True)\n",
    "ac = ac_counts.index.tolist()\n",
    "# turn it to np array so \n",
    "ac = np.asarray(ac)\n",
    "x_index = np.asarray([1,2,3,4,5,6,7,8])\n",
    "\n",
    "print ac\n",
    "\n",
    "width = 0.3\n",
    "fig = plt.figure(num=None, figsize=(15, 12), dpi=80, facecolor='w', edgecolor='k')\n",
    "ax = fig.add_subplot(111)\n",
    "rects1 = ax.bar(x_index, ac_counts['MALE'],width, color='blue', label='M')\n",
    "rects2 = ax.bar(x_index-width, ac_counts['FEMALE'],width,color='pink', label='F')\n",
    "rects3 = ax.bar(x_index+width, ac_counts['OTHER'],width, color='green', label='O')\n",
    "\n",
    "plt.xticks(x_index, ac)\n",
    "ax.legend()\n",
    "plt.show()"
   ]
  },
  {
   "cell_type": "markdown",
   "metadata": {},
   "source": [
    "affliated channel can be use as a feature."
   ]
  },
  {
   "cell_type": "markdown",
   "metadata": {},
   "source": [
    "## plot gender with affiliate_provider"
   ]
  },
  {
   "cell_type": "code",
   "execution_count": 179,
   "metadata": {
    "collapsed": false
   },
   "outputs": [],
   "source": [
    "df_ap = pd.concat([df.gender, df.affiliate_provider, df.id],axis=1)\n",
    "ap_counts = df_ap.groupby(['affiliate_provider','gender']).count()"
   ]
  },
  {
   "cell_type": "markdown",
   "metadata": {},
   "source": [
    "calculate the total number of individual per age group:"
   ]
  },
  {
   "cell_type": "code",
   "execution_count": 180,
   "metadata": {
    "collapsed": false
   },
   "outputs": [
    {
     "name": "stdout",
     "output_type": "stream",
     "text": [
      "                        id\n",
      "affiliate_provider        \n",
      "baidu                   13\n",
      "bing                  1003\n",
      "craigslist            1668\n",
      "direct               61757\n",
      "email-marketing         59\n",
      "facebook              1439\n",
      "facebook-open-graph    388\n",
      "google               24825\n",
      "gsp                    171\n",
      "meetup                 126\n",
      "naver                   23\n",
      "other                 4704\n",
      "padmapper              406\n",
      "vast                   297\n",
      "wayn                     3\n",
      "yahoo                  220\n",
      "yandex                  13\n"
     ]
    }
   ],
   "source": [
    "ap_totals = ap_counts.sum(level=0)\n",
    "print ap_totals"
   ]
  },
  {
   "cell_type": "markdown",
   "metadata": {},
   "source": [
    "To prepare for plotting, I'll transform my counts dataframe to separate each sex by columns, instead of by index."
   ]
  },
  {
   "cell_type": "code",
   "execution_count": 181,
   "metadata": {
    "collapsed": false
   },
   "outputs": [
    {
     "name": "stdout",
     "output_type": "stream",
     "text": [
      "gender                FEMALE     MALE  OTHER\n",
      "affiliate_provider                          \n",
      "baidu                    6.0      7.0    NaN\n",
      "bing                   638.0    364.0    1.0\n",
      "craigslist             903.0    761.0    4.0\n",
      "direct               32283.0  29342.0  132.0\n",
      "email-marketing         33.0     26.0    NaN\n",
      "facebook               769.0    667.0    3.0\n",
      "facebook-open-graph    246.0    141.0    1.0\n",
      "google               14394.0  10377.0   54.0\n",
      "gsp                     83.0     88.0    NaN\n",
      "meetup                  69.0     57.0    NaN\n",
      "naver                   11.0     12.0    NaN\n",
      "other                 2379.0   2316.0    9.0\n",
      "padmapper              162.0    244.0    NaN\n",
      "vast                   176.0    119.0    2.0\n",
      "wayn                     NaN      3.0    NaN\n",
      "yahoo                  126.0     94.0    NaN\n",
      "yandex                   8.0      5.0    NaN\n"
     ]
    }
   ],
   "source": [
    "ap_counts = ap_counts.unstack(level=1)\n",
    "ap_counts.columns = ap_counts.columns.droplevel(level=0)\n",
    "print ap_counts"
   ]
  },
  {
   "cell_type": "markdown",
   "metadata": {},
   "source": [
    "replace the NaN by 0."
   ]
  },
  {
   "cell_type": "code",
   "execution_count": 182,
   "metadata": {
    "collapsed": false
   },
   "outputs": [],
   "source": [
    "ap_counts = ap_counts.fillna(0)\n"
   ]
  },
  {
   "cell_type": "markdown",
   "metadata": {},
   "source": [
    "insight: at age 30, weman are much more than man. age 30 can be a out liner?????"
   ]
  },
  {
   "cell_type": "code",
   "execution_count": 183,
   "metadata": {
    "collapsed": false,
    "scrolled": true
   },
   "outputs": [
    {
     "name": "stdout",
     "output_type": "stream",
     "text": [
      "['api' 'content' 'direct' 'other' 'remarketing' 'sem-brand' 'sem-non-brand'\n",
      " 'seo']\n"
     ]
    },
    {
     "data": {
      "image/png": "[encoded data removed]",
      "text/plain": [
       "<matplotlib.figure.Figure at 0x11c2074d0>"
      ]
     },
     "metadata": {},
     "output_type": "display_data"
    }
   ],
   "source": [
    "# age_counts.drop(30, inplace=True)\n",
    "ap = ap_counts.index.tolist()\n",
    "# turn it to np array so \n",
    "ap = np.asarray(ap)\n",
    "x_index = np.asarray([1,2,3,4,5,6,7,8,9,10,11,12,13,14,15,16,17])\n",
    "\n",
    "print ac\n",
    "\n",
    "width = 0.3\n",
    "fig = plt.figure(num=None, figsize=(15, 12), dpi=80, facecolor='w', edgecolor='k')\n",
    "ax = fig.add_subplot(111)\n",
    "rects1 = ax.bar(x_index, ap_counts['MALE'],width, color='blue', label='M')\n",
    "rects2 = ax.bar(x_index-width, ap_counts['FEMALE'],width,color='pink', label='F')\n",
    "rects3 = ax.bar(x_index+width, ap_counts['OTHER'],width, color='green', label='O')\n",
    "\n",
    "plt.xticks(x_index, ap)\n",
    "ax.legend()\n",
    "plt.show()"
   ]
  },
  {
   "cell_type": "markdown",
   "metadata": {},
   "source": [
    "## plot gender with first_affiliate_tracked"
   ]
  },
  {
   "cell_type": "code",
   "execution_count": 184,
   "metadata": {
    "collapsed": false
   },
   "outputs": [],
   "source": [
    "df_fat = pd.concat([df.gender, df.first_affiliate_tracked, df.id],axis=1)\n",
    "fat_counts = df_fat.groupby(['first_affiliate_tracked','gender']).count()"
   ]
  },
  {
   "cell_type": "markdown",
   "metadata": {},
   "source": [
    "calculate the total number of individual per age group:"
   ]
  },
  {
   "cell_type": "code",
   "execution_count": 185,
   "metadata": {
    "collapsed": false
   },
   "outputs": [
    {
     "name": "stdout",
     "output_type": "stream",
     "text": [
      "                            id\n",
      "first_affiliate_tracked       \n",
      "linked                   24548\n",
      "local ops                   25\n",
      "marketing                   91\n",
      "omg                      21618\n",
      "product                    707\n",
      "tracked-other             3434\n",
      "untracked                46692\n"
     ]
    }
   ],
   "source": [
    "fat_totals = fat_counts.sum(level=0)\n",
    "print fat_totals"
   ]
  },
  {
   "cell_type": "markdown",
   "metadata": {},
   "source": [
    "To prepare for plotting, I'll transform my counts dataframe to separate each sex by columns, instead of by index."
   ]
  },
  {
   "cell_type": "code",
   "execution_count": 186,
   "metadata": {
    "collapsed": false
   },
   "outputs": [
    {
     "name": "stdout",
     "output_type": "stream",
     "text": [
      "gender                    FEMALE     MALE  OTHER\n",
      "first_affiliate_tracked                         \n",
      "linked                   13530.0  10970.0   48.0\n",
      "local ops                   13.0     12.0    NaN\n",
      "marketing                   51.0     40.0    NaN\n",
      "omg                      12504.0   9067.0   47.0\n",
      "product                    368.0    338.0    1.0\n",
      "tracked-other             1869.0   1561.0    4.0\n",
      "untracked                23951.0  22635.0  106.0\n"
     ]
    }
   ],
   "source": [
    "fat_counts = fat_counts.unstack(level=1)\n",
    "fat_counts.columns = fat_counts.columns.droplevel(level=0)\n",
    "print fat_counts"
   ]
  },
  {
   "cell_type": "markdown",
   "metadata": {},
   "source": [
    "replace the NaN by 0."
   ]
  },
  {
   "cell_type": "code",
   "execution_count": 187,
   "metadata": {
    "collapsed": false
   },
   "outputs": [],
   "source": [
    "fat_counts = fat_counts.fillna(0)\n"
   ]
  },
  {
   "cell_type": "markdown",
   "metadata": {},
   "source": [
    "insight: at age 30, weman are much more than man. age 30 can be a out liner?????"
   ]
  },
  {
   "cell_type": "code",
   "execution_count": 188,
   "metadata": {
    "collapsed": false,
    "scrolled": true
   },
   "outputs": [
    {
     "name": "stdout",
     "output_type": "stream",
     "text": [
      "['linked' 'local ops' 'marketing' 'omg' 'product' 'tracked-other'\n",
      " 'untracked']\n"
     ]
    },
    {
     "data": {
      "image/png": "[encoded data removed]",
      "text/plain": [
       "<matplotlib.figure.Figure at 0x117691dd0>"
      ]
     },
     "metadata": {},
     "output_type": "display_data"
    }
   ],
   "source": [
    "# age_counts.drop(30, inplace=True)\n",
    "fat = fat_counts.index.tolist()\n",
    "# turn it to np array so \n",
    "fat = np.asarray(fat)\n",
    "x_index = np.asarray([1,2,3,4,5,6,7])\n",
    "\n",
    "print fat\n",
    "\n",
    "width = 0.3\n",
    "fig = plt.figure(num=None, figsize=(15, 12), dpi=80, facecolor='w', edgecolor='k')\n",
    "ax = fig.add_subplot(111)\n",
    "rects1 = ax.bar(x_index, fat_counts['MALE'],width, color='blue', label='M')\n",
    "rects2 = ax.bar(x_index-width, fat_counts['FEMALE'],width,color='pink', label='F')\n",
    "rects3 = ax.bar(x_index+width, fat_counts['OTHER'],width, color='green', label='O')\n",
    "\n",
    "plt.xticks(x_index, fat)\n",
    "ax.legend()\n",
    "plt.show()"
   ]
  },
  {
   "cell_type": "markdown",
   "metadata": {},
   "source": [
    "signup-flow can be use as a feature. Too many data is untracked, first_affiliate might not be useful"
   ]
  },
  {
   "cell_type": "markdown",
   "metadata": {},
   "source": [
    "## plot gender with signup_app"
   ]
  },
  {
   "cell_type": "code",
   "execution_count": 189,
   "metadata": {
    "collapsed": false
   },
   "outputs": [],
   "source": [
    "df_su = pd.concat([df.gender, df.signup_app, df.id],axis=1)\n",
    "su_counts = df_su.groupby(['signup_app','gender']).count()"
   ]
  },
  {
   "cell_type": "markdown",
   "metadata": {},
   "source": [
    "calculate the total number of individual per age group:"
   ]
  },
  {
   "cell_type": "code",
   "execution_count": 190,
   "metadata": {
    "collapsed": false
   },
   "outputs": [
    {
     "name": "stdout",
     "output_type": "stream",
     "text": [
      "               id\n",
      "signup_app       \n",
      "Android       187\n",
      "Moweb        1670\n",
      "Web         92482\n",
      "iOS          2776\n"
     ]
    }
   ],
   "source": [
    "su_totals = su_counts.sum(level=0)\n",
    "print su_totals"
   ]
  },
  {
   "cell_type": "markdown",
   "metadata": {},
   "source": [
    "To prepare for plotting, I'll transform my counts dataframe to separate each sex by columns, instead of by index."
   ]
  },
  {
   "cell_type": "code",
   "execution_count": 191,
   "metadata": {
    "collapsed": false
   },
   "outputs": [
    {
     "name": "stdout",
     "output_type": "stream",
     "text": [
      "gender       FEMALE     MALE  OTHER\n",
      "signup_app                         \n",
      "Android        71.0    116.0    NaN\n",
      "Moweb        1033.0    635.0    2.0\n",
      "Web         49926.0  42355.0  201.0\n",
      "iOS          1256.0   1517.0    3.0\n"
     ]
    }
   ],
   "source": [
    "su_counts = su_counts.unstack(level=1)\n",
    "su_counts.columns = su_counts.columns.droplevel(level=0)\n",
    "print su_counts"
   ]
  },
  {
   "cell_type": "markdown",
   "metadata": {},
   "source": [
    "replace the NaN by 0."
   ]
  },
  {
   "cell_type": "code",
   "execution_count": 192,
   "metadata": {
    "collapsed": false
   },
   "outputs": [],
   "source": [
    "su_counts = su_counts.fillna(0)\n"
   ]
  },
  {
   "cell_type": "markdown",
   "metadata": {},
   "source": [
    "insight: at age 30, weman are much more than man. age 30 can be a out liner?????"
   ]
  },
  {
   "cell_type": "code",
   "execution_count": 193,
   "metadata": {
    "collapsed": false,
    "scrolled": true
   },
   "outputs": [
    {
     "name": "stdout",
     "output_type": "stream",
     "text": [
      "['Android' 'Moweb' 'Web' 'iOS']\n"
     ]
    },
    {
     "data": {
      "image/png": "[encoded data removed]",
      "text/plain": [
       "<matplotlib.figure.Figure at 0x117b01e10>"
      ]
     },
     "metadata": {},
     "output_type": "display_data"
    }
   ],
   "source": [
    "# age_counts.drop(30, inplace=True)\n",
    "su = su_counts.index.tolist()\n",
    "# turn it to np array so \n",
    "su = np.asarray(su)\n",
    "x_index = np.asarray([1,2,3,4])\n",
    "\n",
    "print su\n",
    "\n",
    "width = 0.3\n",
    "fig = plt.figure(num=None, figsize=(15, 12), dpi=80, facecolor='w', edgecolor='k')\n",
    "ax = fig.add_subplot(111)\n",
    "rects1 = ax.bar(x_index, su_counts['MALE'],width, color='blue', label='M')\n",
    "rects2 = ax.bar(x_index-width, su_counts['FEMALE'],width,color='pink', label='F')\n",
    "rects3 = ax.bar(x_index+width, su_counts['OTHER'],width, color='green', label='O')\n",
    "\n",
    "plt.xticks(x_index, su)\n",
    "ax.legend()\n",
    "plt.show()"
   ]
  },
  {
   "cell_type": "markdown",
   "metadata": {},
   "source": [
    "Can be useful"
   ]
  },
  {
   "cell_type": "markdown",
   "metadata": {},
   "source": [
    "## plot gender with first_device_type"
   ]
  },
  {
   "cell_type": "code",
   "execution_count": 194,
   "metadata": {
    "collapsed": false
   },
   "outputs": [],
   "source": [
    "df_fdt = pd.concat([df.gender, df.first_device_type, df.id],axis=1)\n",
    "fdt_counts = df_fdt.groupby(['first_device_type','gender']).count()"
   ]
  },
  {
   "cell_type": "markdown",
   "metadata": {},
   "source": [
    "calculate the total number of individual per age group:"
   ]
  },
  {
   "cell_type": "code",
   "execution_count": 195,
   "metadata": {
    "collapsed": false
   },
   "outputs": [
    {
     "name": "stdout",
     "output_type": "stream",
     "text": [
      "                       id\n",
      "first_device_type        \n",
      "Android Phone         599\n",
      "Android Tablet        483\n",
      "Desktop (Other)       637\n",
      "Mac Desktop         50195\n",
      "Other/Unknown          44\n",
      "SmartPhone (Other)     36\n",
      "Windows Desktop     36011\n",
      "iPad                 6176\n",
      "iPhone               2934\n"
     ]
    }
   ],
   "source": [
    "fdt_totals = fdt_counts.sum(level=0)\n",
    "print fdt_totals"
   ]
  },
  {
   "cell_type": "markdown",
   "metadata": {},
   "source": [
    "To prepare for plotting, I'll transform my counts dataframe to separate each sex by columns, instead of by index."
   ]
  },
  {
   "cell_type": "code",
   "execution_count": 196,
   "metadata": {
    "collapsed": false
   },
   "outputs": [
    {
     "name": "stdout",
     "output_type": "stream",
     "text": [
      "gender               FEMALE     MALE  OTHER\n",
      "first_device_type                          \n",
      "Android Phone         313.0    285.0    1.0\n",
      "Android Tablet        275.0    208.0    NaN\n",
      "Desktop (Other)       236.0    399.0    2.0\n",
      "Mac Desktop         27209.0  22867.0  119.0\n",
      "Other/Unknown          28.0     16.0    NaN\n",
      "SmartPhone (Other)     24.0     12.0    NaN\n",
      "Windows Desktop     18655.0  17286.0   70.0\n",
      "iPad                 3828.0   2341.0    7.0\n",
      "iPhone               1718.0   1209.0    7.0\n"
     ]
    }
   ],
   "source": [
    "fdt_counts = fdt_counts.unstack(level=1)\n",
    "fdt_counts.columns = fdt_counts.columns.droplevel(level=0)\n",
    "print fdt_counts"
   ]
  },
  {
   "cell_type": "markdown",
   "metadata": {},
   "source": [
    "replace the NaN by 0."
   ]
  },
  {
   "cell_type": "code",
   "execution_count": 197,
   "metadata": {
    "collapsed": false
   },
   "outputs": [],
   "source": [
    "fdt_counts = fdt_counts.fillna(0)\n"
   ]
  },
  {
   "cell_type": "markdown",
   "metadata": {},
   "source": [
    "insight: at age 30, weman are much more than man. age 30 can be a out liner?????"
   ]
  },
  {
   "cell_type": "code",
   "execution_count": 198,
   "metadata": {
    "collapsed": false,
    "scrolled": true
   },
   "outputs": [
    {
     "name": "stdout",
     "output_type": "stream",
     "text": [
      "['Android Phone' 'Android Tablet' 'Desktop (Other)' 'Mac Desktop'\n",
      " 'Other/Unknown' 'SmartPhone (Other)' 'Windows Desktop' 'iPad' 'iPhone']\n"
     ]
    },
    {
     "data": {
      "image/png": "[encoded data removed]",
      "text/plain": [
       "<matplotlib.figure.Figure at 0x11b202710>"
      ]
     },
     "metadata": {},
     "output_type": "display_data"
    }
   ],
   "source": [
    "# age_counts.drop(30, inplace=True)\n",
    "fdt = fdt_counts.index.tolist()\n",
    "# turn it to np array so \n",
    "fdt = np.asarray(fdt)\n",
    "x_index = np.asarray([1,2,3,4,5,6,7,8,9])\n",
    "\n",
    "print fdt\n",
    "\n",
    "width = 0.3\n",
    "fig = plt.figure(num=None, figsize=(15, 12), dpi=80, facecolor='w', edgecolor='k')\n",
    "ax = fig.add_subplot(111)\n",
    "rects1 = ax.bar(x_index, fdt_counts['MALE'],width, color='blue', label='M')\n",
    "rects2 = ax.bar(x_index-width, fdt_counts['FEMALE'],width,color='pink', label='F')\n",
    "rects3 = ax.bar(x_index+width, fdt_counts['OTHER'],width, color='green', label='O')\n",
    "\n",
    "plt.xticks(x_index, fdt)\n",
    "ax.legend()\n",
    "plt.show()"
   ]
  },
  {
   "cell_type": "markdown",
   "metadata": {},
   "source": [
    "Can be useful"
   ]
  },
  {
   "cell_type": "markdown",
   "metadata": {},
   "source": [
    "## plot gender with first_browser"
   ]
  },
  {
   "cell_type": "code",
   "execution_count": 199,
   "metadata": {
    "collapsed": false
   },
   "outputs": [],
   "source": [
    "df_fb = pd.concat([df.gender, df.first_browser, df.id],axis=1)\n",
    "fb_counts = df_fb.groupby(['first_browser','gender']).count()"
   ]
  },
  {
   "cell_type": "markdown",
   "metadata": {},
   "source": [
    "calculate the total number of individual per age group:"
   ]
  },
  {
   "cell_type": "code",
   "execution_count": 200,
   "metadata": {
    "collapsed": false
   },
   "outputs": [
    {
     "name": "stdout",
     "output_type": "stream",
     "text": [
      "                       id\n",
      "first_browser            \n",
      "AOL Explorer           83\n",
      "Android Browser       357\n",
      "Apple Mail             19\n",
      "Avant Browser           4\n",
      "BlackBerry Browser     33\n",
      "Camino                  4\n",
      "Chrome              36298\n",
      "Chrome Mobile         481\n",
      "Chromium               42\n",
      "CometBird               1\n",
      "Comodo Dragon           1\n",
      "CoolNovo                4\n",
      "Firefox             17629\n",
      "IE                   8985\n",
      "IE Mobile               9\n",
      "IceWeasel              10\n",
      "Iron                    9\n",
      "Kindle Browser          1\n",
      "Maxthon                25\n",
      "Mobile Firefox         14\n",
      "Mobile Safari        8890\n",
      "Mozilla                 2\n",
      "NetNewsWire             1\n",
      "Opera                  97\n",
      "Opera Mini              2\n",
      "Opera Mobile            2\n",
      "PS Vita browser         1\n",
      "Pale Moon               6\n",
      "RockMelt               20\n",
      "Safari              23980\n",
      "SeaMonkey               2\n",
      "Silk                   67\n",
      "SiteKiosk               6\n",
      "SlimBrowser             1\n",
      "Sogou Explorer         12\n",
      "Stainless               1\n",
      "TenFourFox              3\n",
      "TheWorld Browser        2\n",
      "Yandex.Browser          9\n",
      "wOSBrowser              2\n"
     ]
    }
   ],
   "source": [
    "fb_totals = fb_counts.sum(level=0)\n",
    "print fb_totals"
   ]
  },
  {
   "cell_type": "markdown",
   "metadata": {},
   "source": [
    "To prepare for plotting, I'll transform my counts dataframe to separate each sex by columns, instead of by index."
   ]
  },
  {
   "cell_type": "code",
   "execution_count": 201,
   "metadata": {
    "collapsed": false
   },
   "outputs": [
    {
     "name": "stdout",
     "output_type": "stream",
     "text": [
      "gender               FEMALE     MALE  OTHER\n",
      "first_browser                              \n",
      "AOL Explorer           49.0     34.0    NaN\n",
      "Android Browser       207.0    149.0    1.0\n",
      "Apple Mail             10.0      9.0    NaN\n",
      "Avant Browser           2.0      2.0    NaN\n",
      "BlackBerry Browser     20.0     13.0    NaN\n",
      "Camino                  2.0      2.0    NaN\n",
      "Chrome              17358.0  18860.0   80.0\n",
      "Chrome Mobile         219.0    262.0    NaN\n",
      "Chromium                6.0     36.0    NaN\n",
      "CometBird               NaN      1.0    NaN\n",
      "Comodo Dragon           1.0      NaN    NaN\n",
      "CoolNovo                3.0      1.0    NaN\n",
      "Firefox              9650.0   7929.0   50.0\n",
      "IE                   5457.0   3515.0   13.0\n",
      "IE Mobile               5.0      4.0    NaN\n",
      "IceWeasel               3.0      7.0    NaN\n",
      "Iron                    3.0      6.0    NaN\n",
      "Kindle Browser          NaN      1.0    NaN\n",
      "Maxthon                 5.0     20.0    NaN\n",
      "Mobile Firefox          5.0      9.0    NaN\n",
      "Mobile Safari        5450.0   3426.0   14.0\n",
      "Mozilla                 1.0      1.0    NaN\n",
      "NetNewsWire             NaN      1.0    NaN\n",
      "Opera                  32.0     65.0    NaN\n",
      "Opera Mini              2.0      NaN    NaN\n",
      "Opera Mobile            1.0      1.0    NaN\n",
      "PS Vita browser         NaN      1.0    NaN\n",
      "Pale Moon               NaN      6.0    NaN\n",
      "RockMelt                8.0     12.0    NaN\n",
      "Safari              13728.0  10205.0   47.0\n",
      "SeaMonkey               NaN      1.0    1.0\n",
      "Silk                   44.0     23.0    NaN\n",
      "SiteKiosk               NaN      6.0    NaN\n",
      "SlimBrowser             1.0      NaN    NaN\n",
      "Sogou Explorer          5.0      7.0    NaN\n",
      "Stainless               NaN      1.0    NaN\n",
      "TenFourFox              1.0      2.0    NaN\n",
      "TheWorld Browser        2.0      NaN    NaN\n",
      "Yandex.Browser          5.0      4.0    NaN\n",
      "wOSBrowser              1.0      1.0    NaN\n"
     ]
    }
   ],
   "source": [
    "fb_counts = fb_counts.unstack(level=1)\n",
    "fb_counts.columns = fb_counts.columns.droplevel(level=0)\n",
    "print fb_counts"
   ]
  },
  {
   "cell_type": "code",
   "execution_count": 202,
   "metadata": {
    "collapsed": false
   },
   "outputs": [
    {
     "data": {
      "text/plain": [
       "(40, 3)"
      ]
     },
     "execution_count": 202,
     "metadata": {},
     "output_type": "execute_result"
    }
   ],
   "source": [
    "fb_counts.shape"
   ]
  },
  {
   "cell_type": "markdown",
   "metadata": {},
   "source": [
    "replace the NaN by 0."
   ]
  },
  {
   "cell_type": "code",
   "execution_count": 203,
   "metadata": {
    "collapsed": false
   },
   "outputs": [],
   "source": [
    "fb_counts = fb_counts.fillna(0)\n"
   ]
  },
  {
   "cell_type": "markdown",
   "metadata": {},
   "source": [
    "insight: at age 30, weman are much more than man. age 30 can be a out liner?????"
   ]
  },
  {
   "cell_type": "code",
   "execution_count": 205,
   "metadata": {
    "collapsed": false,
    "scrolled": true
   },
   "outputs": [
    {
     "name": "stdout",
     "output_type": "stream",
     "text": [
      "['AOL Explorer' 'Android Browser' 'Apple Mail' 'Avant Browser'\n",
      " 'BlackBerry Browser' 'Camino' 'Chrome' 'Chrome Mobile' 'Chromium'\n",
      " 'CometBird' 'Comodo Dragon' 'CoolNovo' 'Firefox' 'IE' 'IE Mobile'\n",
      " 'IceWeasel' 'Iron' 'Kindle Browser' 'Maxthon' 'Mobile Firefox'\n",
      " 'Mobile Safari' 'Mozilla' 'NetNewsWire' 'Opera' 'Opera Mini'\n",
      " 'Opera Mobile' 'PS Vita browser' 'Pale Moon' 'RockMelt' 'Safari'\n",
      " 'SeaMonkey' 'Silk' 'SiteKiosk' 'SlimBrowser' 'Sogou Explorer' 'Stainless'\n",
      " 'TenFourFox' 'TheWorld Browser' 'Yandex.Browser' 'wOSBrowser']\n"
     ]
    },
    {
     "data": {
      "image/png": "[encoded data removed]",
      "text/plain": [
       "<matplotlib.figure.Figure at 0x1170754d0>"
      ]
     },
     "metadata": {},
     "output_type": "display_data"
    }
   ],
   "source": [
    "# age_counts.drop(30, inplace=True)\n",
    "fb = fb_counts.index.tolist()\n",
    "# turn it to np array so \n",
    "fb = np.asarray(fb)\n",
    "x_index = np.asarray([1,2,3,4,5,6,7,8,9,10\n",
    "                      ,11,12,13,14,15,16,17,18,19,20\n",
    "                      ,21,22,23,24,25,26,27,28,29,30\n",
    "                      ,31,32,33,34,35,36,37,38,39,40])\n",
    "\n",
    "print fb\n",
    "\n",
    "width = 0.3\n",
    "fig = plt.figure(num=None, figsize=(15, 12), dpi=80, facecolor='w', edgecolor='k')\n",
    "ax = fig.add_subplot(111)\n",
    "rects1 = ax.bar(x_index, fb_counts['MALE'],width, color='blue', label='M')\n",
    "rects2 = ax.bar(x_index-width, fb_counts['FEMALE'],width,color='pink', label='F')\n",
    "rects3 = ax.bar(x_index+width, fb_counts['OTHER'],width, color='green', label='O')\n",
    "\n",
    "plt.xticks(x_index, fb)\n",
    "ax.legend()\n",
    "plt.show()"
   ]
  },
  {
   "cell_type": "markdown",
   "metadata": {},
   "source": [
    "Can be useful"
   ]
  },
  {
   "cell_type": "markdown",
   "metadata": {},
   "source": [
    "### Train a modle to get the the missing age\n",
    "relavent feature can be: date_account_created signup_method signup_flow language affiliate_channel affiliate_provider first_affiliate_tracked signup_app first_device_type first_browser"
   ]
  },
  {
   "cell_type": "code",
   "execution_count": 9,
   "metadata": {
    "collapsed": false
   },
   "outputs": [],
   "source": [
    "df.drop(['id'],1,inplace=True)\n",
    "gender_relat_data = df.dropna()\n",
    "Y = gender_relat_data.gender\n",
    "gender_relat_data.drop(['gender','date_account_created','country_destination'],1,inplace=True)\n"
   ]
  },
  {
   "cell_type": "code",
   "execution_count": 10,
   "metadata": {
    "collapsed": false
   },
   "outputs": [
    {
     "data": {
      "text/html": [
       "<div>\n",
       "<table border=\"1\" class=\"dataframe\">\n",
       "  <thead>\n",
       "    <tr style=\"text-align: right;\">\n",
       "      <th></th>\n",
       "      <th>timestamp_first_active</th>\n",
       "      <th>age</th>\n",
       "      <th>signup_method</th>\n",
       "      <th>signup_flow</th>\n",
       "      <th>language</th>\n",
       "      <th>affiliate_channel</th>\n",
       "      <th>affiliate_provider</th>\n",
       "      <th>first_affiliate_tracked</th>\n",
       "      <th>signup_app</th>\n",
       "      <th>first_device_type</th>\n",
       "      <th>first_browser</th>\n",
       "    </tr>\n",
       "  </thead>\n",
       "  <tbody>\n",
       "    <tr>\n",
       "      <th>1</th>\n",
       "      <td>2.010000e+13</td>\n",
       "      <td>38.0</td>\n",
       "      <td>facebook</td>\n",
       "      <td>0</td>\n",
       "      <td>en</td>\n",
       "      <td>seo</td>\n",
       "      <td>google</td>\n",
       "      <td>untracked</td>\n",
       "      <td>Web</td>\n",
       "      <td>Mac Desktop</td>\n",
       "      <td>Chrome</td>\n",
       "    </tr>\n",
       "    <tr>\n",
       "      <th>2</th>\n",
       "      <td>2.010000e+13</td>\n",
       "      <td>56.0</td>\n",
       "      <td>basic</td>\n",
       "      <td>3</td>\n",
       "      <td>en</td>\n",
       "      <td>direct</td>\n",
       "      <td>direct</td>\n",
       "      <td>untracked</td>\n",
       "      <td>Web</td>\n",
       "      <td>Windows Desktop</td>\n",
       "      <td>IE</td>\n",
       "    </tr>\n",
       "    <tr>\n",
       "      <th>3</th>\n",
       "      <td>2.010000e+13</td>\n",
       "      <td>42.0</td>\n",
       "      <td>facebook</td>\n",
       "      <td>0</td>\n",
       "      <td>en</td>\n",
       "      <td>direct</td>\n",
       "      <td>direct</td>\n",
       "      <td>untracked</td>\n",
       "      <td>Web</td>\n",
       "      <td>Mac Desktop</td>\n",
       "      <td>Firefox</td>\n",
       "    </tr>\n",
       "    <tr>\n",
       "      <th>6</th>\n",
       "      <td>2.010000e+13</td>\n",
       "      <td>46.0</td>\n",
       "      <td>basic</td>\n",
       "      <td>0</td>\n",
       "      <td>en</td>\n",
       "      <td>other</td>\n",
       "      <td>craigslist</td>\n",
       "      <td>untracked</td>\n",
       "      <td>Web</td>\n",
       "      <td>Mac Desktop</td>\n",
       "      <td>Safari</td>\n",
       "    </tr>\n",
       "    <tr>\n",
       "      <th>7</th>\n",
       "      <td>2.010000e+13</td>\n",
       "      <td>47.0</td>\n",
       "      <td>basic</td>\n",
       "      <td>0</td>\n",
       "      <td>en</td>\n",
       "      <td>direct</td>\n",
       "      <td>direct</td>\n",
       "      <td>omg</td>\n",
       "      <td>Web</td>\n",
       "      <td>Mac Desktop</td>\n",
       "      <td>Safari</td>\n",
       "    </tr>\n",
       "  </tbody>\n",
       "</table>\n",
       "</div>"
      ],
      "text/plain": [
       "   timestamp_first_active   age signup_method  signup_flow language  \\\n",
       "1            2.010000e+13  38.0      facebook            0       en   \n",
       "2            2.010000e+13  56.0         basic            3       en   \n",
       "3            2.010000e+13  42.0      facebook            0       en   \n",
       "6            2.010000e+13  46.0         basic            0       en   \n",
       "7            2.010000e+13  47.0         basic            0       en   \n",
       "\n",
       "  affiliate_channel affiliate_provider first_affiliate_tracked signup_app  \\\n",
       "1               seo             google               untracked        Web   \n",
       "2            direct             direct               untracked        Web   \n",
       "3            direct             direct               untracked        Web   \n",
       "6             other         craigslist               untracked        Web   \n",
       "7            direct             direct                     omg        Web   \n",
       "\n",
       "  first_device_type first_browser  \n",
       "1       Mac Desktop        Chrome  \n",
       "2   Windows Desktop            IE  \n",
       "3       Mac Desktop       Firefox  \n",
       "6       Mac Desktop        Safari  \n",
       "7       Mac Desktop        Safari  "
      ]
     },
     "execution_count": 10,
     "metadata": {},
     "output_type": "execute_result"
    }
   ],
   "source": [
    "gender_relat_data.head()"
   ]
  },
  {
   "cell_type": "markdown",
   "metadata": {},
   "source": [
    "One hot encoding all age related data"
   ]
  },
  {
   "cell_type": "code",
   "execution_count": 11,
   "metadata": {
    "collapsed": false
   },
   "outputs": [],
   "source": [
    "oh_signup_method = pd.get_dummies(gender_relat_data.signup_method, prefix=\"signup_method\")\n",
    "oh_language = pd.get_dummies(gender_relat_data.language, prefix=\"language\")\n",
    "oh_signup_method = pd.get_dummies(gender_relat_data.signup_method, prefix=\"language\")\n",
    "oh_affiliate_channel = pd.get_dummies(gender_relat_data.affiliate_channel, prefix=\"affiliate_channel\")\n",
    "oh_affiliate_provider = pd.get_dummies(gender_relat_data.affiliate_provider, prefix=\"affiliate_provider\")\n",
    "oh_first_affiliate_tracked = pd.get_dummies(gender_relat_data.first_affiliate_tracked, prefix=\"first_affiliate_tracked\")\n",
    "oh_signup_app = pd.get_dummies(gender_relat_data.signup_app, prefix=\"signup_app\")\n",
    "oh_first_device_type = pd.get_dummies(gender_relat_data.first_device_type, prefix=\"first_device_type\")\n",
    "oh_first_browser = pd.get_dummies(gender_relat_data.first_browser, prefix=\"first_browser\")\n",
    "gender_relat_data.drop(['signup_method', 'signup_method', 'signup_flow',\n",
    "         'language', 'affiliate_channel', \n",
    "         'affiliate_provider', 'first_affiliate_tracked', \n",
    "         'signup_app', 'first_device_type', 'first_browser'],1,inplace=True)\n",
    "gender_relat_data = pd.concat([oh_signup_method,gender_relat_data,oh_language,oh_signup_method,\n",
    "                      oh_affiliate_channel,oh_affiliate_provider,\n",
    "                     oh_first_affiliate_tracked,oh_signup_app,\n",
    "                     oh_first_device_type,oh_first_browser],axis=1)"
   ]
  },
  {
   "cell_type": "code",
   "execution_count": 12,
   "metadata": {
    "collapsed": false
   },
   "outputs": [],
   "source": [
    "# df_thirth =  gender_relat_data.loc[df['age']==30]\n",
    "# df_thirth.shape"
   ]
  },
  {
   "cell_type": "markdown",
   "metadata": {},
   "source": [
    "Sample scaling some rows for female that age 30"
   ]
  },
  {
   "cell_type": "code",
   "execution_count": 13,
   "metadata": {
    "collapsed": false
   },
   "outputs": [],
   "source": [
    "# thir_X = df_thirth.ix[:,:129]\n",
    "# thir_Y = df_thirth.ix[:,129]\n",
    "# # df = df.drop(df.query('gender == \\'FEMALE\\'').sample(frac=0.3).index)\n",
    "# # df = df.drop(df.query('gender == \\'FEMALE\\' and age == 30').sample(frac=0.9).index)\n",
    "# # df.shape\n",
    "# nm1 = NearMiss(random_state=0, version =1)\n",
    "# Xthir_resample,Ythir_resample = nm1.fit_sample(thir_X,thir_Y)"
   ]
  },
  {
   "cell_type": "code",
   "execution_count": 14,
   "metadata": {
    "collapsed": false
   },
   "outputs": [],
   "source": [
    "# Xthir_resample.shape"
   ]
  },
  {
   "cell_type": "markdown",
   "metadata": {},
   "source": [
    "Train a model to predict age using SGDRegresion"
   ]
  },
  {
   "cell_type": "code",
   "execution_count": 20,
   "metadata": {
    "collapsed": false
   },
   "outputs": [],
   "source": [
    "from sklearn.model_selection import train_test_split\n",
    "x_train, x_test, y_train, y_test = train_test_split(gender_relat_data, Y, test_size=0.3)\n"
   ]
  },
  {
   "cell_type": "code",
   "execution_count": 26,
   "metadata": {
    "collapsed": true
   },
   "outputs": [],
   "source": [
    "from sklearn import tree\n",
    "from sklearn.metrics import precision_recall_fscore_support as score\n",
    "from sklearn.metrics import accuracy_score\n",
    "from sklearn.metrics import precision_score\n",
    "from sklearn.metrics import confusion_matrix\n",
    "import seaborn as sn\n",
    "result_lable = ['MALE','FEMALE','OTHER']"
   ]
  },
  {
   "cell_type": "markdown",
   "metadata": {},
   "source": [
    "## DECISION TREE TO PREDICT GENDER"
   ]
  },
  {
   "cell_type": "code",
   "execution_count": 27,
   "metadata": {
    "collapsed": false
   },
   "outputs": [],
   "source": [
    "from sklearn import tree\n",
    "clf = tree.DecisionTreeClassifier(criterion='entropy',min_samples_split=1000)\n",
    "clf = clf.fit(x_train,y_train)"
   ]
  },
  {
   "cell_type": "code",
   "execution_count": 28,
   "metadata": {
    "collapsed": false
   },
   "outputs": [
    {
     "name": "stdout",
     "output_type": "stream",
     "text": [
      "precision: [ 0.57867412  0.55399319  0.        ]\n",
      "0.566247500696\n",
      "0.570962759568\n"
     ]
    }
   ],
   "source": [
    "y_predict = clf.predict(x_test)\n",
    "precision, recall, fscore, support = score(y_test, y_predict)\n",
    "print('precision: {}'.format(precision))\n",
    "print precision_score(y_test, y_predict, average='weighted') \n",
    "print accuracy_score(y_test, y_predict)"
   ]
  },
  {
   "cell_type": "code",
   "execution_count": 29,
   "metadata": {
    "collapsed": false
   },
   "outputs": [
    {
     "data": {
      "text/plain": [
       "<matplotlib.axes._subplots.AxesSubplot at 0x116c9c750>"
      ]
     },
     "execution_count": 29,
     "metadata": {},
     "output_type": "execute_result"
    },
    {
     "data": {
      "image/png": "[encoded data removed]",
      "text/plain": [
       "<matplotlib.figure.Figure at 0x116c9c190>"
      ]
     },
     "metadata": {},
     "output_type": "display_data"
    }
   ],
   "source": [
    "cnf_matrix = confusion_matrix(y_test, y_predict, labels = result_lable)\n",
    "cnf_matrix = pd.DataFrame(cnf_matrix, index = [i for i in result_lable],\n",
    "                          columns = [i for i in result_lable])\n",
    "# Plot non-normalized confusion matrix\n",
    "sn.set(font_scale=1.6)\n",
    "sn.heatmap(cnf_matrix, annot= True,annot_kws={\"size\": 20}, cmap=\"YlGnBu\",fmt=\"d\")"
   ]
  },
  {
   "cell_type": "markdown",
   "metadata": {},
   "source": [
    "## Radial Basis Function (RBF) kernel SVM"
   ]
  },
  {
   "cell_type": "code",
   "execution_count": 221,
   "metadata": {
    "collapsed": false
   },
   "outputs": [
    {
     "data": {
      "text/plain": [
       "SVC(C=1, cache_size=200, class_weight=None, coef0=0.0,\n",
       "  decision_function_shape='ovr', degree=3, gamma=2, kernel='rbf',\n",
       "  max_iter=-1, probability=False, random_state=None, shrinking=True,\n",
       "  tol=0.001, verbose=False)"
      ]
     },
     "execution_count": 221,
     "metadata": {},
     "output_type": "execute_result"
    }
   ],
   "source": [
    "from sklearn.svm import SVC\n",
    "svc = SVC(gamma=2, C=1)\n",
    "svc.fit(x_train,y_train)"
   ]
  },
  {
   "cell_type": "code",
   "execution_count": 222,
   "metadata": {
    "collapsed": false
   },
   "outputs": [
    {
     "name": "stdout",
     "output_type": "stream",
     "text": [
      "precision: [ 0.575       0.52443062  0.00815217]\n",
      "0.550342923587\n",
      "0.550540586923\n"
     ]
    }
   ],
   "source": [
    "y_predict = svc.predict(x_test)\n",
    "precision, recall, fscore, support = score(y_test, y_predict)\n",
    "print('precision: {}'.format(precision))\n",
    "print precision_score(y_test, y_predict, average='weighted') \n",
    "print accuracy_score(y_test, y_predict)"
   ]
  },
  {
   "cell_type": "code",
   "execution_count": 223,
   "metadata": {
    "collapsed": false
   },
   "outputs": [
    {
     "data": {
      "text/plain": [
       "<matplotlib.axes._subplots.AxesSubplot at 0x1176f3710>"
      ]
     },
     "execution_count": 223,
     "metadata": {},
     "output_type": "execute_result"
    },
    {
     "data": {
      "image/png": "[encoded data removed]",
      "text/plain": [
       "<matplotlib.figure.Figure at 0x116c73850>"
      ]
     },
     "metadata": {},
     "output_type": "display_data"
    }
   ],
   "source": [
    "cnf_matrix = confusion_matrix(y_test, y_predict, labels = result_lable)\n",
    "cnf_matrix = pd.DataFrame(cnf_matrix, index = [i for i in result_lable],\n",
    "                          columns = [i for i in result_lable])\n",
    "# Plot non-normalized confusion matrix\n",
    "sn.heatmap(cnf_matrix, annot= True, cmap=\"YlGnBu\",fmt=\"d\")"
   ]
  },
  {
   "cell_type": "code",
   "execution_count": null,
   "metadata": {
    "collapsed": true
   },
   "outputs": [],
   "source": []
  }
 ],
 "metadata": {
  "kernelspec": {
   "display_name": "Python 2",
   "language": "python",
   "name": "python2"
  },
  "language_info": {
   "codemirror_mode": {
    "name": "ipython",
    "version": 2
   },
   "file_extension": ".py",
   "mimetype": "text/x-python",
   "name": "python",
   "nbconvert_exporter": "python",
   "pygments_lexer": "ipython2",
   "version": "2.7.13"
  }
 },
 "nbformat": 4,
 "nbformat_minor": 2
}
