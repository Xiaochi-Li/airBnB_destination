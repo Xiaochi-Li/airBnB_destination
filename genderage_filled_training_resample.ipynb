{
 "cells": [
  {
   "cell_type": "code",
   "execution_count": 1,
   "metadata": {
    "collapsed": false
   },
   "outputs": [
    {
     "name": "stderr",
     "output_type": "stream",
     "text": [
      "Using TensorFlow backend.\n"
     ]
    }
   ],
   "source": [
    "import pandas as pd\n",
    "import seaborn as sn\n",
    "import numpy as np\n",
    "from imblearn.over_sampling import SMOTE\n",
    "\n",
    "import keras\n",
    "from keras.models import Sequential\n",
    "from keras.layers.core import Dense, Activation\n",
    "from keras.regularizers import l2\n",
    "\n",
    "from imblearn.under_sampling import NearMiss\n",
    "from sklearn.preprocessing import Imputer\n",
    "from sklearn.utils import shuffle\n",
    "from sklearn import tree\n",
    "from sklearn import linear_model\n",
    "from sklearn.metrics import accuracy_score\n",
    "from sklearn.metrics import precision_score\n",
    "from sklearn.metrics import precision_recall_fscore_support as score\n",
    "from sklearn.metrics import confusion_matrix\n",
    "from sklearn.model_selection import train_test_split"
   ]
  },
  {
   "cell_type": "code",
   "execution_count": 2,
   "metadata": {
    "collapsed": false
   },
   "outputs": [],
   "source": [
    "df = pd.read_csv('./data/sesion_joind_gender_age.csv')"
   ]
  },
  {
   "cell_type": "markdown",
   "metadata": {},
   "source": [
    "Use back fill 来保证最少程度减少bias."
   ]
  },
  {
   "cell_type": "code",
   "execution_count": 3,
   "metadata": {
    "collapsed": false
   },
   "outputs": [],
   "source": [
    "\n",
    "df = df.fillna(method=\"backfill\")\n",
    "df = df.fillna(method=\"ffill\")"
   ]
  },
  {
   "cell_type": "markdown",
   "metadata": {},
   "source": [
    "Seperate training and target data"
   ]
  },
  {
   "cell_type": "code",
   "execution_count": 4,
   "metadata": {
    "collapsed": true
   },
   "outputs": [],
   "source": [
    "Y = df.country_destination\n",
    "df.drop([\"country_destination\", \"id\",\"date_account_created\",\"timestamp_first_active\"], 1, inplace=True)"
   ]
  },
  {
   "cell_type": "code",
   "execution_count": 5,
   "metadata": {
    "collapsed": false
   },
   "outputs": [
    {
     "data": {
      "text/plain": [
       "0       US\n",
       "1      NDF\n",
       "2       US\n",
       "3    other\n",
       "4       US\n",
       "Name: country_destination, dtype: object"
      ]
     },
     "execution_count": 5,
     "metadata": {},
     "output_type": "execute_result"
    }
   ],
   "source": [
    "Y.head()"
   ]
  },
  {
   "cell_type": "code",
   "execution_count": 6,
   "metadata": {
    "collapsed": false
   },
   "outputs": [],
   "source": [
    "# one-hot-encode all the categorical data:\n",
    "# gender signup_method language affiliate_channel \n",
    "# affiliate_provider first_affiliate_tracked signup_app\t\n",
    "# first_device_type first_browser\tcountry_destination\n",
    "oh_gender = pd.get_dummies(df.gender, prefix=\"gender\")\n",
    "oh_language = pd.get_dummies(df.language, prefix=\"language\")\n",
    "oh_signup_method = pd.get_dummies(df.signup_method, prefix=\"signup_method\")\n",
    "oh_affiliate_channel = pd.get_dummies(df.affiliate_channel, prefix=\"affiliate_channel\")\n",
    "oh_affiliate_provider = pd.get_dummies(df.affiliate_provider, prefix=\"affiliate_provider\")\n",
    "oh_first_affiliate_tracked = pd.get_dummies(df.first_affiliate_tracked, prefix=\"first_affiliate_tracked\")\n",
    "oh_signup_app = pd.get_dummies(df.signup_app, prefix=\"signup_app\")\n",
    "oh_first_device_type = pd.get_dummies(df.first_device_type, prefix=\"first_device_type\")\n",
    "oh_first_browser = pd.get_dummies(df.first_browser, prefix=\"first_browser\")\n",
    "\n",
    "#dropped date_account_created date_first_booking add back later\n",
    "df.drop(['gender', 'signup_method',\n",
    "         'language', 'affiliate_channel', \n",
    "         'affiliate_provider', 'first_affiliate_tracked', \n",
    "         'signup_app', 'first_device_type', 'first_browser'],1,inplace=True)\n",
    "# from the traning set\n",
    "x_train = pd.concat([df,oh_gender, oh_language, \n",
    "                oh_signup_method, oh_affiliate_channel, \n",
    "                oh_affiliate_provider,\n",
    "                oh_first_affiliate_tracked, oh_signup_app,\n",
    "                oh_first_device_type, oh_first_browser],axis=1)\n",
    "x_head = list(x_train.columns.values)"
   ]
  },
  {
   "cell_type": "code",
   "execution_count": null,
   "metadata": {
    "collapsed": false
   },
   "outputs": [],
   "source": []
  },
  {
   "cell_type": "markdown",
   "metadata": {},
   "source": [
    "Train sample splite"
   ]
  },
  {
   "cell_type": "code",
   "execution_count": 7,
   "metadata": {
    "collapsed": true
   },
   "outputs": [],
   "source": [
    "x_real_train, x_test, y_train, y_test = train_test_split(x_train,Y, test_size=0.3)"
   ]
  },
  {
   "cell_type": "code",
   "execution_count": 8,
   "metadata": {
    "collapsed": false
   },
   "outputs": [
    {
     "data": {
      "text/plain": [
       "(6279, 449)"
      ]
     },
     "execution_count": 8,
     "metadata": {},
     "output_type": "execute_result"
    }
   ],
   "source": [
    "x_real_train.shape"
   ]
  },
  {
   "cell_type": "markdown",
   "metadata": {},
   "source": [
    "## Undersample NLD"
   ]
  },
  {
   "cell_type": "code",
   "execution_count": 9,
   "metadata": {
    "collapsed": false
   },
   "outputs": [
    {
     "data": {
      "text/plain": [
       "NDF      3789\n",
       "US       1743\n",
       "other     351\n",
       "FR        127\n",
       "IT         72\n",
       "GB         60\n",
       "ES         56\n",
       "CA         25\n",
       "NL         19\n",
       "DE         17\n",
       "AU         15\n",
       "PT          5\n",
       "Name: country_destination, dtype: int64"
      ]
     },
     "execution_count": 9,
     "metadata": {},
     "output_type": "execute_result"
    }
   ],
   "source": [
    "y_train.value_counts()\n"
   ]
  },
  {
   "cell_type": "code",
   "execution_count": 12,
   "metadata": {
    "collapsed": false
   },
   "outputs": [],
   "source": [
    "nm1 = NearMiss(ratio={'NDF':1906,'US':1743, 'other':351, 'FR':127, 'IT':72,'GB':60, 'ES':56,'CA':25, 'NL':19, 'DE':17, 'AU':15, 'PT':5},random_state=4, version =2)\n",
    "X_us,Y_us = nm1.fit_sample(x_real_train,y_train)"
   ]
  },
  {
   "cell_type": "code",
   "execution_count": 13,
   "metadata": {
    "collapsed": false
   },
   "outputs": [],
   "source": [
    "X_us = pd.DataFrame(data = X_us, columns = x_head)"
   ]
  },
  {
   "cell_type": "code",
   "execution_count": null,
   "metadata": {
    "collapsed": false
   },
   "outputs": [],
   "source": []
  },
  {
   "cell_type": "markdown",
   "metadata": {},
   "source": [
    "## Oversampling\n",
    "'NDF':2722,'US':2491, 'other':479, 'FR':177, 'IT':105,'GB':79, 'ES':76,'CA':38, 'NL':27, 'DE':26, 'AU':24, 'PT':5},random_state=4, version =2)"
   ]
  },
  {
   "cell_type": "code",
   "execution_count": 253,
   "metadata": {
    "collapsed": true
   },
   "outputs": [],
   "source": [
    "sm = SMOTE({'NDF':1906,'US':1740, 'other':500, 'FR':250, 'IT':200,'GB':200, 'ES':200,'CA':100, 'NL':100, 'DE':100, 'AU':100, 'PT':100},kind='borderline2')"
   ]
  },
  {
   "cell_type": "code",
   "execution_count": 256,
   "metadata": {
    "collapsed": false
   },
   "outputs": [],
   "source": [
    "X_os_us_resamp,Y_0s_us_resamp = sm.fit_sample(X_us,Y_us)"
   ]
  },
  {
   "cell_type": "markdown",
   "metadata": {},
   "source": [
    "## Train the module"
   ]
  },
  {
   "cell_type": "code",
   "execution_count": 14,
   "metadata": {
    "collapsed": false
   },
   "outputs": [
    {
     "data": {
      "text/plain": [
       "RandomForestClassifier(bootstrap=True, class_weight=None, criterion='gini',\n",
       "            max_depth=None, max_features='auto', max_leaf_nodes=None,\n",
       "            min_impurity_decrease=0.0, min_impurity_split=None,\n",
       "            min_samples_leaf=1, min_samples_split=2,\n",
       "            min_weight_fraction_leaf=0.0, n_estimators=10, n_jobs=1,\n",
       "            oob_score=False, random_state=0, verbose=0, warm_start=False)"
      ]
     },
     "execution_count": 14,
     "metadata": {},
     "output_type": "execute_result"
    }
   ],
   "source": [
    "from sklearn.model_selection import train_test_split\n",
    "from sklearn.ensemble import RandomForestClassifier\n",
    "\n",
    "\n",
    "clf = RandomForestClassifier(random_state=0, min_samples_split=2)\n",
    "clf.fit(X_us, Y_us)"
   ]
  },
  {
   "cell_type": "code",
   "execution_count": null,
   "metadata": {
    "collapsed": true
   },
   "outputs": [],
   "source": []
  },
  {
   "cell_type": "code",
   "execution_count": 15,
   "metadata": {
    "collapsed": false
   },
   "outputs": [],
   "source": [
    "from sklearn.metrics import precision_recall_fscore_support as score\n",
    "from sklearn.metrics import accuracy_score\n",
    "from sklearn.metrics import precision_score\n",
    "from sklearn.metrics import confusion_matrix\n",
    "import seaborn as sn\n",
    "import itertools\n",
    "import numpy as np\n",
    "import matplotlib.pyplot as plt\n",
    "\n",
    "from sklearn import svm, datasets\n",
    "from sklearn.model_selection import train_test_split\n",
    "from sklearn.metrics import confusion_matrix"
   ]
  },
  {
   "cell_type": "code",
   "execution_count": 16,
   "metadata": {
    "collapsed": false
   },
   "outputs": [
    {
     "name": "stdout",
     "output_type": "stream",
     "text": [
      "['NDF', 'other', 'NL', 'US', 'AU', 'FR', 'ES', 'GB', 'CA', 'IT', 'PT', 'DE']\n"
     ]
    }
   ],
   "source": [
    "result_lable =[]\n",
    "for data in y_train:\n",
    "    if data not in result_lable:\n",
    "        result_lable.append(data)\n",
    "print result_lable"
   ]
  },
  {
   "cell_type": "code",
   "execution_count": 17,
   "metadata": {
    "collapsed": false
   },
   "outputs": [
    {
     "name": "stdout",
     "output_type": "stream",
     "text": [
      "precision: [ 0.62180017  0.07142857  0.          0.28501401  0.          0.          0.\n",
      "  0.          0.          0.          0.          0.        ]\n",
      "0.46486352402\n",
      "0.431649331352\n"
     ]
    },
    {
     "name": "stderr",
     "output_type": "stream",
     "text": [
      "/Users/lixiaochi/anaconda/lib/python2.7/site-packages/sklearn/metrics/classification.py:1135: UndefinedMetricWarning: Precision and F-score are ill-defined and being set to 0.0 in labels with no predicted samples.\n",
      "  'precision', 'predicted', average, warn_for)\n",
      "/Users/lixiaochi/anaconda/lib/python2.7/site-packages/sklearn/metrics/classification.py:1137: UndefinedMetricWarning: Recall and F-score are ill-defined and being set to 0.0 in labels with no true samples.\n",
      "  'recall', 'true', average, warn_for)\n",
      "/Users/lixiaochi/anaconda/lib/python2.7/site-packages/sklearn/metrics/classification.py:1135: UndefinedMetricWarning: Precision is ill-defined and being set to 0.0 in labels with no predicted samples.\n",
      "  'precision', 'predicted', average, warn_for)\n"
     ]
    }
   ],
   "source": [
    "y_predict = clf.predict(x_test)\n",
    "precision, recall, fscore, support = score(y_test, y_predict, labels = result_lable, average=None)\n",
    "print('precision: {}'.format(precision))\n",
    "print precision_score(y_test, y_predict, average='weighted') \n",
    "print accuracy_score(y_test, y_predict)"
   ]
  },
  {
   "cell_type": "code",
   "execution_count": 18,
   "metadata": {
    "collapsed": false
   },
   "outputs": [
    {
     "name": "stderr",
     "output_type": "stream",
     "text": [
      "/Users/lixiaochi/anaconda/lib/python2.7/site-packages/seaborn/matrix.py:143: DeprecationWarning: elementwise == comparison failed; this will raise an error in the future.\n",
      "  if xticklabels == []:\n",
      "/Users/lixiaochi/anaconda/lib/python2.7/site-packages/seaborn/matrix.py:151: DeprecationWarning: elementwise == comparison failed; this will raise an error in the future.\n",
      "  if yticklabels == []:\n"
     ]
    },
    {
     "data": {
      "image/png": "[encoded data removed]",
      "text/plain": [
       "<matplotlib.figure.Figure at 0x11d67ae10>"
      ]
     },
     "metadata": {},
     "output_type": "display_data"
    }
   ],
   "source": [
    "cnf_matrix = confusion_matrix(y_test, y_predict, labels = result_lable)\n",
    "cnf_matrix = pd.DataFrame(cnf_matrix, index = [i for i in result_lable],\n",
    "                          columns = [i for i in result_lable])\n",
    "sn.set(font_scale=1.3)\n",
    "plt.figure(figsize=(12,12))\n",
    "sn.heatmap(cnf_matrix, annot= True, cmap=\"YlGnBu\",fmt=\"d\")\n",
    "\n",
    "plt.show()"
   ]
  },
  {
   "cell_type": "markdown",
   "metadata": {
    "collapsed": false
   },
   "source": [
    "\n",
    "## NET WORK\n",
    "X_os_us_resamp,Y_0s_us_resamp"
   ]
  },
  {
   "cell_type": "code",
   "execution_count": 187,
   "metadata": {
    "collapsed": false
   },
   "outputs": [
    {
     "name": "stdout",
     "output_type": "stream",
     "text": [
      "   countary_AU  countary_CA  countary_DE  countary_ES  countary_FR  \\\n",
      "0            0            0            0            0            0   \n",
      "1            0            0            0            0            1   \n",
      "2            0            0            0            0            0   \n",
      "\n",
      "   countary_GB  countary_IT  countary_NDF  countary_NL  countary_PT  \\\n",
      "0            0            0             1            0            0   \n",
      "1            0            0             0            0            0   \n",
      "2            0            0             1            0            0   \n",
      "\n",
      "   countary_US  countary_other  \n",
      "0            0               0  \n",
      "1            0               0  \n",
      "2            0               0  \n"
     ]
    }
   ],
   "source": [
    "y = pd.get_dummies(Y_0s_us_resamp, prefix=\"countary\")\n",
    "print y.head(3)"
   ]
  },
  {
   "cell_type": "code",
   "execution_count": 196,
   "metadata": {
    "collapsed": false
   },
   "outputs": [
    {
     "name": "stderr",
     "output_type": "stream",
     "text": [
      "/Users/lixiaochi/anaconda/lib/python2.7/site-packages/ipykernel/__main__.py:6: UserWarning: Update your `Dense` call to the Keras 2 API: `Dense(2333, kernel_regularizer=<keras.reg..., input_dim=449)`\n",
      "/Users/lixiaochi/anaconda/lib/python2.7/site-packages/ipykernel/__main__.py:11: UserWarning: Update your `Dense` call to the Keras 2 API: `Dense(777, kernel_regularizer=<keras.reg...)`\n",
      "/Users/lixiaochi/anaconda/lib/python2.7/site-packages/ipykernel/__main__.py:15: UserWarning: Update your `Dense` call to the Keras 2 API: `Dense(259, kernel_regularizer=<keras.reg...)`\n",
      "/Users/lixiaochi/anaconda/lib/python2.7/site-packages/ipykernel/__main__.py:19: UserWarning: Update your `Dense` call to the Keras 2 API: `Dense(86, kernel_regularizer=<keras.reg...)`\n"
     ]
    }
   ],
   "source": [
    "\n",
    "model = Sequential()\n",
    "\n",
    "# 1st Layer - Add an input layer of 132 nodes with the same input shape as\n",
    "# the training samples in X\n",
    "model.add(Dense(2333, input_dim = 449 ,W_regularizer = l2(.01)))\n",
    "model.add(Activation('sigmoid'))\n",
    "model.add(keras.layers.Dropout(0.50))\n",
    "\n",
    "\n",
    "model.add(Dense(777,W_regularizer = l2(.01)))\n",
    "model.add(Activation('sigmoid'))\n",
    "model.add(keras.layers.Dropout(0.9))\n",
    "\n",
    "model.add(Dense(259,W_regularizer = l2(.01)))\n",
    "model.add(Activation('sigmoid'))\n",
    "model.add(keras.layers.Dropout(0.9))\n",
    "\n",
    "model.add(Dense(86,W_regularizer = l2(.01)))\n",
    "model.add(Activation('sigmoid'))\n",
    "model.add(keras.layers.Dropout(0.9))\n",
    "\n",
    "model.add(Dense(12, activation = 'softmax'))\n",
    "model.compile(loss=\"categorical_crossentropy\", optimizer=\"RMSProp\", metrics = [\"accuracy\"])"
   ]
  },
  {
   "cell_type": "code",
   "execution_count": 197,
   "metadata": {
    "collapsed": true
   },
   "outputs": [],
   "source": [
    "#convert datafram to np-array\n",
    "x_train=np.array(X_os_us_resamp)\n",
    "\n",
    "\n",
    "y_new=np.array(y)"
   ]
  },
  {
   "cell_type": "code",
   "execution_count": 198,
   "metadata": {
    "collapsed": true
   },
   "outputs": [],
   "source": [
    "x_nw_train, x_nw_test, y_nw_train, y_nw_test = train_test_split(x_train,y_new, test_size=0.02)"
   ]
  },
  {
   "cell_type": "code",
   "execution_count": 199,
   "metadata": {
    "collapsed": false
   },
   "outputs": [
    {
     "name": "stdout",
     "output_type": "stream",
     "text": [
      "Epoch 1/150\n",
      "3s - loss: 12.8010 - acc: 0.2639\n",
      "Epoch 2/150\n",
      "2s - loss: 5.1069 - acc: 0.3703\n",
      "Epoch 3/150\n",
      "2s - loss: 3.5232 - acc: 0.4235\n",
      "Epoch 4/150\n",
      "2s - loss: 2.7470 - acc: 0.4551\n",
      "Epoch 5/150\n",
      "2s - loss: 2.2714 - acc: 0.4770\n",
      "Epoch 6/150\n",
      "2s - loss: 1.9836 - acc: 0.4955\n",
      "Epoch 7/150\n",
      "2s - loss: 1.8303 - acc: 0.5136\n",
      "Epoch 8/150\n",
      "2s - loss: 1.7298 - acc: 0.5154\n",
      "Epoch 9/150\n",
      "2s - loss: 1.6628 - acc: 0.5229\n",
      "Epoch 10/150\n",
      "2s - loss: 1.6017 - acc: 0.5230\n",
      "Epoch 11/150\n",
      "2s - loss: 1.5824 - acc: 0.5309\n",
      "Epoch 12/150\n",
      "2s - loss: 1.5466 - acc: 0.5356\n",
      "Epoch 13/150\n",
      "2s - loss: 1.5320 - acc: 0.5364\n",
      "Epoch 14/150\n",
      "2s - loss: 1.5031 - acc: 0.5369\n",
      "Epoch 15/150\n",
      "3s - loss: 1.5025 - acc: 0.5377\n",
      "Epoch 16/150\n",
      "2s - loss: 1.4787 - acc: 0.5380\n",
      "Epoch 17/150\n",
      "3s - loss: 1.4930 - acc: 0.5382\n",
      "Epoch 18/150\n",
      "2s - loss: 1.4783 - acc: 0.5380\n",
      "Epoch 19/150\n",
      "3s - loss: 1.4742 - acc: 0.5380\n",
      "Epoch 20/150\n",
      "3s - loss: 1.4722 - acc: 0.5380\n",
      "Epoch 21/150\n",
      "3s - loss: 1.4651 - acc: 0.5380\n",
      "Epoch 22/150\n",
      "3s - loss: 1.4595 - acc: 0.5380\n",
      "Epoch 23/150\n",
      "3s - loss: 1.4620 - acc: 0.5380\n",
      "Epoch 24/150\n",
      "3s - loss: 1.4628 - acc: 0.5380\n",
      "Epoch 25/150\n",
      "3s - loss: 1.4569 - acc: 0.5380\n",
      "Epoch 26/150\n",
      "3s - loss: 1.4520 - acc: 0.5380\n",
      "Epoch 27/150\n",
      "3s - loss: 1.4532 - acc: 0.5380\n",
      "Epoch 28/150\n",
      "3s - loss: 1.4482 - acc: 0.5380\n",
      "Epoch 29/150\n",
      "3s - loss: 1.4484 - acc: 0.5380\n",
      "Epoch 30/150\n",
      "3s - loss: 1.4489 - acc: 0.5380\n",
      "Epoch 31/150\n",
      "3s - loss: 1.4439 - acc: 0.5380\n",
      "Epoch 32/150\n",
      "3s - loss: 1.4459 - acc: 0.5380\n",
      "Epoch 33/150\n",
      "3s - loss: 1.4374 - acc: 0.5380\n",
      "Epoch 34/150\n",
      "3s - loss: 1.4343 - acc: 0.5380\n",
      "Epoch 35/150\n",
      "3s - loss: 1.4316 - acc: 0.5380\n",
      "Epoch 36/150\n",
      "3s - loss: 1.4370 - acc: 0.5380\n",
      "Epoch 37/150\n",
      "3s - loss: 1.4351 - acc: 0.5380\n",
      "Epoch 38/150\n",
      "3s - loss: 1.4346 - acc: 0.5380\n",
      "Epoch 39/150\n",
      "3s - loss: 1.4305 - acc: 0.5380\n",
      "Epoch 40/150\n",
      "3s - loss: 1.4277 - acc: 0.5380\n",
      "Epoch 41/150\n",
      "3s - loss: 1.4289 - acc: 0.5380\n",
      "Epoch 42/150\n",
      "3s - loss: 1.4321 - acc: 0.5380\n",
      "Epoch 43/150\n",
      "3s - loss: 1.4206 - acc: 0.5380\n",
      "Epoch 44/150\n",
      "3s - loss: 1.4307 - acc: 0.5380\n",
      "Epoch 45/150\n",
      "3s - loss: 1.4306 - acc: 0.5380\n",
      "Epoch 46/150\n",
      "3s - loss: 1.4243 - acc: 0.5380\n",
      "Epoch 47/150\n",
      "3s - loss: 1.4316 - acc: 0.5380\n",
      "Epoch 48/150\n",
      "3s - loss: 1.4255 - acc: 0.5380\n",
      "Epoch 49/150\n",
      "3s - loss: 1.4203 - acc: 0.5380\n",
      "Epoch 50/150\n",
      "3s - loss: 1.4267 - acc: 0.5380\n",
      "Epoch 51/150\n",
      "3s - loss: 1.4206 - acc: 0.5380\n",
      "Epoch 52/150\n",
      "3s - loss: 1.4247 - acc: 0.5380\n",
      "Epoch 53/150\n",
      "3s - loss: 1.4163 - acc: 0.5380\n",
      "Epoch 54/150\n",
      "3s - loss: 1.4222 - acc: 0.5380\n",
      "Epoch 55/150\n",
      "3s - loss: 1.4191 - acc: 0.5380\n",
      "Epoch 56/150\n",
      "3s - loss: 1.4238 - acc: 0.5380\n",
      "Epoch 57/150\n",
      "3s - loss: 1.4154 - acc: 0.5380\n",
      "Epoch 58/150\n",
      "3s - loss: 1.4263 - acc: 0.5380\n",
      "Epoch 59/150\n",
      "3s - loss: 1.4220 - acc: 0.5380\n",
      "Epoch 60/150\n",
      "3s - loss: 1.4198 - acc: 0.5380\n",
      "Epoch 61/150\n",
      "3s - loss: 1.4166 - acc: 0.5380\n",
      "Epoch 62/150\n",
      "3s - loss: 1.4196 - acc: 0.5380\n",
      "Epoch 63/150\n",
      "3s - loss: 1.4208 - acc: 0.5380\n",
      "Epoch 64/150\n",
      "3s - loss: 1.4152 - acc: 0.5380\n",
      "Epoch 65/150\n",
      "3s - loss: 1.4194 - acc: 0.5380\n",
      "Epoch 66/150\n",
      "3s - loss: 1.4170 - acc: 0.5380\n",
      "Epoch 67/150\n",
      "3s - loss: 1.4136 - acc: 0.5380\n",
      "Epoch 68/150\n",
      "3s - loss: 1.4176 - acc: 0.5380\n",
      "Epoch 69/150\n",
      "3s - loss: 1.4140 - acc: 0.5380\n",
      "Epoch 70/150\n",
      "3s - loss: 1.4180 - acc: 0.5380\n",
      "Epoch 71/150\n",
      "3s - loss: 1.4109 - acc: 0.5380\n",
      "Epoch 72/150\n",
      "3s - loss: 1.4142 - acc: 0.5380\n",
      "Epoch 73/150\n",
      "3s - loss: 1.4101 - acc: 0.5380\n",
      "Epoch 74/150\n",
      "3s - loss: 1.4143 - acc: 0.5380\n",
      "Epoch 75/150\n",
      "3s - loss: 1.4146 - acc: 0.5380\n",
      "Epoch 76/150\n",
      "3s - loss: 1.4132 - acc: 0.5380\n",
      "Epoch 77/150\n",
      "3s - loss: 1.4131 - acc: 0.5380\n",
      "Epoch 78/150\n",
      "3s - loss: 1.4098 - acc: 0.5380\n",
      "Epoch 79/150\n",
      "3s - loss: 1.4106 - acc: 0.5380\n",
      "Epoch 80/150\n",
      "3s - loss: 1.4111 - acc: 0.5380\n",
      "Epoch 81/150\n",
      "3s - loss: 1.4168 - acc: 0.5380\n",
      "Epoch 82/150\n",
      "3s - loss: 1.4105 - acc: 0.5380\n",
      "Epoch 83/150\n",
      "3s - loss: 1.4082 - acc: 0.5380\n",
      "Epoch 84/150\n",
      "3s - loss: 1.4129 - acc: 0.5380\n",
      "Epoch 85/150\n",
      "3s - loss: 1.4144 - acc: 0.5380\n",
      "Epoch 86/150\n",
      "3s - loss: 1.4127 - acc: 0.5380\n",
      "Epoch 87/150\n",
      "3s - loss: 1.4081 - acc: 0.5380\n",
      "Epoch 88/150\n",
      "3s - loss: 1.4140 - acc: 0.5380\n",
      "Epoch 89/150\n",
      "3s - loss: 1.4121 - acc: 0.5380\n",
      "Epoch 90/150\n",
      "3s - loss: 1.4105 - acc: 0.5380\n",
      "Epoch 91/150\n",
      "3s - loss: 1.4078 - acc: 0.5380\n",
      "Epoch 92/150\n",
      "3s - loss: 1.4130 - acc: 0.5380\n",
      "Epoch 93/150\n",
      "3s - loss: 1.4132 - acc: 0.5380\n",
      "Epoch 94/150\n",
      "3s - loss: 1.4078 - acc: 0.5380\n",
      "Epoch 95/150\n",
      "3s - loss: 1.4066 - acc: 0.5380\n",
      "Epoch 96/150\n",
      "3s - loss: 1.4076 - acc: 0.5380\n",
      "Epoch 97/150\n",
      "3s - loss: 1.4116 - acc: 0.5380\n",
      "Epoch 98/150\n",
      "3s - loss: 1.4104 - acc: 0.5380\n",
      "Epoch 99/150\n",
      "3s - loss: 1.4064 - acc: 0.5380\n",
      "Epoch 100/150\n",
      "3s - loss: 1.4053 - acc: 0.5380\n",
      "Epoch 101/150\n",
      "3s - loss: 1.4087 - acc: 0.5380\n",
      "Epoch 102/150\n",
      "3s - loss: 1.4048 - acc: 0.5380\n",
      "Epoch 103/150\n",
      "3s - loss: 1.4127 - acc: 0.5380\n",
      "Epoch 104/150\n",
      "3s - loss: 1.4040 - acc: 0.5380\n",
      "Epoch 105/150\n",
      "3s - loss: 1.4053 - acc: 0.5380\n",
      "Epoch 106/150\n",
      "3s - loss: 1.4087 - acc: 0.5380\n",
      "Epoch 107/150\n",
      "3s - loss: 1.4114 - acc: 0.5380\n",
      "Epoch 108/150\n",
      "3s - loss: 1.4054 - acc: 0.5380\n",
      "Epoch 109/150\n",
      "3s - loss: 1.4041 - acc: 0.5380\n",
      "Epoch 110/150\n",
      "3s - loss: 1.4052 - acc: 0.5380\n",
      "Epoch 111/150\n",
      "3s - loss: 1.4078 - acc: 0.5380\n",
      "Epoch 112/150\n",
      "3s - loss: 1.4007 - acc: 0.5380\n",
      "Epoch 113/150\n",
      "3s - loss: 1.4027 - acc: 0.5380\n",
      "Epoch 114/150\n",
      "3s - loss: 1.4034 - acc: 0.5380\n",
      "Epoch 115/150\n",
      "3s - loss: 1.4053 - acc: 0.5380\n",
      "Epoch 116/150\n",
      "3s - loss: 1.4064 - acc: 0.5380\n",
      "Epoch 117/150\n",
      "3s - loss: 1.4002 - acc: 0.5380\n",
      "Epoch 118/150\n",
      "3s - loss: 1.4065 - acc: 0.5380\n",
      "Epoch 119/150\n",
      "3s - loss: 1.4049 - acc: 0.5380\n",
      "Epoch 120/150\n",
      "3s - loss: 1.4041 - acc: 0.5380\n",
      "Epoch 121/150\n",
      "3s - loss: 1.4006 - acc: 0.5380\n",
      "Epoch 122/150\n",
      "3s - loss: 1.4018 - acc: 0.5380\n",
      "Epoch 123/150\n",
      "3s - loss: 1.4072 - acc: 0.5380\n",
      "Epoch 124/150\n",
      "3s - loss: 1.4104 - acc: 0.5380\n",
      "Epoch 125/150\n",
      "3s - loss: 1.4020 - acc: 0.5380\n",
      "Epoch 126/150\n",
      "3s - loss: 1.4009 - acc: 0.5380\n",
      "Epoch 127/150\n",
      "3s - loss: 1.4120 - acc: 0.5380\n",
      "Epoch 128/150\n",
      "3s - loss: 1.4024 - acc: 0.5380\n",
      "Epoch 129/150\n",
      "3s - loss: 1.4077 - acc: 0.5380\n",
      "Epoch 130/150\n",
      "3s - loss: 1.4064 - acc: 0.5380\n",
      "Epoch 131/150\n",
      "3s - loss: 1.4065 - acc: 0.5380\n",
      "Epoch 132/150\n",
      "3s - loss: 1.4095 - acc: 0.5380\n",
      "Epoch 133/150\n",
      "3s - loss: 1.4030 - acc: 0.5380\n",
      "Epoch 134/150\n",
      "3s - loss: 1.4039 - acc: 0.5380\n",
      "Epoch 135/150\n",
      "3s - loss: 1.4040 - acc: 0.5380\n",
      "Epoch 136/150\n",
      "3s - loss: 1.4041 - acc: 0.5380\n",
      "Epoch 137/150\n",
      "3s - loss: 1.4065 - acc: 0.5380\n",
      "Epoch 138/150\n",
      "3s - loss: 1.4036 - acc: 0.5380\n",
      "Epoch 139/150\n",
      "3s - loss: 1.4012 - acc: 0.5380\n",
      "Epoch 140/150\n",
      "3s - loss: 1.4041 - acc: 0.5380\n",
      "Epoch 141/150\n",
      "3s - loss: 1.4041 - acc: 0.5380\n",
      "Epoch 142/150\n",
      "3s - loss: 1.4019 - acc: 0.5380\n",
      "Epoch 143/150\n",
      "3s - loss: 1.4050 - acc: 0.5380\n",
      "Epoch 144/150\n",
      "3s - loss: 1.4034 - acc: 0.5380\n",
      "Epoch 145/150\n",
      "3s - loss: 1.4029 - acc: 0.5380\n",
      "Epoch 146/150\n",
      "3s - loss: 1.4063 - acc: 0.5380\n",
      "Epoch 147/150\n",
      "3s - loss: 1.4084 - acc: 0.5380\n",
      "Epoch 148/150\n",
      "3s - loss: 1.4076 - acc: 0.5380\n",
      "Epoch 149/150\n",
      "3s - loss: 1.4012 - acc: 0.5380\n",
      "Epoch 150/150\n",
      "3s - loss: 1.4055 - acc: 0.5380\n"
     ]
    },
    {
     "data": {
      "text/plain": [
       "<keras.callbacks.History at 0x129de6310>"
      ]
     },
     "execution_count": 199,
     "metadata": {},
     "output_type": "execute_result"
    }
   ],
   "source": [
    "model.fit(x_nw_train, y_nw_train,epochs = 150, batch_size=200, verbose=2)"
   ]
  },
  {
   "cell_type": "code",
   "execution_count": 200,
   "metadata": {
    "collapsed": true
   },
   "outputs": [],
   "source": [
    "\n",
    "y_nw_predict = model.predict(x_nw_test)\n",
    "\n",
    "\n",
    "df_prediction = pd.DataFrame(y_nw_predict)\n",
    "df_y_nw_test = pd.DataFrame(y_nw_test)\n",
    "\n",
    "# Create a Pandas Excel writer using XlsxWriter as the engine.\n",
    "writer = pd.ExcelWriter('nn_predict_se_prob.xlsx', engine='xlsxwriter')\n",
    "# Convert the dataframe to an XlsxWriter Excel object.\n",
    "df_prediction.to_excel(writer, sheet_name='Sheet1')\n",
    "# Close the Pandas Excel writer and output the Excel file.\n",
    "writer.save()\n",
    "\n",
    "# Create a Pandas Excel writer using XlsxWriter as the engine.\n",
    "writer = pd.ExcelWriter('nn_real_se_realts.xlsx', engine='xlsxwriter')\n",
    "# Convert the dataframe to an XlsxWriter Excel object.\n",
    "df_y_nw_test.to_excel(writer, sheet_name='Sheet1')\n",
    "# Close the Pandas Excel writer and output the Excel file.\n",
    "writer.save()"
   ]
  },
  {
   "cell_type": "code",
   "execution_count": null,
   "metadata": {
    "collapsed": true
   },
   "outputs": [],
   "source": []
  }
 ],
 "metadata": {
  "kernelspec": {
   "display_name": "Python 2",
   "language": "python",
   "name": "python2"
  },
  "language_info": {
   "codemirror_mode": {
    "name": "ipython",
    "version": 2
   },
   "file_extension": ".py",
   "mimetype": "text/x-python",
   "name": "python",
   "nbconvert_exporter": "python",
   "pygments_lexer": "ipython2",
   "version": "2.7.13"
  }
 },
 "nbformat": 4,
 "nbformat_minor": 2
}
