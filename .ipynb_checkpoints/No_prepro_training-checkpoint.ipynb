{
 "cells": [
  {
   "cell_type": "code",
   "execution_count": 38,
   "metadata": {
    "collapsed": false
   },
   "outputs": [],
   "source": [
    "import pandas as pd\n",
    "import seaborn as sn\n",
    "import numpy as np\n",
    "\n",
    "from sklearn.preprocessing import Imputer\n",
    "from sklearn.utils import shuffle\n",
    "from sklearn import tree\n",
    "from sklearn import linear_model\n",
    "from sklearn.metrics import accuracy_score\n",
    "from sklearn.metrics import precision_score\n",
    "from sklearn.metrics import precision_recall_fscore_support as score\n",
    "from sklearn.metrics import confusion_matrix\n",
    "from sklearn.model_selection import train_test_split"
   ]
  },
  {
   "cell_type": "code",
   "execution_count": 39,
   "metadata": {
    "collapsed": false
   },
   "outputs": [],
   "source": [
    "df = pd.read_csv('./data/origin/train_users_2.csv')"
   ]
  },
  {
   "cell_type": "markdown",
   "metadata": {},
   "source": [
    "Use back fill 来保证最少程度减少bias."
   ]
  },
  {
   "cell_type": "code",
   "execution_count": 40,
   "metadata": {
    "collapsed": false
   },
   "outputs": [],
   "source": [
    "\n",
    "df = df.fillna(method=\"backfill\")\n",
    "df = df.fillna(method=\"ffill\")"
   ]
  },
  {
   "cell_type": "markdown",
   "metadata": {},
   "source": [
    "Seperate training and target data"
   ]
  },
  {
   "cell_type": "code",
   "execution_count": 41,
   "metadata": {
    "collapsed": true
   },
   "outputs": [],
   "source": [
    "Y = df.country_destination\n",
    "df.drop([\"country_destination\", \"id\",\"date_account_created\",\"timestamp_first_active\"], 1, inplace=True)"
   ]
  },
  {
   "cell_type": "code",
   "execution_count": 42,
   "metadata": {
    "collapsed": false
   },
   "outputs": [
    {
     "data": {
      "text/plain": [
       "0      NDF\n",
       "1      NDF\n",
       "2       US\n",
       "3    other\n",
       "4       US\n",
       "Name: country_destination, dtype: object"
      ]
     },
     "execution_count": 42,
     "metadata": {},
     "output_type": "execute_result"
    }
   ],
   "source": [
    "Y.head()"
   ]
  },
  {
   "cell_type": "code",
   "execution_count": 43,
   "metadata": {
    "collapsed": false
   },
   "outputs": [
    {
     "data": {
      "text/html": [
       "<div>\n",
       "<table border=\"1\" class=\"dataframe\">\n",
       "  <thead>\n",
       "    <tr style=\"text-align: right;\">\n",
       "      <th></th>\n",
       "      <th>gender</th>\n",
       "      <th>age</th>\n",
       "      <th>signup_method</th>\n",
       "      <th>signup_flow</th>\n",
       "      <th>language</th>\n",
       "      <th>affiliate_channel</th>\n",
       "      <th>affiliate_provider</th>\n",
       "      <th>first_affiliate_tracked</th>\n",
       "      <th>signup_app</th>\n",
       "      <th>first_device_type</th>\n",
       "      <th>first_browser</th>\n",
       "    </tr>\n",
       "  </thead>\n",
       "  <tbody>\n",
       "    <tr>\n",
       "      <th>0</th>\n",
       "      <td>-unknown-</td>\n",
       "      <td>38.0</td>\n",
       "      <td>facebook</td>\n",
       "      <td>0</td>\n",
       "      <td>en</td>\n",
       "      <td>direct</td>\n",
       "      <td>direct</td>\n",
       "      <td>untracked</td>\n",
       "      <td>Web</td>\n",
       "      <td>Mac Desktop</td>\n",
       "      <td>Chrome</td>\n",
       "    </tr>\n",
       "    <tr>\n",
       "      <th>1</th>\n",
       "      <td>MALE</td>\n",
       "      <td>38.0</td>\n",
       "      <td>facebook</td>\n",
       "      <td>0</td>\n",
       "      <td>en</td>\n",
       "      <td>seo</td>\n",
       "      <td>google</td>\n",
       "      <td>untracked</td>\n",
       "      <td>Web</td>\n",
       "      <td>Mac Desktop</td>\n",
       "      <td>Chrome</td>\n",
       "    </tr>\n",
       "    <tr>\n",
       "      <th>2</th>\n",
       "      <td>FEMALE</td>\n",
       "      <td>56.0</td>\n",
       "      <td>basic</td>\n",
       "      <td>3</td>\n",
       "      <td>en</td>\n",
       "      <td>direct</td>\n",
       "      <td>direct</td>\n",
       "      <td>untracked</td>\n",
       "      <td>Web</td>\n",
       "      <td>Windows Desktop</td>\n",
       "      <td>IE</td>\n",
       "    </tr>\n",
       "    <tr>\n",
       "      <th>3</th>\n",
       "      <td>FEMALE</td>\n",
       "      <td>42.0</td>\n",
       "      <td>facebook</td>\n",
       "      <td>0</td>\n",
       "      <td>en</td>\n",
       "      <td>direct</td>\n",
       "      <td>direct</td>\n",
       "      <td>untracked</td>\n",
       "      <td>Web</td>\n",
       "      <td>Mac Desktop</td>\n",
       "      <td>Firefox</td>\n",
       "    </tr>\n",
       "    <tr>\n",
       "      <th>4</th>\n",
       "      <td>-unknown-</td>\n",
       "      <td>41.0</td>\n",
       "      <td>basic</td>\n",
       "      <td>0</td>\n",
       "      <td>en</td>\n",
       "      <td>direct</td>\n",
       "      <td>direct</td>\n",
       "      <td>untracked</td>\n",
       "      <td>Web</td>\n",
       "      <td>Mac Desktop</td>\n",
       "      <td>Chrome</td>\n",
       "    </tr>\n",
       "  </tbody>\n",
       "</table>\n",
       "</div>"
      ],
      "text/plain": [
       "      gender   age signup_method  signup_flow language affiliate_channel  \\\n",
       "0  -unknown-  38.0      facebook            0       en            direct   \n",
       "1       MALE  38.0      facebook            0       en               seo   \n",
       "2     FEMALE  56.0         basic            3       en            direct   \n",
       "3     FEMALE  42.0      facebook            0       en            direct   \n",
       "4  -unknown-  41.0         basic            0       en            direct   \n",
       "\n",
       "  affiliate_provider first_affiliate_tracked signup_app first_device_type  \\\n",
       "0             direct               untracked        Web       Mac Desktop   \n",
       "1             google               untracked        Web       Mac Desktop   \n",
       "2             direct               untracked        Web   Windows Desktop   \n",
       "3             direct               untracked        Web       Mac Desktop   \n",
       "4             direct               untracked        Web       Mac Desktop   \n",
       "\n",
       "  first_browser  \n",
       "0        Chrome  \n",
       "1        Chrome  \n",
       "2            IE  \n",
       "3       Firefox  \n",
       "4        Chrome  "
      ]
     },
     "execution_count": 43,
     "metadata": {},
     "output_type": "execute_result"
    }
   ],
   "source": [
    "df.head()"
   ]
  },
  {
   "cell_type": "code",
   "execution_count": 44,
   "metadata": {
    "collapsed": false
   },
   "outputs": [],
   "source": [
    "# one-hot-encode all the categorical data:\n",
    "# gender signup_method language affiliate_channel \n",
    "# affiliate_provider first_affiliate_tracked signup_app\t\n",
    "# first_device_type first_browser\tcountry_destination\n",
    "oh_gender = pd.get_dummies(df.gender, prefix=\"gender\")\n",
    "oh_language = pd.get_dummies(df.language, prefix=\"language\")\n",
    "oh_signup_method = pd.get_dummies(df.signup_method, prefix=\"signup_method\")\n",
    "oh_affiliate_channel = pd.get_dummies(df.affiliate_channel, prefix=\"affiliate_channel\")\n",
    "oh_affiliate_provider = pd.get_dummies(df.affiliate_provider, prefix=\"affiliate_provider\")\n",
    "oh_first_affiliate_tracked = pd.get_dummies(df.first_affiliate_tracked, prefix=\"first_affiliate_tracked\")\n",
    "oh_signup_app = pd.get_dummies(df.signup_app, prefix=\"signup_app\")\n",
    "oh_first_device_type = pd.get_dummies(df.first_device_type, prefix=\"first_device_type\")\n",
    "oh_first_browser = pd.get_dummies(df.first_browser, prefix=\"first_browser\")\n",
    "\n",
    "#dropped date_account_created date_first_booking add back later\n",
    "df.drop(['gender', 'signup_method',\n",
    "         'language', 'affiliate_channel', \n",
    "         'affiliate_provider', 'first_affiliate_tracked', \n",
    "         'signup_app', 'first_device_type', 'first_browser'],1,inplace=True)\n",
    "# from the traning set\n",
    "x_train = pd.concat([df,oh_gender, oh_language, \n",
    "                oh_signup_method, oh_affiliate_channel, \n",
    "                oh_affiliate_provider,\n",
    "                oh_first_affiliate_tracked, oh_signup_app,\n",
    "                oh_first_device_type, oh_first_browser],axis=1)"
   ]
  },
  {
   "cell_type": "code",
   "execution_count": 45,
   "metadata": {
    "collapsed": false
   },
   "outputs": [
    {
     "data": {
      "text/plain": [
       "(213451, 132)"
      ]
     },
     "execution_count": 45,
     "metadata": {},
     "output_type": "execute_result"
    }
   ],
   "source": [
    "x_train.shape"
   ]
  },
  {
   "cell_type": "code",
   "execution_count": 27,
   "metadata": {
    "collapsed": false
   },
   "outputs": [
    {
     "data": {
      "text/plain": [
       "RandomForestClassifier(bootstrap=True, class_weight=None, criterion='entropy',\n",
       "            max_depth=None, max_features='auto', max_leaf_nodes=None,\n",
       "            min_impurity_decrease=0.0, min_impurity_split=None,\n",
       "            min_samples_leaf=1, min_samples_split=25,\n",
       "            min_weight_fraction_leaf=0.0, n_estimators=100, n_jobs=1,\n",
       "            oob_score=False, random_state=2, verbose=0, warm_start=False)"
      ]
     },
     "execution_count": 27,
     "metadata": {},
     "output_type": "execute_result"
    }
   ],
   "source": [
    "from sklearn.model_selection import train_test_split\n",
    "from sklearn.ensemble import RandomForestClassifier\n",
    "x_real_train, x_test, y_train, y_test = train_test_split(x_train,Y, test_size=0.3)\n",
    "\n",
    "clf = RandomForestClassifier(n_estimators=100,random_state=2, criterion=\"entropy\", min_samples_split=25)\n",
    "clf.fit(x_real_train, y_train)"
   ]
  },
  {
   "cell_type": "code",
   "execution_count": 28,
   "metadata": {
    "collapsed": false
   },
   "outputs": [],
   "source": [
    "from sklearn.metrics import precision_recall_fscore_support as score\n",
    "from sklearn.metrics import accuracy_score\n",
    "from sklearn.metrics import recall_score\n",
    "from sklearn.metrics import precision_score\n",
    "from sklearn.metrics import confusion_matrix\n",
    "import seaborn as sn\n",
    "import itertools\n",
    "import numpy as np\n",
    "import matplotlib.pyplot as plt\n",
    "\n",
    "from sklearn import svm, datasets\n",
    "from sklearn.model_selection import train_test_split\n",
    "from sklearn.metrics import confusion_matrix"
   ]
  },
  {
   "cell_type": "code",
   "execution_count": 29,
   "metadata": {
    "collapsed": false
   },
   "outputs": [
    {
     "name": "stdout",
     "output_type": "stream",
     "text": [
      "['NDF', 'US', 'other', 'FR', 'IT', 'DE', 'ES', 'GB', 'AU', 'CA', 'NL', 'PT']\n"
     ]
    }
   ],
   "source": [
    "result_lable =[]\n",
    "for data in y_train:\n",
    "    if data not in result_lable:\n",
    "        result_lable.append(data)\n",
    "print result_lable"
   ]
  },
  {
   "cell_type": "code",
   "execution_count": 30,
   "metadata": {
    "collapsed": false
   },
   "outputs": [
    {
     "name": "stdout",
     "output_type": "stream",
     "text": [
      "precision: [ 0.64029542  0.44499774  0.          0.          0.          0.          0.\n",
      "  0.          0.          0.          0.          0.        ]\n",
      "0.504048201516\n",
      "0.59980323568\n"
     ]
    }
   ],
   "source": [
    "y_predict = clf.predict(x_test)\n",
    "precision, recall, fscore, support = score(y_test, y_predict, labels = result_lable, average=None)\n",
    "print('precision: {}'.format(precision))\n",
    "print precision_score(y_test, y_predict, average='weighted') \n",
    "print accuracy_score(y_test, y_predict)\n"
   ]
  },
  {
   "cell_type": "code",
   "execution_count": 31,
   "metadata": {
    "collapsed": false
   },
   "outputs": [
    {
     "data": {
      "image/png": "[encoded data removed]",
      "text/plain": [
       "<matplotlib.figure.Figure at 0x12ff70110>"
      ]
     },
     "metadata": {},
     "output_type": "display_data"
    }
   ],
   "source": [
    "cnf_matrix = confusion_matrix(y_test, y_predict, labels = result_lable)\n",
    "cnf_matrix = pd.DataFrame(cnf_matrix, index = [i for i in result_lable],\n",
    "                          columns = [i for i in result_lable])\n",
    "sn.set(font_scale=1.3)\n",
    "plt.figure(figsize=(12,12))\n",
    "sn.heatmap(cnf_matrix, annot= True, cmap=\"YlGnBu\",fmt=\"d\")\n",
    "\n",
    "plt.show()"
   ]
  },
  {
   "cell_type": "code",
   "execution_count": 32,
   "metadata": {
    "collapsed": false
   },
   "outputs": [
    {
     "name": "stdout",
     "output_type": "stream",
     "text": [
      "precision: [ 0.6665849   0.55185709  0.91666667  1.          1.          0.          1.\n",
      "  1.          0.          1.          1.          0.        ]\n",
      "0.662166338849\n",
      "0.642820332631\n"
     ]
    }
   ],
   "source": [
    "y_predict = clf.predict(x_real_train)\n",
    "precision, recall, fscore, support = score(y_train, y_predict, labels = result_lable, average=None)\n",
    "print('precision: {}'.format(precision))\n",
    "print precision_score(y_train, y_predict, average='weighted') \n",
    "print accuracy_score(y_train, y_predict)"
   ]
  },
  {
   "cell_type": "markdown",
   "metadata": {
    "collapsed": false
   },
   "source": [
    "## the neural network"
   ]
  },
  {
   "cell_type": "code",
   "execution_count": 46,
   "metadata": {
    "collapsed": false
   },
   "outputs": [],
   "source": [
    "from keras.models import Sequential\n",
    "from keras.layers.core import Dense, Activation\n",
    "from keras.regularizers import l2\n",
    "import keras\n"
   ]
  },
  {
   "cell_type": "markdown",
   "metadata": {},
   "source": [
    "validate value to the range 0 ~1, So the network works better"
   ]
  },
  {
   "cell_type": "code",
   "execution_count": 47,
   "metadata": {
    "collapsed": false
   },
   "outputs": [
    {
     "data": {
      "text/plain": [
       "age                                   1.0\n",
       "signup_flow                           1.0\n",
       "gender_-unknown-                      1.0\n",
       "gender_FEMALE                         1.0\n",
       "gender_MALE                           1.0\n",
       "gender_OTHER                          1.0\n",
       "language_ca                           1.0\n",
       "language_cs                           1.0\n",
       "language_da                           1.0\n",
       "language_de                           1.0\n",
       "language_el                           1.0\n",
       "language_en                           1.0\n",
       "language_es                           1.0\n",
       "language_fi                           1.0\n",
       "language_fr                           1.0\n",
       "language_hr                           1.0\n",
       "language_hu                           1.0\n",
       "language_id                           1.0\n",
       "language_is                           1.0\n",
       "language_it                           1.0\n",
       "language_ja                           1.0\n",
       "language_ko                           1.0\n",
       "language_nl                           1.0\n",
       "language_no                           1.0\n",
       "language_pl                           1.0\n",
       "language_pt                           1.0\n",
       "language_ru                           1.0\n",
       "language_sv                           1.0\n",
       "language_th                           1.0\n",
       "language_tr                           1.0\n",
       "                                     ... \n",
       "first_browser_IE Mobile               1.0\n",
       "first_browser_IceDragon               1.0\n",
       "first_browser_IceWeasel               1.0\n",
       "first_browser_Iron                    1.0\n",
       "first_browser_Kindle Browser          1.0\n",
       "first_browser_Maxthon                 1.0\n",
       "first_browser_Mobile Firefox          1.0\n",
       "first_browser_Mobile Safari           1.0\n",
       "first_browser_Mozilla                 1.0\n",
       "first_browser_NetNewsWire             1.0\n",
       "first_browser_OmniWeb                 1.0\n",
       "first_browser_Opera                   1.0\n",
       "first_browser_Opera Mini              1.0\n",
       "first_browser_Opera Mobile            1.0\n",
       "first_browser_Outlook 2007            1.0\n",
       "first_browser_PS Vita browser         1.0\n",
       "first_browser_Pale Moon               1.0\n",
       "first_browser_Palm Pre web browser    1.0\n",
       "first_browser_RockMelt                1.0\n",
       "first_browser_Safari                  1.0\n",
       "first_browser_SeaMonkey               1.0\n",
       "first_browser_Silk                    1.0\n",
       "first_browser_SiteKiosk               1.0\n",
       "first_browser_SlimBrowser             1.0\n",
       "first_browser_Sogou Explorer          1.0\n",
       "first_browser_Stainless               1.0\n",
       "first_browser_TenFourFox              1.0\n",
       "first_browser_TheWorld Browser        1.0\n",
       "first_browser_Yandex.Browser          1.0\n",
       "first_browser_wOSBrowser              1.0\n",
       "dtype: float64"
      ]
     },
     "execution_count": 47,
     "metadata": {},
     "output_type": "execute_result"
    }
   ],
   "source": [
    "\n",
    "x_train[\"age\"] = x_train[\"age\"]/2014\n",
    "x_train[\"signup_flow\"] = x_train[\"signup_flow\"]/25\n",
    "\n",
    "x_train.max()\n",
    "\n"
   ]
  },
  {
   "cell_type": "code",
   "execution_count": 48,
   "metadata": {
    "collapsed": false
   },
   "outputs": [
    {
     "data": {
      "text/plain": [
       "(213451, 12)"
      ]
     },
     "execution_count": 48,
     "metadata": {},
     "output_type": "execute_result"
    }
   ],
   "source": [
    "y = pd.get_dummies(Y, prefix=\"countary\")\n",
    "y.shape"
   ]
  },
  {
   "cell_type": "code",
   "execution_count": 50,
   "metadata": {
    "collapsed": false
   },
   "outputs": [
    {
     "name": "stdout",
     "output_type": "stream",
     "text": [
      "_________________________________________________________________\n",
      "Layer (type)                 Output Shape              Param #   \n",
      "=================================================================\n",
      "dense_10 (Dense)             (None, 20000)             2660000   \n",
      "_________________________________________________________________\n",
      "activation_8 (Activation)    (None, 20000)             0         \n",
      "_________________________________________________________________\n",
      "dropout_1 (Dropout)          (None, 20000)             0         \n",
      "_________________________________________________________________\n",
      "dense_11 (Dense)             (None, 2000)              40002000  \n",
      "_________________________________________________________________\n",
      "activation_9 (Activation)    (None, 2000)              0         \n",
      "_________________________________________________________________\n",
      "dropout_2 (Dropout)          (None, 2000)              0         \n",
      "_________________________________________________________________\n",
      "dense_12 (Dense)             (None, 200)               400200    \n",
      "_________________________________________________________________\n",
      "activation_10 (Activation)   (None, 200)               0         \n",
      "_________________________________________________________________\n",
      "dense_13 (Dense)             (None, 12)                2412      \n",
      "=================================================================\n",
      "Total params: 43,064,612\n",
      "Trainable params: 43,064,612\n",
      "Non-trainable params: 0\n",
      "_________________________________________________________________\n"
     ]
    },
    {
     "name": "stderr",
     "output_type": "stream",
     "text": [
      "/Users/lixiaochi/anaconda/lib/python2.7/site-packages/ipykernel/__main__.py:5: UserWarning: Update your `Dense` call to the Keras 2 API: `Dense(20000, kernel_regularizer=<keras.reg..., input_dim=132)`\n",
      "/Users/lixiaochi/anaconda/lib/python2.7/site-packages/ipykernel/__main__.py:9: UserWarning: Update your `Dense` call to the Keras 2 API: `Dense(2000, kernel_regularizer=<keras.reg...)`\n",
      "/Users/lixiaochi/anaconda/lib/python2.7/site-packages/ipykernel/__main__.py:13: UserWarning: Update your `Dense` call to the Keras 2 API: `Dense(200, kernel_regularizer=<keras.reg...)`\n"
     ]
    }
   ],
   "source": [
    "model = Sequential()\n",
    "\n",
    "# 1st Layer - Add an input layer of 132 nodes with the same input shape as\n",
    "# the training samples in X\n",
    "model.add(Dense(20000, input_dim = 132 ,W_regularizer = l2(.01)))\n",
    "model.add(Activation('relu'))\n",
    "model.add(keras.layers.Dropout(0.2))\n",
    "\n",
    "model.add(Dense(2000,W_regularizer = l2(.01)))\n",
    "model.add(Activation('relu'))\n",
    "model.add(keras.layers.Dropout(0.2))\n",
    "\n",
    "model.add(Dense(200,W_regularizer = l2(.01)))\n",
    "model.add(Activation('sigmoid'))\n",
    "\n",
    "model.add(Dense(12, activation = 'softmax'))\n",
    "model.compile(loss=\"categorical_crossentropy\", optimizer=\"RMSProp\", metrics = [\"accuracy\"])\n",
    "# Uncomment this line to print the model architecture\n",
    "model.summary()"
   ]
  },
  {
   "cell_type": "code",
   "execution_count": 51,
   "metadata": {
    "collapsed": true
   },
   "outputs": [],
   "source": [
    "# class EarlyStoppingByLossVal(Callback):\n",
    "#     def __init__(self, monitor='val_loss', value=0.00001, verbose=0):\n",
    "#         super(Callback, self).__init__()\n",
    "#         self.monitor = monitor\n",
    "#         self.value = value\n",
    "#         self.verbose = verbose\n",
    "\n",
    "#     def on_epoch_end(self, epoch, logs={}):\n",
    "#         current = logs.get(self.monitor)\n",
    "#         if current is None:\n",
    "#             warnings.warn(\"Early stopping requires %s available!\" % self.monitor, RuntimeWarning)\n",
    "\n",
    "#         if current < self.value:\n",
    "#             if self.verbose > 0:\n",
    "#                 print(\"Epoch %05d: early stopping THR\" % epoch)\n",
    "#             self.model.stop_training = True"
   ]
  },
  {
   "cell_type": "code",
   "execution_count": null,
   "metadata": {
    "collapsed": false
   },
   "outputs": [
    {
     "name": "stdout",
     "output_type": "stream",
     "text": [
      "Train on 106725 samples, validate on 106726 samples\n",
      "Epoch 1/2000\n"
     ]
    }
   ],
   "source": [
    "callbacks = [\n",
    "   keras.callbacks.EarlyStopping(monitor='val_loss', min_delta=0.01, patience=0, verbose=2, mode='auto')\n",
    "]\n",
    "#convert datafram to np-array\n",
    "x_train=np.array(x_train)\n",
    "y=np.array(y)\n",
    "x_nw_train, x_nw_test, y_nw_train, y_nw_test = train_test_split(x_train,y, test_size=0.5)\n",
    "model.fit(x_nw_train, y_nw_train, validation_data=(x_nw_test,y_nw_test),epochs = 834, batch_size=128, verbose=2,callbacks=callbacks)\n"
   ]
  },
  {
   "cell_type": "code",
   "execution_count": 17,
   "metadata": {
    "collapsed": false
   },
   "outputs": [],
   "source": [
    "keras.utils.plot_model(model, to_file='model.png', show_shapes=False, show_layer_names=True, rankdir='TB')"
   ]
  },
  {
   "cell_type": "code",
   "execution_count": null,
   "metadata": {
    "collapsed": false
   },
   "outputs": [],
   "source": [
    "y_nw_predict"
   ]
  },
  {
   "cell_type": "code",
   "execution_count": 57,
   "metadata": {
    "collapsed": false
   },
   "outputs": [
    {
     "data": {
      "text/plain": [
       "array([[0, 0, 0, 0, 0, 0, 0, 0, 0, 0, 1, 0],\n",
       "       [0, 0, 0, 0, 0, 0, 0, 0, 0, 0, 1, 0],\n",
       "       [0, 0, 0, 0, 0, 0, 0, 1, 0, 0, 0, 0],\n",
       "       [0, 0, 0, 0, 0, 0, 0, 1, 0, 0, 0, 0],\n",
       "       [0, 0, 0, 0, 0, 0, 0, 1, 0, 0, 0, 0]], dtype=uint8)"
      ]
     },
     "execution_count": 57,
     "metadata": {},
     "output_type": "execute_result"
    }
   ],
   "source": []
  },
  {
   "cell_type": "code",
   "execution_count": null,
   "metadata": {
    "collapsed": true
   },
   "outputs": [],
   "source": []
  }
 ],
 "metadata": {
  "kernelspec": {
   "display_name": "Python 2",
   "language": "python",
   "name": "python2"
  },
  "language_info": {
   "codemirror_mode": {
    "name": "ipython",
    "version": 2
   },
   "file_extension": ".py",
   "mimetype": "text/x-python",
   "name": "python",
   "nbconvert_exporter": "python",
   "pygments_lexer": "ipython2",
   "version": "2.7.13"
  }
 },
 "nbformat": 4,
 "nbformat_minor": 2
}
